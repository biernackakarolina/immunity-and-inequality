{
 "cells": [
  {
   "cell_type": "markdown",
   "id": "fe43f0c5-3c37-420b-97aa-acd14e7dad1d",
   "metadata": {},
   "source": [
    "# Data Preparation"
   ]
  },
  {
   "cell_type": "markdown",
   "id": "12a10f9a-5cae-4b2b-ac12-dca8231d8da2",
   "metadata": {},
   "source": [
    "## Introduction"
   ]
  },
  {
   "cell_type": "markdown",
   "id": "281f187e-b70d-46e8-96d9-6104a69fde1e",
   "metadata": {},
   "source": [
    "**Context & Motivation**\n",
    "\n",
    "Vaccination is a cornerstone of public health, contributing significantly to the prevention of disease and the reduction of child mortality worldwide. Despite its proven effectiveness, global access to and trust in vaccines remains uneven — influenced by political, economic, and cultural factors. This project explores these dynamics from a data-driven perspective.\n",
    "\n",
    "**Objectives**\n",
    "1. Read data for various sources (UNICEF, World Bank, World Values Survey, V Dem) using REST API and csv files\n",
    "2. Handle missing data (or exclude dataset if needed)\n",
    "4. Ensure consistency (country names, data format, etc.)\n",
    "5. Merge data for final dataset "
   ]
  },
  {
   "cell_type": "markdown",
   "id": "a1f69834-37fb-448e-88c4-8941a5747cd8",
   "metadata": {},
   "source": [
    "The final dataset will include the following variables:\n",
    "1. **iso3** - ISO alfa-3 standardized code - REST countries\n",
    "2. **country** - common name - REST countries\n",
    "3. **region** - region name - REST countries\n",
    "4. **subregion** - sub-region name - REST countries\n",
    "5. **year** - applicable year\n",
    "6. **vac_index** - index of vaccination calculated as average of % ofvaccinated population with globally recommended vaccines (BCG, DTP3, POL3, IPV2, MCV2, RCV1, HEPB3, HEPBB, HIB3, PCV3, ROTAC) - UNICEF\n",
    "7. **gpd** - gdp per capita (US$) - World Bank\n",
    "8. **health_exp** - health expenditure (% of GDP) - World Bank\n",
    "9. **child_mort** - under 5 years old children mortality (per 1000 live births) - World Bank\n",
    "10. **internet_use** - % of population using internet - World Bank\n",
    "11. **gov_trust** - % of population trusting government (yes/no) - UNICEF\n",
    "12. **polarization** - score based on expert assessments of societal divisions - World Values (V-Dem) Survey"
   ]
  },
  {
   "cell_type": "markdown",
   "id": "daab2d70-7cff-457c-ae03-0e34ea17be32",
   "metadata": {},
   "source": [
    "Separated DataSets will be used in relational PowerBI database, whereas merged dataframe in exploratory analysis and predictions."
   ]
  },
  {
   "cell_type": "code",
   "execution_count": 1,
   "id": "dbedebc2-41e4-4e4a-96d2-11bf18c0867a",
   "metadata": {},
   "outputs": [],
   "source": [
    "#importing libraries\n",
    "import pandas as pd\n",
    "import numpy as np\n",
    "import wbgapi as wb\n",
    "import requests"
   ]
  },
  {
   "cell_type": "markdown",
   "id": "11d5d7b1-7184-448a-8642-3b9803b5f9a8",
   "metadata": {},
   "source": [
    "## Country names"
   ]
  },
  {
   "cell_type": "code",
   "execution_count": 2,
   "id": "55c835a4-77b6-45b7-aba4-670a810bacd9",
   "metadata": {},
   "outputs": [],
   "source": [
    "# Fetch data from REST Countries API\n",
    "url = \"https://restcountries.com/v3.1/all?fields=cca3,name,region,subregion,area,population\"\n",
    "response = requests.get(url)\n",
    "data = response.json()"
   ]
  },
  {
   "cell_type": "code",
   "execution_count": 3,
   "id": "56c4df8f-e9f5-4ad4-86fb-f45b7262ef60",
   "metadata": {},
   "outputs": [
    {
     "data": {
      "text/html": [
       "<div>\n",
       "<style scoped>\n",
       "    .dataframe tbody tr th:only-of-type {\n",
       "        vertical-align: middle;\n",
       "    }\n",
       "\n",
       "    .dataframe tbody tr th {\n",
       "        vertical-align: top;\n",
       "    }\n",
       "\n",
       "    .dataframe thead th {\n",
       "        text-align: right;\n",
       "    }\n",
       "</style>\n",
       "<table border=\"1\" class=\"dataframe\">\n",
       "  <thead>\n",
       "    <tr style=\"text-align: right;\">\n",
       "      <th></th>\n",
       "      <th>iso3</th>\n",
       "      <th>country</th>\n",
       "      <th>region</th>\n",
       "      <th>subregion</th>\n",
       "    </tr>\n",
       "  </thead>\n",
       "  <tbody>\n",
       "    <tr>\n",
       "      <th>0</th>\n",
       "      <td>TGO</td>\n",
       "      <td>Togo</td>\n",
       "      <td>Africa</td>\n",
       "      <td>Western Africa</td>\n",
       "    </tr>\n",
       "    <tr>\n",
       "      <th>1</th>\n",
       "      <td>MYT</td>\n",
       "      <td>Mayotte</td>\n",
       "      <td>Africa</td>\n",
       "      <td>Eastern Africa</td>\n",
       "    </tr>\n",
       "    <tr>\n",
       "      <th>2</th>\n",
       "      <td>GEO</td>\n",
       "      <td>Georgia</td>\n",
       "      <td>Asia</td>\n",
       "      <td>Western Asia</td>\n",
       "    </tr>\n",
       "    <tr>\n",
       "      <th>3</th>\n",
       "      <td>VUT</td>\n",
       "      <td>Vanuatu</td>\n",
       "      <td>Oceania</td>\n",
       "      <td>Melanesia</td>\n",
       "    </tr>\n",
       "    <tr>\n",
       "      <th>4</th>\n",
       "      <td>KGZ</td>\n",
       "      <td>Kyrgyzstan</td>\n",
       "      <td>Asia</td>\n",
       "      <td>Central Asia</td>\n",
       "    </tr>\n",
       "  </tbody>\n",
       "</table>\n",
       "</div>"
      ],
      "text/plain": [
       "  iso3     country   region       subregion\n",
       "0  TGO        Togo   Africa  Western Africa\n",
       "1  MYT     Mayotte   Africa  Eastern Africa\n",
       "2  GEO     Georgia     Asia    Western Asia\n",
       "3  VUT     Vanuatu  Oceania       Melanesia\n",
       "4  KGZ  Kyrgyzstan     Asia    Central Asia"
      ]
     },
     "execution_count": 3,
     "metadata": {},
     "output_type": "execute_result"
    }
   ],
   "source": [
    "# Extract relevant fields\n",
    "country_list = [\n",
    "    {'iso3': country['cca3'],\n",
    "     'country': country['name']['common'],\n",
    "     'region': country['region'],\n",
    "     'subregion': country['subregion']}\n",
    "    for country in data]\n",
    "\n",
    "# Convert to pandas DataFrame\n",
    "geo_df = pd.DataFrame(country_list)\n",
    "geo_df.head(5)"
   ]
  },
  {
   "cell_type": "markdown",
   "id": "4a51e317-e3a9-4548-8e9c-5aea0171db4a",
   "metadata": {},
   "source": [
    "## Vaccinations - Target Variable"
   ]
  },
  {
   "cell_type": "markdown",
   "id": "3705ae3e-0faf-4320-81cf-1d7a06c8fb43",
   "metadata": {},
   "source": [
    "Vaccinations Excel includes UNICEF data on % of population being vaccinated in a given year. Each vaccine data is included in a separate tab. As some vaccines are only recommended for a few regions, there will be excluded from the analysis for a consistency."
   ]
  },
  {
   "cell_type": "markdown",
   "id": "37df6230-2f67-43d1-8ba9-a035ed72f158",
   "metadata": {},
   "source": [
    "### All Vaccines DataFrame"
   ]
  },
  {
   "cell_type": "code",
   "execution_count": 4,
   "id": "ada53999-2997-41f3-b8c7-788cc7b1741a",
   "metadata": {},
   "outputs": [
    {
     "data": {
      "text/plain": [
       "['ReadMe',\n",
       " 'BCG',\n",
       " 'DTP1',\n",
       " 'DTP3',\n",
       " 'HEPB3',\n",
       " 'HEPBB',\n",
       " 'HIB3',\n",
       " 'IPV1',\n",
       " 'IPV2',\n",
       " 'MCV1',\n",
       " 'MCV2',\n",
       " 'MENGA',\n",
       " 'PCV3',\n",
       " 'POL3',\n",
       " 'RCV1',\n",
       " 'ROTAC',\n",
       " 'YFV',\n",
       " 'regional_global']"
      ]
     },
     "execution_count": 4,
     "metadata": {},
     "output_type": "execute_result"
    }
   ],
   "source": [
    "#reading the file to get sheet names\n",
    "vaccines = pd.ExcelFile('01_Vaccinations.xlsx')\n",
    "\n",
    "#listing sheet names\n",
    "vaccines.sheet_names"
   ]
  },
  {
   "cell_type": "code",
   "execution_count": 5,
   "id": "aff7449a-3366-4507-b1b8-8ceec5a1d19a",
   "metadata": {},
   "outputs": [
    {
     "data": {
      "text/html": [
       "<div>\n",
       "<style scoped>\n",
       "    .dataframe tbody tr th:only-of-type {\n",
       "        vertical-align: middle;\n",
       "    }\n",
       "\n",
       "    .dataframe tbody tr th {\n",
       "        vertical-align: top;\n",
       "    }\n",
       "\n",
       "    .dataframe thead th {\n",
       "        text-align: right;\n",
       "    }\n",
       "</style>\n",
       "<table border=\"1\" class=\"dataframe\">\n",
       "  <thead>\n",
       "    <tr style=\"text-align: right;\">\n",
       "      <th></th>\n",
       "      <th>unicef_region</th>\n",
       "      <th>iso3</th>\n",
       "      <th>country</th>\n",
       "      <th>vaccine</th>\n",
       "      <th>2023</th>\n",
       "      <th>2022</th>\n",
       "      <th>2021</th>\n",
       "      <th>2020</th>\n",
       "      <th>2019</th>\n",
       "      <th>2018</th>\n",
       "      <th>...</th>\n",
       "      <th>2009</th>\n",
       "      <th>2008</th>\n",
       "      <th>2007</th>\n",
       "      <th>2006</th>\n",
       "      <th>2005</th>\n",
       "      <th>2004</th>\n",
       "      <th>2003</th>\n",
       "      <th>2002</th>\n",
       "      <th>2001</th>\n",
       "      <th>2000</th>\n",
       "    </tr>\n",
       "  </thead>\n",
       "  <tbody>\n",
       "    <tr>\n",
       "      <th>0</th>\n",
       "      <td>ROSA</td>\n",
       "      <td>AFG</td>\n",
       "      <td>Afghanistan</td>\n",
       "      <td>BCG</td>\n",
       "      <td>68.0</td>\n",
       "      <td>69.0</td>\n",
       "      <td>65.0</td>\n",
       "      <td>72.0</td>\n",
       "      <td>74.0</td>\n",
       "      <td>82.0</td>\n",
       "      <td>...</td>\n",
       "      <td>64.0</td>\n",
       "      <td>66.0</td>\n",
       "      <td>60.0</td>\n",
       "      <td>60.0</td>\n",
       "      <td>57.0</td>\n",
       "      <td>51.0</td>\n",
       "      <td>44.0</td>\n",
       "      <td>46.0</td>\n",
       "      <td>43.0</td>\n",
       "      <td>30.0</td>\n",
       "    </tr>\n",
       "    <tr>\n",
       "      <th>1</th>\n",
       "      <td>ECAR</td>\n",
       "      <td>ALB</td>\n",
       "      <td>Albania</td>\n",
       "      <td>BCG</td>\n",
       "      <td>99.0</td>\n",
       "      <td>99.0</td>\n",
       "      <td>99.0</td>\n",
       "      <td>98.0</td>\n",
       "      <td>99.0</td>\n",
       "      <td>99.0</td>\n",
       "      <td>...</td>\n",
       "      <td>97.0</td>\n",
       "      <td>99.0</td>\n",
       "      <td>98.0</td>\n",
       "      <td>97.0</td>\n",
       "      <td>98.0</td>\n",
       "      <td>97.0</td>\n",
       "      <td>95.0</td>\n",
       "      <td>94.0</td>\n",
       "      <td>93.0</td>\n",
       "      <td>93.0</td>\n",
       "    </tr>\n",
       "    <tr>\n",
       "      <th>2</th>\n",
       "      <td>MENA</td>\n",
       "      <td>DZA</td>\n",
       "      <td>Algeria</td>\n",
       "      <td>BCG</td>\n",
       "      <td>99.0</td>\n",
       "      <td>98.0</td>\n",
       "      <td>98.0</td>\n",
       "      <td>99.0</td>\n",
       "      <td>99.0</td>\n",
       "      <td>99.0</td>\n",
       "      <td>...</td>\n",
       "      <td>99.0</td>\n",
       "      <td>99.0</td>\n",
       "      <td>99.0</td>\n",
       "      <td>99.0</td>\n",
       "      <td>98.0</td>\n",
       "      <td>98.0</td>\n",
       "      <td>98.0</td>\n",
       "      <td>98.0</td>\n",
       "      <td>97.0</td>\n",
       "      <td>97.0</td>\n",
       "    </tr>\n",
       "    <tr>\n",
       "      <th>3</th>\n",
       "      <td>ESAR</td>\n",
       "      <td>AGO</td>\n",
       "      <td>Angola</td>\n",
       "      <td>BCG</td>\n",
       "      <td>73.0</td>\n",
       "      <td>60.0</td>\n",
       "      <td>56.0</td>\n",
       "      <td>58.0</td>\n",
       "      <td>69.0</td>\n",
       "      <td>72.0</td>\n",
       "      <td>...</td>\n",
       "      <td>70.0</td>\n",
       "      <td>73.0</td>\n",
       "      <td>75.0</td>\n",
       "      <td>54.0</td>\n",
       "      <td>51.0</td>\n",
       "      <td>63.0</td>\n",
       "      <td>54.0</td>\n",
       "      <td>76.0</td>\n",
       "      <td>70.0</td>\n",
       "      <td>53.0</td>\n",
       "    </tr>\n",
       "    <tr>\n",
       "      <th>4</th>\n",
       "      <td>LACR</td>\n",
       "      <td>ARG</td>\n",
       "      <td>Argentina</td>\n",
       "      <td>BCG</td>\n",
       "      <td>69.0</td>\n",
       "      <td>81.0</td>\n",
       "      <td>80.0</td>\n",
       "      <td>75.0</td>\n",
       "      <td>85.0</td>\n",
       "      <td>93.0</td>\n",
       "      <td>...</td>\n",
       "      <td>99.0</td>\n",
       "      <td>99.0</td>\n",
       "      <td>99.0</td>\n",
       "      <td>99.0</td>\n",
       "      <td>99.0</td>\n",
       "      <td>99.0</td>\n",
       "      <td>99.0</td>\n",
       "      <td>95.0</td>\n",
       "      <td>92.0</td>\n",
       "      <td>95.0</td>\n",
       "    </tr>\n",
       "  </tbody>\n",
       "</table>\n",
       "<p>5 rows × 28 columns</p>\n",
       "</div>"
      ],
      "text/plain": [
       "  unicef_region iso3      country vaccine  2023  2022  2021  2020  2019  2018  \\\n",
       "0          ROSA  AFG  Afghanistan     BCG  68.0  69.0  65.0  72.0  74.0  82.0   \n",
       "1          ECAR  ALB      Albania     BCG  99.0  99.0  99.0  98.0  99.0  99.0   \n",
       "2          MENA  DZA      Algeria     BCG  99.0  98.0  98.0  99.0  99.0  99.0   \n",
       "3          ESAR  AGO       Angola     BCG  73.0  60.0  56.0  58.0  69.0  72.0   \n",
       "4          LACR  ARG    Argentina     BCG  69.0  81.0  80.0  75.0  85.0  93.0   \n",
       "\n",
       "   ...  2009  2008  2007  2006  2005  2004  2003  2002  2001  2000  \n",
       "0  ...  64.0  66.0  60.0  60.0  57.0  51.0  44.0  46.0  43.0  30.0  \n",
       "1  ...  97.0  99.0  98.0  97.0  98.0  97.0  95.0  94.0  93.0  93.0  \n",
       "2  ...  99.0  99.0  99.0  99.0  98.0  98.0  98.0  98.0  97.0  97.0  \n",
       "3  ...  70.0  73.0  75.0  54.0  51.0  63.0  54.0  76.0  70.0  53.0  \n",
       "4  ...  99.0  99.0  99.0  99.0  99.0  99.0  99.0  95.0  92.0  95.0  \n",
       "\n",
       "[5 rows x 28 columns]"
      ]
     },
     "execution_count": 5,
     "metadata": {},
     "output_type": "execute_result"
    }
   ],
   "source": [
    "# Read in each sheet for vaccines to be included in the analysis\n",
    "sheet_names = ['BCG' , 'DTP3', 'POL3', 'IPV2', 'MCV2', 'RCV1', 'HEPB3', 'HEPBB', 'HIB3', 'PCV3', 'ROTAC']\n",
    "sheets = [vaccines.parse(name) for name in sheet_names] \n",
    "\n",
    "# Combine them into one dataframe\n",
    "vac_df = pd.concat(sheets, ignore_index=True)\n",
    "vac_df.head()"
   ]
  },
  {
   "cell_type": "code",
   "execution_count": 6,
   "id": "6e494bfc-e531-4157-a753-633e4ec4160a",
   "metadata": {},
   "outputs": [],
   "source": [
    "#choosing applicable columns and reordering\n",
    "vac_df = vac_df.iloc[:, [1, 3, 15, 14, 13, 12, 11, 10, 9, 8, 7, 6, 5]]"
   ]
  },
  {
   "cell_type": "code",
   "execution_count": 7,
   "id": "02da8d65-310d-4210-b40e-6dcb34fb0bd3",
   "metadata": {},
   "outputs": [
    {
     "data": {
      "text/plain": [
       "(1782, 13)"
      ]
     },
     "execution_count": 7,
     "metadata": {},
     "output_type": "execute_result"
    }
   ],
   "source": [
    "#getting number of rows and columns\n",
    "vac_df.shape"
   ]
  },
  {
   "cell_type": "code",
   "execution_count": 8,
   "id": "2ccfd0ec-e5a2-4835-b7f7-1b54c3c0a6ed",
   "metadata": {},
   "outputs": [
    {
     "data": {
      "text/plain": [
       "iso3        object\n",
       "vaccine     object\n",
       "2012       float64\n",
       "2013       float64\n",
       "2014       float64\n",
       "2015       float64\n",
       "2016       float64\n",
       "2017       float64\n",
       "2018       float64\n",
       "2019       float64\n",
       "2020       float64\n",
       "2021       float64\n",
       "2022       float64\n",
       "dtype: object"
      ]
     },
     "execution_count": 8,
     "metadata": {},
     "output_type": "execute_result"
    }
   ],
   "source": [
    "#listing datatypes\n",
    "vac_df.dtypes"
   ]
  },
  {
   "cell_type": "markdown",
   "id": "55915eab-2bbb-4f29-ba39-14c46782f057",
   "metadata": {},
   "source": [
    " "
   ]
  },
  {
   "cell_type": "markdown",
   "id": "58dceb9a-10f7-41d6-afe5-225fb3fd48d0",
   "metadata": {},
   "source": [
    "###  Vaccination Index"
   ]
  },
  {
   "cell_type": "markdown",
   "id": "abfe2f5f-648d-41ed-afbe-86bb8b33c0cf",
   "metadata": {},
   "source": [
    "As data on specific vaccines could be possibly used in the analysis, there will be new dataframe created for vaccination index - mean score of vaccinations for included vaccines. "
   ]
  },
  {
   "cell_type": "code",
   "execution_count": 9,
   "id": "16997857-f86e-4673-b0e4-8b6808c01b04",
   "metadata": {},
   "outputs": [
    {
     "data": {
      "text/html": [
       "<div>\n",
       "<style scoped>\n",
       "    .dataframe tbody tr th:only-of-type {\n",
       "        vertical-align: middle;\n",
       "    }\n",
       "\n",
       "    .dataframe tbody tr th {\n",
       "        vertical-align: top;\n",
       "    }\n",
       "\n",
       "    .dataframe thead th {\n",
       "        text-align: right;\n",
       "    }\n",
       "</style>\n",
       "<table border=\"1\" class=\"dataframe\">\n",
       "  <thead>\n",
       "    <tr style=\"text-align: right;\">\n",
       "      <th></th>\n",
       "      <th>iso3</th>\n",
       "      <th>2012</th>\n",
       "      <th>2013</th>\n",
       "      <th>2014</th>\n",
       "      <th>2015</th>\n",
       "      <th>2016</th>\n",
       "      <th>2017</th>\n",
       "      <th>2018</th>\n",
       "      <th>2019</th>\n",
       "      <th>2020</th>\n",
       "      <th>2021</th>\n",
       "      <th>2022</th>\n",
       "    </tr>\n",
       "  </thead>\n",
       "  <tbody>\n",
       "    <tr>\n",
       "      <th>0</th>\n",
       "      <td>AFG</td>\n",
       "      <td>62.50</td>\n",
       "      <td>60.83</td>\n",
       "      <td>52.75</td>\n",
       "      <td>56.25</td>\n",
       "      <td>57.12</td>\n",
       "      <td>57.75</td>\n",
       "      <td>60.44</td>\n",
       "      <td>59.33</td>\n",
       "      <td>58.44</td>\n",
       "      <td>51.80</td>\n",
       "      <td>56.40</td>\n",
       "    </tr>\n",
       "    <tr>\n",
       "      <th>1</th>\n",
       "      <td>AGO</td>\n",
       "      <td>56.80</td>\n",
       "      <td>48.33</td>\n",
       "      <td>50.71</td>\n",
       "      <td>51.75</td>\n",
       "      <td>48.75</td>\n",
       "      <td>50.25</td>\n",
       "      <td>55.78</td>\n",
       "      <td>54.56</td>\n",
       "      <td>47.89</td>\n",
       "      <td>40.00</td>\n",
       "      <td>36.50</td>\n",
       "    </tr>\n",
       "    <tr>\n",
       "      <th>2</th>\n",
       "      <td>ALB</td>\n",
       "      <td>98.33</td>\n",
       "      <td>99.00</td>\n",
       "      <td>98.33</td>\n",
       "      <td>98.67</td>\n",
       "      <td>98.00</td>\n",
       "      <td>98.56</td>\n",
       "      <td>98.00</td>\n",
       "      <td>97.89</td>\n",
       "      <td>96.40</td>\n",
       "      <td>95.82</td>\n",
       "      <td>95.27</td>\n",
       "    </tr>\n",
       "    <tr>\n",
       "      <th>3</th>\n",
       "      <td>AND</td>\n",
       "      <td>96.29</td>\n",
       "      <td>94.86</td>\n",
       "      <td>94.88</td>\n",
       "      <td>94.38</td>\n",
       "      <td>95.12</td>\n",
       "      <td>98.00</td>\n",
       "      <td>97.57</td>\n",
       "      <td>97.57</td>\n",
       "      <td>97.29</td>\n",
       "      <td>97.71</td>\n",
       "      <td>96.71</td>\n",
       "    </tr>\n",
       "    <tr>\n",
       "      <th>4</th>\n",
       "      <td>ARE</td>\n",
       "      <td>95.78</td>\n",
       "      <td>97.33</td>\n",
       "      <td>93.00</td>\n",
       "      <td>97.20</td>\n",
       "      <td>98.20</td>\n",
       "      <td>96.30</td>\n",
       "      <td>97.70</td>\n",
       "      <td>96.00</td>\n",
       "      <td>88.10</td>\n",
       "      <td>95.91</td>\n",
       "      <td>94.73</td>\n",
       "    </tr>\n",
       "  </tbody>\n",
       "</table>\n",
       "</div>"
      ],
      "text/plain": [
       "  iso3   2012   2013   2014   2015   2016   2017   2018   2019   2020   2021  \\\n",
       "0  AFG  62.50  60.83  52.75  56.25  57.12  57.75  60.44  59.33  58.44  51.80   \n",
       "1  AGO  56.80  48.33  50.71  51.75  48.75  50.25  55.78  54.56  47.89  40.00   \n",
       "2  ALB  98.33  99.00  98.33  98.67  98.00  98.56  98.00  97.89  96.40  95.82   \n",
       "3  AND  96.29  94.86  94.88  94.38  95.12  98.00  97.57  97.57  97.29  97.71   \n",
       "4  ARE  95.78  97.33  93.00  97.20  98.20  96.30  97.70  96.00  88.10  95.91   \n",
       "\n",
       "    2022  \n",
       "0  56.40  \n",
       "1  36.50  \n",
       "2  95.27  \n",
       "3  96.71  \n",
       "4  94.73  "
      ]
     },
     "execution_count": 9,
     "metadata": {},
     "output_type": "execute_result"
    }
   ],
   "source": [
    "#removing vaccine type column\n",
    "v_index_df = vac_df.drop(['vaccine'], axis=1)\n",
    "\n",
    "#calculating vaccination index \n",
    "v_index_df = v_index_df.groupby(['iso3']).mean().round(2)\n",
    "v_index_df.reset_index(inplace=True)\n",
    "v_index_df.head()"
   ]
  },
  {
   "cell_type": "code",
   "execution_count": 10,
   "id": "305161b8-bddd-451f-b2dd-1ff9d81dd490",
   "metadata": {},
   "outputs": [
    {
     "data": {
      "text/plain": [
       "(195, 12)"
      ]
     },
     "execution_count": 10,
     "metadata": {},
     "output_type": "execute_result"
    }
   ],
   "source": [
    "#checking number of countries in index df\n",
    "v_index_df.shape"
   ]
  },
  {
   "cell_type": "code",
   "execution_count": 11,
   "id": "33393dff-fbb3-4cbf-88c9-d51bc8161bcb",
   "metadata": {},
   "outputs": [
    {
     "data": {
      "text/plain": [
       "iso3    0\n",
       "2012    0\n",
       "2013    0\n",
       "2014    0\n",
       "2015    0\n",
       "2016    0\n",
       "2017    0\n",
       "2018    0\n",
       "2019    0\n",
       "2020    0\n",
       "2021    0\n",
       "2022    0\n",
       "dtype: int64"
      ]
     },
     "execution_count": 11,
     "metadata": {},
     "output_type": "execute_result"
    }
   ],
   "source": [
    "#checking missing values\n",
    "v_index_df.isna().sum()"
   ]
  },
  {
   "cell_type": "markdown",
   "id": "fe5d6afe-cb99-4fb4-b208-f05df413c5ee",
   "metadata": {},
   "source": [
    " "
   ]
  },
  {
   "cell_type": "markdown",
   "id": "94f36952-430f-4f40-bedc-d0b67ec117be",
   "metadata": {},
   "source": [
    "## Socio-Economic Variables"
   ]
  },
  {
   "cell_type": "markdown",
   "id": "bd407eab-254c-420c-9624-4c406fc8aac0",
   "metadata": {},
   "source": [
    "Data in this section comes from World Bank and have analogical structure."
   ]
  },
  {
   "cell_type": "code",
   "execution_count": 12,
   "id": "b46cd86d-3940-4900-911d-8ce1f827fe73",
   "metadata": {},
   "outputs": [],
   "source": [
    "# List of World Bank indicators\n",
    "indicators = {\n",
    "    'NY.GDP.PCAP.CD': 'gdp',\n",
    "    'SI.POV.GINI': 'gini',\n",
    "    'SH.XPD.CHEX.GD.ZS': 'health_exp',\n",
    "    'SH.DYN.MORT': 'child_mort',\n",
    "    'IT.NET.USER.ZS': 'internet_use'}"
   ]
  },
  {
   "cell_type": "code",
   "execution_count": 13,
   "id": "1003fb9e-297b-45b7-9503-6730018f3f94",
   "metadata": {},
   "outputs": [
    {
     "data": {
      "text/html": [
       "<div>\n",
       "<style scoped>\n",
       "    .dataframe tbody tr th:only-of-type {\n",
       "        vertical-align: middle;\n",
       "    }\n",
       "\n",
       "    .dataframe tbody tr th {\n",
       "        vertical-align: top;\n",
       "    }\n",
       "\n",
       "    .dataframe thead th {\n",
       "        text-align: right;\n",
       "    }\n",
       "</style>\n",
       "<table border=\"1\" class=\"dataframe\">\n",
       "  <thead>\n",
       "    <tr style=\"text-align: right;\">\n",
       "      <th></th>\n",
       "      <th>economy</th>\n",
       "      <th>series</th>\n",
       "      <th>Country</th>\n",
       "      <th>Series</th>\n",
       "      <th>YR2012</th>\n",
       "      <th>YR2013</th>\n",
       "      <th>YR2014</th>\n",
       "      <th>YR2015</th>\n",
       "      <th>YR2016</th>\n",
       "      <th>YR2017</th>\n",
       "      <th>YR2018</th>\n",
       "      <th>YR2019</th>\n",
       "      <th>YR2020</th>\n",
       "      <th>YR2021</th>\n",
       "      <th>YR2022</th>\n",
       "    </tr>\n",
       "  </thead>\n",
       "  <tbody>\n",
       "    <tr>\n",
       "      <th>0</th>\n",
       "      <td>ZWE</td>\n",
       "      <td>NY.GDP.PCAP.CD</td>\n",
       "      <td>Zimbabwe</td>\n",
       "      <td>GDP per capita (current US$)</td>\n",
       "      <td>1238.601090</td>\n",
       "      <td>1362.300668</td>\n",
       "      <td>1372.212781</td>\n",
       "      <td>1386.422847</td>\n",
       "      <td>1407.415364</td>\n",
       "      <td>3448.082537</td>\n",
       "      <td>2271.853335</td>\n",
       "      <td>1684.027904</td>\n",
       "      <td>1730.413489</td>\n",
       "      <td>1724.387731</td>\n",
       "      <td>2040.552459</td>\n",
       "    </tr>\n",
       "    <tr>\n",
       "      <th>1</th>\n",
       "      <td>ZMB</td>\n",
       "      <td>NY.GDP.PCAP.CD</td>\n",
       "      <td>Zambia</td>\n",
       "      <td>GDP per capita (current US$)</td>\n",
       "      <td>1710.050613</td>\n",
       "      <td>1820.718548</td>\n",
       "      <td>1707.485731</td>\n",
       "      <td>1295.877887</td>\n",
       "      <td>1239.085279</td>\n",
       "      <td>1483.465773</td>\n",
       "      <td>1463.899979</td>\n",
       "      <td>1258.986198</td>\n",
       "      <td>951.644317</td>\n",
       "      <td>1127.160779</td>\n",
       "      <td>1447.123101</td>\n",
       "    </tr>\n",
       "    <tr>\n",
       "      <th>2</th>\n",
       "      <td>YEM</td>\n",
       "      <td>NY.GDP.PCAP.CD</td>\n",
       "      <td>Yemen, Rep.</td>\n",
       "      <td>GDP per capita (current US$)</td>\n",
       "      <td>1245.050683</td>\n",
       "      <td>1378.750030</td>\n",
       "      <td>1430.164210</td>\n",
       "      <td>1362.173794</td>\n",
       "      <td>975.359407</td>\n",
       "      <td>811.165964</td>\n",
       "      <td>633.887206</td>\n",
       "      <td>623.376165</td>\n",
       "      <td>559.564673</td>\n",
       "      <td>522.173513</td>\n",
       "      <td>615.702079</td>\n",
       "    </tr>\n",
       "    <tr>\n",
       "      <th>3</th>\n",
       "      <td>PSE</td>\n",
       "      <td>NY.GDP.PCAP.CD</td>\n",
       "      <td>West Bank and Gaza</td>\n",
       "      <td>GDP per capita (current US$)</td>\n",
       "      <td>3067.438727</td>\n",
       "      <td>3315.297539</td>\n",
       "      <td>3352.112595</td>\n",
       "      <td>3272.154324</td>\n",
       "      <td>3527.613824</td>\n",
       "      <td>3620.360487</td>\n",
       "      <td>3562.330943</td>\n",
       "      <td>3656.858271</td>\n",
       "      <td>3233.568638</td>\n",
       "      <td>3678.635657</td>\n",
       "      <td>3799.955270</td>\n",
       "    </tr>\n",
       "    <tr>\n",
       "      <th>4</th>\n",
       "      <td>VIR</td>\n",
       "      <td>NY.GDP.PCAP.CD</td>\n",
       "      <td>Virgin Islands (U.S.)</td>\n",
       "      <td>GDP per capita (current US$)</td>\n",
       "      <td>37795.319259</td>\n",
       "      <td>34597.976694</td>\n",
       "      <td>33045.364380</td>\n",
       "      <td>34007.352941</td>\n",
       "      <td>35324.974887</td>\n",
       "      <td>35365.069304</td>\n",
       "      <td>36663.208755</td>\n",
       "      <td>38633.529892</td>\n",
       "      <td>39787.374165</td>\n",
       "      <td>42571.077737</td>\n",
       "      <td>44320.909186</td>\n",
       "    </tr>\n",
       "  </tbody>\n",
       "</table>\n",
       "</div>"
      ],
      "text/plain": [
       "  economy          series                Country  \\\n",
       "0     ZWE  NY.GDP.PCAP.CD               Zimbabwe   \n",
       "1     ZMB  NY.GDP.PCAP.CD                 Zambia   \n",
       "2     YEM  NY.GDP.PCAP.CD            Yemen, Rep.   \n",
       "3     PSE  NY.GDP.PCAP.CD     West Bank and Gaza   \n",
       "4     VIR  NY.GDP.PCAP.CD  Virgin Islands (U.S.)   \n",
       "\n",
       "                         Series        YR2012        YR2013        YR2014  \\\n",
       "0  GDP per capita (current US$)   1238.601090   1362.300668   1372.212781   \n",
       "1  GDP per capita (current US$)   1710.050613   1820.718548   1707.485731   \n",
       "2  GDP per capita (current US$)   1245.050683   1378.750030   1430.164210   \n",
       "3  GDP per capita (current US$)   3067.438727   3315.297539   3352.112595   \n",
       "4  GDP per capita (current US$)  37795.319259  34597.976694  33045.364380   \n",
       "\n",
       "         YR2015        YR2016        YR2017        YR2018        YR2019  \\\n",
       "0   1386.422847   1407.415364   3448.082537   2271.853335   1684.027904   \n",
       "1   1295.877887   1239.085279   1483.465773   1463.899979   1258.986198   \n",
       "2   1362.173794    975.359407    811.165964    633.887206    623.376165   \n",
       "3   3272.154324   3527.613824   3620.360487   3562.330943   3656.858271   \n",
       "4  34007.352941  35324.974887  35365.069304  36663.208755  38633.529892   \n",
       "\n",
       "         YR2020        YR2021        YR2022  \n",
       "0   1730.413489   1724.387731   2040.552459  \n",
       "1    951.644317   1127.160779   1447.123101  \n",
       "2    559.564673    522.173513    615.702079  \n",
       "3   3233.568638   3678.635657   3799.955270  \n",
       "4  39787.374165  42571.077737  44320.909186  "
      ]
     },
     "execution_count": 13,
     "metadata": {},
     "output_type": "execute_result"
    }
   ],
   "source": [
    "# Importing data using wbgapi package for World Bank API access\n",
    "wb_df = wb.data.DataFrame(indicators.keys(), time=range(2012, 2023), labels=True)\n",
    "\n",
    "wb_df = wb_df.reset_index()\n",
    "wb_df.head(5)"
   ]
  },
  {
   "cell_type": "code",
   "execution_count": 14,
   "id": "9a8c37da-e6b5-4379-81aa-2ac559b8eef6",
   "metadata": {},
   "outputs": [],
   "source": [
    "#choosing applicable columns and set names\n",
    "wb_df = wb_df.drop(['series', 'Country'], axis=1)\n",
    "wb_df = wb_df.set_axis(['iso3', 'indicator', 2012, 2013, 2014, 2015, 2016, 2017, 2018, 2019, 2020, 2021, 2022], axis=1)"
   ]
  },
  {
   "cell_type": "code",
   "execution_count": 15,
   "id": "9a7aca27-7ff8-41f0-8a04-aa3a8a919fe7",
   "metadata": {},
   "outputs": [
    {
     "data": {
      "text/html": [
       "<div>\n",
       "<style scoped>\n",
       "    .dataframe tbody tr th:only-of-type {\n",
       "        vertical-align: middle;\n",
       "    }\n",
       "\n",
       "    .dataframe tbody tr th {\n",
       "        vertical-align: top;\n",
       "    }\n",
       "\n",
       "    .dataframe thead th {\n",
       "        text-align: right;\n",
       "    }\n",
       "</style>\n",
       "<table border=\"1\" class=\"dataframe\">\n",
       "  <thead>\n",
       "    <tr style=\"text-align: right;\">\n",
       "      <th></th>\n",
       "      <th>iso3</th>\n",
       "      <th>indicator</th>\n",
       "      <th>2012</th>\n",
       "      <th>2013</th>\n",
       "      <th>2014</th>\n",
       "      <th>2015</th>\n",
       "      <th>2016</th>\n",
       "      <th>2017</th>\n",
       "      <th>2018</th>\n",
       "      <th>2019</th>\n",
       "      <th>2020</th>\n",
       "      <th>2021</th>\n",
       "      <th>2022</th>\n",
       "    </tr>\n",
       "  </thead>\n",
       "  <tbody>\n",
       "    <tr>\n",
       "      <th>0</th>\n",
       "      <td>ZWE</td>\n",
       "      <td>GDP per capita (current US$)</td>\n",
       "      <td>1238.60</td>\n",
       "      <td>1362.30</td>\n",
       "      <td>1372.21</td>\n",
       "      <td>1386.42</td>\n",
       "      <td>1407.42</td>\n",
       "      <td>3448.08</td>\n",
       "      <td>2271.85</td>\n",
       "      <td>1684.03</td>\n",
       "      <td>1730.41</td>\n",
       "      <td>1724.39</td>\n",
       "      <td>2040.55</td>\n",
       "    </tr>\n",
       "    <tr>\n",
       "      <th>1</th>\n",
       "      <td>ZMB</td>\n",
       "      <td>GDP per capita (current US$)</td>\n",
       "      <td>1710.05</td>\n",
       "      <td>1820.72</td>\n",
       "      <td>1707.49</td>\n",
       "      <td>1295.88</td>\n",
       "      <td>1239.09</td>\n",
       "      <td>1483.47</td>\n",
       "      <td>1463.90</td>\n",
       "      <td>1258.99</td>\n",
       "      <td>951.64</td>\n",
       "      <td>1127.16</td>\n",
       "      <td>1447.12</td>\n",
       "    </tr>\n",
       "    <tr>\n",
       "      <th>2</th>\n",
       "      <td>YEM</td>\n",
       "      <td>GDP per capita (current US$)</td>\n",
       "      <td>1245.05</td>\n",
       "      <td>1378.75</td>\n",
       "      <td>1430.16</td>\n",
       "      <td>1362.17</td>\n",
       "      <td>975.36</td>\n",
       "      <td>811.17</td>\n",
       "      <td>633.89</td>\n",
       "      <td>623.38</td>\n",
       "      <td>559.56</td>\n",
       "      <td>522.17</td>\n",
       "      <td>615.70</td>\n",
       "    </tr>\n",
       "    <tr>\n",
       "      <th>3</th>\n",
       "      <td>PSE</td>\n",
       "      <td>GDP per capita (current US$)</td>\n",
       "      <td>3067.44</td>\n",
       "      <td>3315.30</td>\n",
       "      <td>3352.11</td>\n",
       "      <td>3272.15</td>\n",
       "      <td>3527.61</td>\n",
       "      <td>3620.36</td>\n",
       "      <td>3562.33</td>\n",
       "      <td>3656.86</td>\n",
       "      <td>3233.57</td>\n",
       "      <td>3678.64</td>\n",
       "      <td>3799.96</td>\n",
       "    </tr>\n",
       "    <tr>\n",
       "      <th>4</th>\n",
       "      <td>VIR</td>\n",
       "      <td>GDP per capita (current US$)</td>\n",
       "      <td>37795.32</td>\n",
       "      <td>34597.98</td>\n",
       "      <td>33045.36</td>\n",
       "      <td>34007.35</td>\n",
       "      <td>35324.97</td>\n",
       "      <td>35365.07</td>\n",
       "      <td>36663.21</td>\n",
       "      <td>38633.53</td>\n",
       "      <td>39787.37</td>\n",
       "      <td>42571.08</td>\n",
       "      <td>44320.91</td>\n",
       "    </tr>\n",
       "  </tbody>\n",
       "</table>\n",
       "</div>"
      ],
      "text/plain": [
       "  iso3                     indicator      2012      2013      2014      2015  \\\n",
       "0  ZWE  GDP per capita (current US$)   1238.60   1362.30   1372.21   1386.42   \n",
       "1  ZMB  GDP per capita (current US$)   1710.05   1820.72   1707.49   1295.88   \n",
       "2  YEM  GDP per capita (current US$)   1245.05   1378.75   1430.16   1362.17   \n",
       "3  PSE  GDP per capita (current US$)   3067.44   3315.30   3352.11   3272.15   \n",
       "4  VIR  GDP per capita (current US$)  37795.32  34597.98  33045.36  34007.35   \n",
       "\n",
       "       2016      2017      2018      2019      2020      2021      2022  \n",
       "0   1407.42   3448.08   2271.85   1684.03   1730.41   1724.39   2040.55  \n",
       "1   1239.09   1483.47   1463.90   1258.99    951.64   1127.16   1447.12  \n",
       "2    975.36    811.17    633.89    623.38    559.56    522.17    615.70  \n",
       "3   3527.61   3620.36   3562.33   3656.86   3233.57   3678.64   3799.96  \n",
       "4  35324.97  35365.07  36663.21  38633.53  39787.37  42571.08  44320.91  "
      ]
     },
     "execution_count": 15,
     "metadata": {},
     "output_type": "execute_result"
    }
   ],
   "source": [
    "# Drop rows with at least 4 missing values\n",
    "wb_df = wb_df.dropna(thresh=wb_df.shape[1] - 4)\n",
    "\n",
    "# Interpolate missing values\n",
    "wb_df.iloc[:, 2:] = wb_df.iloc[:, 2:].interpolate(method='linear', axis=1)\n",
    "\n",
    "# Drop any remaining NaNs\n",
    "wb_df = wb_df.dropna()\n",
    "\n",
    "# Round to 2 decimal places\n",
    "wb_df = wb_df.round(2)\n",
    "\n",
    "wb_df.head(5)"
   ]
  },
  {
   "cell_type": "markdown",
   "id": "9f7a0d2a-a6f5-4b75-86ea-80fb3e9b1dac",
   "metadata": {},
   "source": [
    "### Government Trust"
   ]
  },
  {
   "cell_type": "markdown",
   "id": "ebe49f17-2e40-48a9-8533-9e1f87dc3123",
   "metadata": {},
   "source": [
    "Data in this section comes from OECD trust survey."
   ]
  },
  {
   "cell_type": "code",
   "execution_count": 16,
   "id": "4f312c47-63b5-4f7a-bc9b-1fa12f97209a",
   "metadata": {},
   "outputs": [
    {
     "data": {
      "text/html": [
       "<div>\n",
       "<style scoped>\n",
       "    .dataframe tbody tr th:only-of-type {\n",
       "        vertical-align: middle;\n",
       "    }\n",
       "\n",
       "    .dataframe tbody tr th {\n",
       "        vertical-align: top;\n",
       "    }\n",
       "\n",
       "    .dataframe thead th {\n",
       "        text-align: right;\n",
       "    }\n",
       "</style>\n",
       "<table border=\"1\" class=\"dataframe\">\n",
       "  <thead>\n",
       "    <tr style=\"text-align: right;\">\n",
       "      <th></th>\n",
       "      <th>STRUCTURE</th>\n",
       "      <th>STRUCTURE_ID</th>\n",
       "      <th>STRUCTURE_NAME</th>\n",
       "      <th>ACTION</th>\n",
       "      <th>REF_AREA</th>\n",
       "      <th>Reference area</th>\n",
       "      <th>MEASURE</th>\n",
       "      <th>Measure</th>\n",
       "      <th>UNIT_MEASURE</th>\n",
       "      <th>Unit of measure</th>\n",
       "      <th>...</th>\n",
       "      <th>OBS_VALUE</th>\n",
       "      <th>Observation value</th>\n",
       "      <th>OBS_STATUS</th>\n",
       "      <th>Observation status</th>\n",
       "      <th>UNIT_MULT</th>\n",
       "      <th>Unit multiplier</th>\n",
       "      <th>DECIMALS</th>\n",
       "      <th>Decimals</th>\n",
       "      <th>BASE_PER</th>\n",
       "      <th>Base period</th>\n",
       "    </tr>\n",
       "  </thead>\n",
       "  <tbody>\n",
       "    <tr>\n",
       "      <th>0</th>\n",
       "      <td>DATAFLOW</td>\n",
       "      <td>OECD.WISE.WDP:DSD_HSL@DF_HSL_FWB(1.1)</td>\n",
       "      <td>Future well-being</td>\n",
       "      <td>I</td>\n",
       "      <td>CZE</td>\n",
       "      <td>Czechia</td>\n",
       "      <td>14_3</td>\n",
       "      <td>Trust in government</td>\n",
       "      <td>PT_POP_Y_GE15</td>\n",
       "      <td>Percentage of population aged 15 years or over</td>\n",
       "      <td>...</td>\n",
       "      <td>44.579404</td>\n",
       "      <td>NaN</td>\n",
       "      <td>A</td>\n",
       "      <td>Normal value</td>\n",
       "      <td>0</td>\n",
       "      <td>Units</td>\n",
       "      <td>2</td>\n",
       "      <td>Two</td>\n",
       "      <td>NaN</td>\n",
       "      <td>NaN</td>\n",
       "    </tr>\n",
       "    <tr>\n",
       "      <th>1</th>\n",
       "      <td>DATAFLOW</td>\n",
       "      <td>OECD.WISE.WDP:DSD_HSL@DF_HSL_FWB(1.1)</td>\n",
       "      <td>Future well-being</td>\n",
       "      <td>I</td>\n",
       "      <td>CZE</td>\n",
       "      <td>Czechia</td>\n",
       "      <td>14_3</td>\n",
       "      <td>Trust in government</td>\n",
       "      <td>PT_POP_Y_GE15</td>\n",
       "      <td>Percentage of population aged 15 years or over</td>\n",
       "      <td>...</td>\n",
       "      <td>44.579404</td>\n",
       "      <td>NaN</td>\n",
       "      <td>A</td>\n",
       "      <td>Normal value</td>\n",
       "      <td>0</td>\n",
       "      <td>Units</td>\n",
       "      <td>2</td>\n",
       "      <td>Two</td>\n",
       "      <td>NaN</td>\n",
       "      <td>NaN</td>\n",
       "    </tr>\n",
       "    <tr>\n",
       "      <th>2</th>\n",
       "      <td>DATAFLOW</td>\n",
       "      <td>OECD.WISE.WDP:DSD_HSL@DF_HSL_FWB(1.1)</td>\n",
       "      <td>Future well-being</td>\n",
       "      <td>I</td>\n",
       "      <td>CZE</td>\n",
       "      <td>Czechia</td>\n",
       "      <td>14_3</td>\n",
       "      <td>Trust in government</td>\n",
       "      <td>PT_POP_Y_GE15</td>\n",
       "      <td>Percentage of population aged 15 years or over</td>\n",
       "      <td>...</td>\n",
       "      <td>44.579404</td>\n",
       "      <td>NaN</td>\n",
       "      <td>A</td>\n",
       "      <td>Normal value</td>\n",
       "      <td>0</td>\n",
       "      <td>Units</td>\n",
       "      <td>2</td>\n",
       "      <td>Two</td>\n",
       "      <td>NaN</td>\n",
       "      <td>NaN</td>\n",
       "    </tr>\n",
       "    <tr>\n",
       "      <th>3</th>\n",
       "      <td>DATAFLOW</td>\n",
       "      <td>OECD.WISE.WDP:DSD_HSL@DF_HSL_FWB(1.1)</td>\n",
       "      <td>Future well-being</td>\n",
       "      <td>I</td>\n",
       "      <td>CZE</td>\n",
       "      <td>Czechia</td>\n",
       "      <td>14_3</td>\n",
       "      <td>Trust in government</td>\n",
       "      <td>PT_POP_Y_GE15</td>\n",
       "      <td>Percentage of population aged 15 years or over</td>\n",
       "      <td>...</td>\n",
       "      <td>22.121649</td>\n",
       "      <td>NaN</td>\n",
       "      <td>A</td>\n",
       "      <td>Normal value</td>\n",
       "      <td>0</td>\n",
       "      <td>Units</td>\n",
       "      <td>2</td>\n",
       "      <td>Two</td>\n",
       "      <td>NaN</td>\n",
       "      <td>NaN</td>\n",
       "    </tr>\n",
       "    <tr>\n",
       "      <th>4</th>\n",
       "      <td>DATAFLOW</td>\n",
       "      <td>OECD.WISE.WDP:DSD_HSL@DF_HSL_FWB(1.1)</td>\n",
       "      <td>Future well-being</td>\n",
       "      <td>I</td>\n",
       "      <td>CZE</td>\n",
       "      <td>Czechia</td>\n",
       "      <td>14_3</td>\n",
       "      <td>Trust in government</td>\n",
       "      <td>PT_POP_Y_GE15</td>\n",
       "      <td>Percentage of population aged 15 years or over</td>\n",
       "      <td>...</td>\n",
       "      <td>22.121649</td>\n",
       "      <td>NaN</td>\n",
       "      <td>A</td>\n",
       "      <td>Normal value</td>\n",
       "      <td>0</td>\n",
       "      <td>Units</td>\n",
       "      <td>2</td>\n",
       "      <td>Two</td>\n",
       "      <td>NaN</td>\n",
       "      <td>NaN</td>\n",
       "    </tr>\n",
       "  </tbody>\n",
       "</table>\n",
       "<p>5 rows × 30 columns</p>\n",
       "</div>"
      ],
      "text/plain": [
       "  STRUCTURE                           STRUCTURE_ID     STRUCTURE_NAME ACTION  \\\n",
       "0  DATAFLOW  OECD.WISE.WDP:DSD_HSL@DF_HSL_FWB(1.1)  Future well-being      I   \n",
       "1  DATAFLOW  OECD.WISE.WDP:DSD_HSL@DF_HSL_FWB(1.1)  Future well-being      I   \n",
       "2  DATAFLOW  OECD.WISE.WDP:DSD_HSL@DF_HSL_FWB(1.1)  Future well-being      I   \n",
       "3  DATAFLOW  OECD.WISE.WDP:DSD_HSL@DF_HSL_FWB(1.1)  Future well-being      I   \n",
       "4  DATAFLOW  OECD.WISE.WDP:DSD_HSL@DF_HSL_FWB(1.1)  Future well-being      I   \n",
       "\n",
       "  REF_AREA Reference area MEASURE              Measure   UNIT_MEASURE  \\\n",
       "0      CZE        Czechia    14_3  Trust in government  PT_POP_Y_GE15   \n",
       "1      CZE        Czechia    14_3  Trust in government  PT_POP_Y_GE15   \n",
       "2      CZE        Czechia    14_3  Trust in government  PT_POP_Y_GE15   \n",
       "3      CZE        Czechia    14_3  Trust in government  PT_POP_Y_GE15   \n",
       "4      CZE        Czechia    14_3  Trust in government  PT_POP_Y_GE15   \n",
       "\n",
       "                                  Unit of measure  ...  OBS_VALUE  \\\n",
       "0  Percentage of population aged 15 years or over  ...  44.579404   \n",
       "1  Percentage of population aged 15 years or over  ...  44.579404   \n",
       "2  Percentage of population aged 15 years or over  ...  44.579404   \n",
       "3  Percentage of population aged 15 years or over  ...  22.121649   \n",
       "4  Percentage of population aged 15 years or over  ...  22.121649   \n",
       "\n",
       "  Observation value OBS_STATUS Observation status UNIT_MULT Unit multiplier  \\\n",
       "0               NaN          A       Normal value         0           Units   \n",
       "1               NaN          A       Normal value         0           Units   \n",
       "2               NaN          A       Normal value         0           Units   \n",
       "3               NaN          A       Normal value         0           Units   \n",
       "4               NaN          A       Normal value         0           Units   \n",
       "\n",
       "  DECIMALS Decimals  BASE_PER  Base period  \n",
       "0        2      Two       NaN          NaN  \n",
       "1        2      Two       NaN          NaN  \n",
       "2        2      Two       NaN          NaN  \n",
       "3        2      Two       NaN          NaN  \n",
       "4        2      Two       NaN          NaN  \n",
       "\n",
       "[5 rows x 30 columns]"
      ]
     },
     "execution_count": 16,
     "metadata": {},
     "output_type": "execute_result"
    }
   ],
   "source": [
    "#reading data\n",
    "trust = pd.read_csv('06_gov_trust_oecd.csv')\n",
    "trust.head()"
   ]
  },
  {
   "cell_type": "code",
   "execution_count": 17,
   "id": "973e16ef-152c-4f67-82b0-229d9a5f28cf",
   "metadata": {},
   "outputs": [
    {
     "data": {
      "text/plain": [
       "Index(['STRUCTURE', 'STRUCTURE_ID', 'STRUCTURE_NAME', 'ACTION', 'REF_AREA',\n",
       "       'Reference area', 'MEASURE', 'Measure', 'UNIT_MEASURE',\n",
       "       'Unit of measure', 'AGE', 'Age', 'SEX', 'Sex', 'EDUCATION_LEV',\n",
       "       'Education level', 'DOMAIN', 'Domain', 'TIME_PERIOD', 'Time period',\n",
       "       'OBS_VALUE', 'Observation value', 'OBS_STATUS', 'Observation status',\n",
       "       'UNIT_MULT', 'Unit multiplier', 'DECIMALS', 'Decimals', 'BASE_PER',\n",
       "       'Base period'],\n",
       "      dtype='object')"
      ]
     },
     "execution_count": 17,
     "metadata": {},
     "output_type": "execute_result"
    }
   ],
   "source": [
    "#listing columns in a dataframe\n",
    "trust.columns"
   ]
  },
  {
   "cell_type": "code",
   "execution_count": 18,
   "id": "f0ed3669-348d-4211-83e5-58345b5e7ed9",
   "metadata": {},
   "outputs": [],
   "source": [
    "#filtering education level for total\n",
    "trust = trust[trust['Education level'] == 'Total']"
   ]
  },
  {
   "cell_type": "code",
   "execution_count": 19,
   "id": "a28c3a2d-d60e-4615-87bf-0840d6faa43a",
   "metadata": {},
   "outputs": [
    {
     "data": {
      "text/html": [
       "<div>\n",
       "<style scoped>\n",
       "    .dataframe tbody tr th:only-of-type {\n",
       "        vertical-align: middle;\n",
       "    }\n",
       "\n",
       "    .dataframe tbody tr th {\n",
       "        vertical-align: top;\n",
       "    }\n",
       "\n",
       "    .dataframe thead th {\n",
       "        text-align: right;\n",
       "    }\n",
       "</style>\n",
       "<table border=\"1\" class=\"dataframe\">\n",
       "  <thead>\n",
       "    <tr style=\"text-align: right;\">\n",
       "      <th></th>\n",
       "      <th>REF_AREA</th>\n",
       "      <th>TIME_PERIOD</th>\n",
       "      <th>OBS_VALUE</th>\n",
       "      <th>BASE_PER</th>\n",
       "      <th>Base period</th>\n",
       "    </tr>\n",
       "  </thead>\n",
       "  <tbody>\n",
       "    <tr>\n",
       "      <th>0</th>\n",
       "      <td>CZE</td>\n",
       "      <td>2016</td>\n",
       "      <td>44.579404</td>\n",
       "      <td>NaN</td>\n",
       "      <td>NaN</td>\n",
       "    </tr>\n",
       "    <tr>\n",
       "      <th>1</th>\n",
       "      <td>CZE</td>\n",
       "      <td>2015</td>\n",
       "      <td>44.579404</td>\n",
       "      <td>NaN</td>\n",
       "      <td>NaN</td>\n",
       "    </tr>\n",
       "    <tr>\n",
       "      <th>2</th>\n",
       "      <td>CZE</td>\n",
       "      <td>2014</td>\n",
       "      <td>44.579404</td>\n",
       "      <td>NaN</td>\n",
       "      <td>NaN</td>\n",
       "    </tr>\n",
       "    <tr>\n",
       "      <th>3</th>\n",
       "      <td>CZE</td>\n",
       "      <td>2013</td>\n",
       "      <td>22.121649</td>\n",
       "      <td>NaN</td>\n",
       "      <td>NaN</td>\n",
       "    </tr>\n",
       "    <tr>\n",
       "      <th>4</th>\n",
       "      <td>CZE</td>\n",
       "      <td>2012</td>\n",
       "      <td>22.121649</td>\n",
       "      <td>NaN</td>\n",
       "      <td>NaN</td>\n",
       "    </tr>\n",
       "  </tbody>\n",
       "</table>\n",
       "</div>"
      ],
      "text/plain": [
       "  REF_AREA  TIME_PERIOD  OBS_VALUE  BASE_PER  Base period\n",
       "0      CZE         2016  44.579404       NaN          NaN\n",
       "1      CZE         2015  44.579404       NaN          NaN\n",
       "2      CZE         2014  44.579404       NaN          NaN\n",
       "3      CZE         2013  22.121649       NaN          NaN\n",
       "4      CZE         2012  22.121649       NaN          NaN"
      ]
     },
     "execution_count": 19,
     "metadata": {},
     "output_type": "execute_result"
    }
   ],
   "source": [
    "#choosing applicable columns\n",
    "trust = trust[['REF_AREA','TIME_PERIOD', 'OBS_VALUE','BASE_PER','Base period']]\n",
    "trust.head()"
   ]
  },
  {
   "cell_type": "code",
   "execution_count": 20,
   "id": "e9e2ab14-6a01-4598-8931-b963f86fcbcb",
   "metadata": {},
   "outputs": [
    {
     "data": {
      "text/plain": [
       "(449, 5)"
      ]
     },
     "execution_count": 20,
     "metadata": {},
     "output_type": "execute_result"
    }
   ],
   "source": [
    "#checking shape\n",
    "trust.shape"
   ]
  },
  {
   "cell_type": "code",
   "execution_count": 21,
   "id": "94887307-dc19-48d0-b5e4-4ce53ec9ae67",
   "metadata": {},
   "outputs": [
    {
     "data": {
      "text/plain": [
       "(449, 3)"
      ]
     },
     "execution_count": 21,
     "metadata": {},
     "output_type": "execute_result"
    }
   ],
   "source": [
    "#removing rows with empty values and checking how many were removed\n",
    "trust = trust.dropna(axis=1)\n",
    "trust.shape"
   ]
  },
  {
   "cell_type": "markdown",
   "id": "27b6b700-e5b1-4ce9-8420-bad0f067d3aa",
   "metadata": {},
   "source": [
    "There are no NaNs"
   ]
  },
  {
   "cell_type": "code",
   "execution_count": 22,
   "id": "535cff77-0cb8-45f3-aa8c-32b7787c94e6",
   "metadata": {},
   "outputs": [
    {
     "data": {
      "text/html": [
       "<div>\n",
       "<style scoped>\n",
       "    .dataframe tbody tr th:only-of-type {\n",
       "        vertical-align: middle;\n",
       "    }\n",
       "\n",
       "    .dataframe tbody tr th {\n",
       "        vertical-align: top;\n",
       "    }\n",
       "\n",
       "    .dataframe thead th {\n",
       "        text-align: right;\n",
       "    }\n",
       "</style>\n",
       "<table border=\"1\" class=\"dataframe\">\n",
       "  <thead>\n",
       "    <tr style=\"text-align: right;\">\n",
       "      <th></th>\n",
       "      <th>iso3</th>\n",
       "      <th>year</th>\n",
       "      <th>gov_trust</th>\n",
       "    </tr>\n",
       "  </thead>\n",
       "  <tbody>\n",
       "    <tr>\n",
       "      <th>0</th>\n",
       "      <td>CZE</td>\n",
       "      <td>2016</td>\n",
       "      <td>44.579404</td>\n",
       "    </tr>\n",
       "    <tr>\n",
       "      <th>1</th>\n",
       "      <td>CZE</td>\n",
       "      <td>2015</td>\n",
       "      <td>44.579404</td>\n",
       "    </tr>\n",
       "    <tr>\n",
       "      <th>2</th>\n",
       "      <td>CZE</td>\n",
       "      <td>2014</td>\n",
       "      <td>44.579404</td>\n",
       "    </tr>\n",
       "    <tr>\n",
       "      <th>3</th>\n",
       "      <td>CZE</td>\n",
       "      <td>2013</td>\n",
       "      <td>22.121649</td>\n",
       "    </tr>\n",
       "    <tr>\n",
       "      <th>4</th>\n",
       "      <td>CZE</td>\n",
       "      <td>2012</td>\n",
       "      <td>22.121649</td>\n",
       "    </tr>\n",
       "  </tbody>\n",
       "</table>\n",
       "</div>"
      ],
      "text/plain": [
       "  iso3  year  gov_trust\n",
       "0  CZE  2016  44.579404\n",
       "1  CZE  2015  44.579404\n",
       "2  CZE  2014  44.579404\n",
       "3  CZE  2013  22.121649\n",
       "4  CZE  2012  22.121649"
      ]
     },
     "execution_count": 22,
     "metadata": {},
     "output_type": "execute_result"
    }
   ],
   "source": [
    "#renaming columns\n",
    "trust_df =trust.set_axis(['iso3', 'year', 'gov_trust'], axis=1)\n",
    "trust_df.head()"
   ]
  },
  {
   "cell_type": "code",
   "execution_count": 23,
   "id": "2760c82a-ea7a-4b64-aac1-514b4b5ed33b",
   "metadata": {},
   "outputs": [
    {
     "data": {
      "text/plain": [
       "iso3          object\n",
       "year           int64\n",
       "gov_trust    float64\n",
       "dtype: object"
      ]
     },
     "execution_count": 23,
     "metadata": {},
     "output_type": "execute_result"
    }
   ],
   "source": [
    "#checking datatypes\n",
    "trust_df['gov_trust'] = trust_df['gov_trust'].round(2)\n",
    "trust_df.dtypes"
   ]
  },
  {
   "cell_type": "code",
   "execution_count": 24,
   "id": "91b609c1-13ae-4084-af62-34bc74860e63",
   "metadata": {},
   "outputs": [
    {
     "data": {
      "text/plain": [
       "iso3    38\n",
       "dtype: int64"
      ]
     },
     "execution_count": 24,
     "metadata": {},
     "output_type": "execute_result"
    }
   ],
   "source": [
    "#check the number of countries\n",
    "trust_df[['iso3']].nunique()"
   ]
  },
  {
   "cell_type": "markdown",
   "id": "68135d54-be31-4afe-a699-1cd99f082279",
   "metadata": {},
   "source": [
    "Data only for OECD countries is available."
   ]
  },
  {
   "cell_type": "markdown",
   "id": "8cc1e61e-2045-4064-9866-d28464415a25",
   "metadata": {},
   "source": [
    " "
   ]
  },
  {
   "cell_type": "markdown",
   "id": "1a6ccc0d-5c7e-4359-bd01-5dc951f9036f",
   "metadata": {},
   "source": [
    "### Polarization"
   ]
  },
  {
   "cell_type": "markdown",
   "id": "2b095087-9fdb-401a-8d45-6316c5629ed7",
   "metadata": {},
   "source": [
    "Data in this section comes from V_Dem (Varieties of Democracy) project and includes multiple variables measuring democracy. For the immunization project, data on polarization will be extracted."
   ]
  },
  {
   "cell_type": "code",
   "execution_count": 25,
   "id": "f6d30dcc-40ae-400f-8363-6ea8d6a6bdb5",
   "metadata": {},
   "outputs": [
    {
     "data": {
      "text/html": [
       "<div>\n",
       "<style scoped>\n",
       "    .dataframe tbody tr th:only-of-type {\n",
       "        vertical-align: middle;\n",
       "    }\n",
       "\n",
       "    .dataframe tbody tr th {\n",
       "        vertical-align: top;\n",
       "    }\n",
       "\n",
       "    .dataframe thead th {\n",
       "        text-align: right;\n",
       "    }\n",
       "</style>\n",
       "<table border=\"1\" class=\"dataframe\">\n",
       "  <thead>\n",
       "    <tr style=\"text-align: right;\">\n",
       "      <th></th>\n",
       "      <th>country_name</th>\n",
       "      <th>country_text_id</th>\n",
       "      <th>country_id</th>\n",
       "      <th>year</th>\n",
       "      <th>historical_date</th>\n",
       "      <th>project</th>\n",
       "      <th>historical</th>\n",
       "      <th>histname</th>\n",
       "      <th>codingstart</th>\n",
       "      <th>codingend</th>\n",
       "      <th>...</th>\n",
       "      <th>v2xex_elecleg</th>\n",
       "      <th>v2xps_party</th>\n",
       "      <th>v2xps_party_codelow</th>\n",
       "      <th>v2xps_party_codehigh</th>\n",
       "      <th>v2x_divparctrl</th>\n",
       "      <th>v2x_feduni</th>\n",
       "      <th>v2xca_academ</th>\n",
       "      <th>v2xca_academ_codelow</th>\n",
       "      <th>v2xca_academ_codehigh</th>\n",
       "      <th>v2xca_academ_sd</th>\n",
       "    </tr>\n",
       "  </thead>\n",
       "  <tbody>\n",
       "    <tr>\n",
       "      <th>0</th>\n",
       "      <td>Mexico</td>\n",
       "      <td>MEX</td>\n",
       "      <td>3</td>\n",
       "      <td>1789</td>\n",
       "      <td>1789-12-31</td>\n",
       "      <td>1</td>\n",
       "      <td>1</td>\n",
       "      <td>Viceroyalty of New Spain</td>\n",
       "      <td>1789</td>\n",
       "      <td>2024</td>\n",
       "      <td>...</td>\n",
       "      <td>0.0</td>\n",
       "      <td>NaN</td>\n",
       "      <td>NaN</td>\n",
       "      <td>NaN</td>\n",
       "      <td>NaN</td>\n",
       "      <td>0.0</td>\n",
       "      <td>NaN</td>\n",
       "      <td>NaN</td>\n",
       "      <td>NaN</td>\n",
       "      <td>NaN</td>\n",
       "    </tr>\n",
       "    <tr>\n",
       "      <th>1</th>\n",
       "      <td>Mexico</td>\n",
       "      <td>MEX</td>\n",
       "      <td>3</td>\n",
       "      <td>1790</td>\n",
       "      <td>1790-12-31</td>\n",
       "      <td>1</td>\n",
       "      <td>1</td>\n",
       "      <td>Viceroyalty of New Spain</td>\n",
       "      <td>1789</td>\n",
       "      <td>2024</td>\n",
       "      <td>...</td>\n",
       "      <td>0.0</td>\n",
       "      <td>NaN</td>\n",
       "      <td>NaN</td>\n",
       "      <td>NaN</td>\n",
       "      <td>NaN</td>\n",
       "      <td>0.0</td>\n",
       "      <td>NaN</td>\n",
       "      <td>NaN</td>\n",
       "      <td>NaN</td>\n",
       "      <td>NaN</td>\n",
       "    </tr>\n",
       "    <tr>\n",
       "      <th>2</th>\n",
       "      <td>Mexico</td>\n",
       "      <td>MEX</td>\n",
       "      <td>3</td>\n",
       "      <td>1791</td>\n",
       "      <td>1791-12-31</td>\n",
       "      <td>1</td>\n",
       "      <td>1</td>\n",
       "      <td>Viceroyalty of New Spain</td>\n",
       "      <td>1789</td>\n",
       "      <td>2024</td>\n",
       "      <td>...</td>\n",
       "      <td>0.0</td>\n",
       "      <td>NaN</td>\n",
       "      <td>NaN</td>\n",
       "      <td>NaN</td>\n",
       "      <td>NaN</td>\n",
       "      <td>0.0</td>\n",
       "      <td>NaN</td>\n",
       "      <td>NaN</td>\n",
       "      <td>NaN</td>\n",
       "      <td>NaN</td>\n",
       "    </tr>\n",
       "    <tr>\n",
       "      <th>3</th>\n",
       "      <td>Mexico</td>\n",
       "      <td>MEX</td>\n",
       "      <td>3</td>\n",
       "      <td>1792</td>\n",
       "      <td>1792-12-31</td>\n",
       "      <td>1</td>\n",
       "      <td>1</td>\n",
       "      <td>Viceroyalty of New Spain</td>\n",
       "      <td>1789</td>\n",
       "      <td>2024</td>\n",
       "      <td>...</td>\n",
       "      <td>0.0</td>\n",
       "      <td>NaN</td>\n",
       "      <td>NaN</td>\n",
       "      <td>NaN</td>\n",
       "      <td>NaN</td>\n",
       "      <td>0.0</td>\n",
       "      <td>NaN</td>\n",
       "      <td>NaN</td>\n",
       "      <td>NaN</td>\n",
       "      <td>NaN</td>\n",
       "    </tr>\n",
       "    <tr>\n",
       "      <th>4</th>\n",
       "      <td>Mexico</td>\n",
       "      <td>MEX</td>\n",
       "      <td>3</td>\n",
       "      <td>1793</td>\n",
       "      <td>1793-12-31</td>\n",
       "      <td>1</td>\n",
       "      <td>1</td>\n",
       "      <td>Viceroyalty of New Spain</td>\n",
       "      <td>1789</td>\n",
       "      <td>2024</td>\n",
       "      <td>...</td>\n",
       "      <td>0.0</td>\n",
       "      <td>NaN</td>\n",
       "      <td>NaN</td>\n",
       "      <td>NaN</td>\n",
       "      <td>NaN</td>\n",
       "      <td>0.0</td>\n",
       "      <td>NaN</td>\n",
       "      <td>NaN</td>\n",
       "      <td>NaN</td>\n",
       "      <td>NaN</td>\n",
       "    </tr>\n",
       "  </tbody>\n",
       "</table>\n",
       "<p>5 rows × 1818 columns</p>\n",
       "</div>"
      ],
      "text/plain": [
       "  country_name country_text_id  country_id  year historical_date  project  \\\n",
       "0       Mexico             MEX           3  1789      1789-12-31        1   \n",
       "1       Mexico             MEX           3  1790      1790-12-31        1   \n",
       "2       Mexico             MEX           3  1791      1791-12-31        1   \n",
       "3       Mexico             MEX           3  1792      1792-12-31        1   \n",
       "4       Mexico             MEX           3  1793      1793-12-31        1   \n",
       "\n",
       "   historical                  histname  codingstart  codingend  ...  \\\n",
       "0           1  Viceroyalty of New Spain         1789       2024  ...   \n",
       "1           1  Viceroyalty of New Spain         1789       2024  ...   \n",
       "2           1  Viceroyalty of New Spain         1789       2024  ...   \n",
       "3           1  Viceroyalty of New Spain         1789       2024  ...   \n",
       "4           1  Viceroyalty of New Spain         1789       2024  ...   \n",
       "\n",
       "   v2xex_elecleg  v2xps_party  v2xps_party_codelow  v2xps_party_codehigh  \\\n",
       "0            0.0          NaN                  NaN                   NaN   \n",
       "1            0.0          NaN                  NaN                   NaN   \n",
       "2            0.0          NaN                  NaN                   NaN   \n",
       "3            0.0          NaN                  NaN                   NaN   \n",
       "4            0.0          NaN                  NaN                   NaN   \n",
       "\n",
       "   v2x_divparctrl  v2x_feduni  v2xca_academ  v2xca_academ_codelow  \\\n",
       "0             NaN         0.0           NaN                   NaN   \n",
       "1             NaN         0.0           NaN                   NaN   \n",
       "2             NaN         0.0           NaN                   NaN   \n",
       "3             NaN         0.0           NaN                   NaN   \n",
       "4             NaN         0.0           NaN                   NaN   \n",
       "\n",
       "   v2xca_academ_codehigh  v2xca_academ_sd  \n",
       "0                    NaN              NaN  \n",
       "1                    NaN              NaN  \n",
       "2                    NaN              NaN  \n",
       "3                    NaN              NaN  \n",
       "4                    NaN              NaN  \n",
       "\n",
       "[5 rows x 1818 columns]"
      ]
     },
     "execution_count": 25,
     "metadata": {},
     "output_type": "execute_result"
    }
   ],
   "source": [
    "pol = pd.read_csv('07_v_dem.csv')\n",
    "pol.head(5)"
   ]
  },
  {
   "cell_type": "code",
   "execution_count": 26,
   "id": "f6f41fea-cb03-4e10-b048-9375d4c63f2f",
   "metadata": {},
   "outputs": [],
   "source": [
    "# Selecting relevant columns\n",
    "pol_df = pol[['country_text_id', 'year', 'v2pepwrsoc']]\n",
    "\n",
    "# Filter data for years 2012 to 2022\n",
    "pol_df = pol_df[(pol_df['year'] >= 2012) & (pol_df['year'] <= 2022)]\n",
    "\n",
    "#changing column names\n",
    "pol_df = pol_df.set_axis(['iso3', 'year', 'polarization'], axis=1)\n",
    "\n",
    "#rounding values to 2 decimals \n",
    "pol_df['polarization'] = pol_df['polarization'].round(2)"
   ]
  },
  {
   "cell_type": "code",
   "execution_count": 27,
   "id": "aae8afc7-3ffd-47e2-a543-b3f8519fc4fc",
   "metadata": {},
   "outputs": [
    {
     "data": {
      "text/plain": [
       "iso3    179\n",
       "dtype: int64"
      ]
     },
     "execution_count": 27,
     "metadata": {},
     "output_type": "execute_result"
    }
   ],
   "source": [
    "#checking number of countries\n",
    "pol_df[['iso3']].nunique()"
   ]
  },
  {
   "cell_type": "code",
   "execution_count": 28,
   "id": "9d8e55ca-a10e-40bd-94c3-aa7c024b6ced",
   "metadata": {},
   "outputs": [
    {
     "data": {
      "text/plain": [
       "iso3             object\n",
       "year              int64\n",
       "polarization    float64\n",
       "dtype: object"
      ]
     },
     "execution_count": 28,
     "metadata": {},
     "output_type": "execute_result"
    }
   ],
   "source": [
    "#checking data types\n",
    "pol_df.dtypes"
   ]
  },
  {
   "cell_type": "code",
   "execution_count": 29,
   "id": "746d4930-a833-4eff-9ead-3a5c4f695c0b",
   "metadata": {},
   "outputs": [
    {
     "data": {
      "text/plain": [
       "(1969, 3)"
      ]
     },
     "execution_count": 29,
     "metadata": {},
     "output_type": "execute_result"
    }
   ],
   "source": [
    "#checking shape\n",
    "pol_df.shape"
   ]
  },
  {
   "cell_type": "code",
   "execution_count": 30,
   "id": "16df3fd8-9498-47a8-b7ce-8712fc199658",
   "metadata": {},
   "outputs": [
    {
     "data": {
      "text/plain": [
       "(1969, 3)"
      ]
     },
     "execution_count": 30,
     "metadata": {},
     "output_type": "execute_result"
    }
   ],
   "source": [
    "#dropping empty rows and checking if any were dropped\n",
    "pol_df = pol_df.dropna()\n",
    "pol_df.shape"
   ]
  },
  {
   "cell_type": "code",
   "execution_count": 31,
   "id": "b6828cc3-706c-485f-86b7-513ce3590077",
   "metadata": {},
   "outputs": [
    {
     "data": {
      "text/html": [
       "<div>\n",
       "<style scoped>\n",
       "    .dataframe tbody tr th:only-of-type {\n",
       "        vertical-align: middle;\n",
       "    }\n",
       "\n",
       "    .dataframe tbody tr th {\n",
       "        vertical-align: top;\n",
       "    }\n",
       "\n",
       "    .dataframe thead th {\n",
       "        text-align: right;\n",
       "    }\n",
       "</style>\n",
       "<table border=\"1\" class=\"dataframe\">\n",
       "  <thead>\n",
       "    <tr style=\"text-align: right;\">\n",
       "      <th></th>\n",
       "      <th>iso3</th>\n",
       "      <th>year</th>\n",
       "      <th>polarization</th>\n",
       "    </tr>\n",
       "  </thead>\n",
       "  <tbody>\n",
       "    <tr>\n",
       "      <th>223</th>\n",
       "      <td>MEX</td>\n",
       "      <td>2012</td>\n",
       "      <td>1.0</td>\n",
       "    </tr>\n",
       "    <tr>\n",
       "      <th>224</th>\n",
       "      <td>MEX</td>\n",
       "      <td>2013</td>\n",
       "      <td>1.0</td>\n",
       "    </tr>\n",
       "    <tr>\n",
       "      <th>225</th>\n",
       "      <td>MEX</td>\n",
       "      <td>2014</td>\n",
       "      <td>1.0</td>\n",
       "    </tr>\n",
       "    <tr>\n",
       "      <th>226</th>\n",
       "      <td>MEX</td>\n",
       "      <td>2015</td>\n",
       "      <td>1.0</td>\n",
       "    </tr>\n",
       "    <tr>\n",
       "      <th>227</th>\n",
       "      <td>MEX</td>\n",
       "      <td>2016</td>\n",
       "      <td>1.0</td>\n",
       "    </tr>\n",
       "  </tbody>\n",
       "</table>\n",
       "</div>"
      ],
      "text/plain": [
       "    iso3  year  polarization\n",
       "223  MEX  2012           1.0\n",
       "224  MEX  2013           1.0\n",
       "225  MEX  2014           1.0\n",
       "226  MEX  2015           1.0\n",
       "227  MEX  2016           1.0"
      ]
     },
     "execution_count": 31,
     "metadata": {},
     "output_type": "execute_result"
    }
   ],
   "source": [
    "pol_df.head()"
   ]
  },
  {
   "cell_type": "code",
   "execution_count": 32,
   "id": "80a795aa-cdb3-4fc2-9326-1f1ddd28a8ad",
   "metadata": {},
   "outputs": [
    {
     "data": {
      "text/plain": [
       "polarization\n",
       " 1.43    29\n",
       " 1.58    24\n",
       " 1.05    24\n",
       " 2.03    23\n",
       " 0.74    23\n",
       "         ..\n",
       " 1.57     1\n",
       " 1.93     1\n",
       "-1.54     1\n",
       "-0.83     1\n",
       "-1.15     1\n",
       "Name: count, Length: 366, dtype: int64"
      ]
     },
     "execution_count": 32,
     "metadata": {},
     "output_type": "execute_result"
    }
   ],
   "source": [
    "#checking values of polarization as first 5 were '1.0' only\n",
    "pol_df['polarization'].value_counts()"
   ]
  },
  {
   "cell_type": "markdown",
   "id": "2e3e4f56-a9e8-49f8-990c-9494d6c8c864",
   "metadata": {},
   "source": [
    " "
   ]
  },
  {
   "cell_type": "markdown",
   "id": "a08c040f-379d-498b-9b0b-3f12f881d7d6",
   "metadata": {},
   "source": [
    "### Trust - World Values Survey"
   ]
  },
  {
   "cell_type": "markdown",
   "id": "5c8d2928-5792-4211-b350-a3857dd54e93",
   "metadata": {},
   "source": [
    "World Values Survey is a global research project that explores people's values and beliefs, how they change over time, and what social and political impact they have. For this project, data regarding trust (in people, press, government, universities, big companies and who) will be extracted.\n",
    "\n",
    "It includes individual responses on participants, so average country scores will be calculated during data clean-up. "
   ]
  },
  {
   "cell_type": "code",
   "execution_count": 33,
   "id": "7ef4b59e-a6b9-436f-b980-dda8f66403f1",
   "metadata": {},
   "outputs": [
    {
     "data": {
      "text/html": [
       "<div>\n",
       "<style scoped>\n",
       "    .dataframe tbody tr th:only-of-type {\n",
       "        vertical-align: middle;\n",
       "    }\n",
       "\n",
       "    .dataframe tbody tr th {\n",
       "        vertical-align: top;\n",
       "    }\n",
       "\n",
       "    .dataframe thead th {\n",
       "        text-align: right;\n",
       "    }\n",
       "</style>\n",
       "<table border=\"1\" class=\"dataframe\">\n",
       "  <thead>\n",
       "    <tr style=\"text-align: right;\">\n",
       "      <th></th>\n",
       "      <th>version</th>\n",
       "      <th>doi</th>\n",
       "      <th>A_WAVE</th>\n",
       "      <th>A_YEAR</th>\n",
       "      <th>A_STUDY</th>\n",
       "      <th>B_COUNTRY</th>\n",
       "      <th>B_COUNTRY_ALPHA</th>\n",
       "      <th>C_COW_NUM</th>\n",
       "      <th>C_COW_ALPHA</th>\n",
       "      <th>D_INTERVIEW</th>\n",
       "      <th>...</th>\n",
       "      <th>WVS_Polmistrust_PartyVoter</th>\n",
       "      <th>WVS_LR_MedianVoter</th>\n",
       "      <th>WVS_LibCon_MedianVoter</th>\n",
       "      <th>v2psbars</th>\n",
       "      <th>v2psorgs</th>\n",
       "      <th>v2psprbrch</th>\n",
       "      <th>v2psprlnks</th>\n",
       "      <th>v2psplats</th>\n",
       "      <th>v2xnp_client</th>\n",
       "      <th>v2xps_party</th>\n",
       "    </tr>\n",
       "  </thead>\n",
       "  <tbody>\n",
       "    <tr>\n",
       "      <th>0</th>\n",
       "      <td>6-0-0 (2024-04-30)</td>\n",
       "      <td>doi.org/10.14281/18241.24</td>\n",
       "      <td>7</td>\n",
       "      <td>2018</td>\n",
       "      <td>2</td>\n",
       "      <td>20</td>\n",
       "      <td>AND</td>\n",
       "      <td>232</td>\n",
       "      <td>AND</td>\n",
       "      <td>20070001</td>\n",
       "      <td>...</td>\n",
       "      <td>62.434211</td>\n",
       "      <td>-999.0</td>\n",
       "      <td>-999.0</td>\n",
       "      <td>-999.0</td>\n",
       "      <td>-999.0</td>\n",
       "      <td>-999.0</td>\n",
       "      <td>-999.0</td>\n",
       "      <td>-999.0</td>\n",
       "      <td>-999.0</td>\n",
       "      <td>-999.0</td>\n",
       "    </tr>\n",
       "    <tr>\n",
       "      <th>1</th>\n",
       "      <td>6-0-0 (2024-04-30)</td>\n",
       "      <td>doi.org/10.14281/18241.24</td>\n",
       "      <td>7</td>\n",
       "      <td>2018</td>\n",
       "      <td>2</td>\n",
       "      <td>20</td>\n",
       "      <td>AND</td>\n",
       "      <td>232</td>\n",
       "      <td>AND</td>\n",
       "      <td>20070002</td>\n",
       "      <td>...</td>\n",
       "      <td>62.434211</td>\n",
       "      <td>-999.0</td>\n",
       "      <td>-999.0</td>\n",
       "      <td>-999.0</td>\n",
       "      <td>-999.0</td>\n",
       "      <td>-999.0</td>\n",
       "      <td>-999.0</td>\n",
       "      <td>-999.0</td>\n",
       "      <td>-999.0</td>\n",
       "      <td>-999.0</td>\n",
       "    </tr>\n",
       "    <tr>\n",
       "      <th>2</th>\n",
       "      <td>6-0-0 (2024-04-30)</td>\n",
       "      <td>doi.org/10.14281/18241.24</td>\n",
       "      <td>7</td>\n",
       "      <td>2018</td>\n",
       "      <td>2</td>\n",
       "      <td>20</td>\n",
       "      <td>AND</td>\n",
       "      <td>232</td>\n",
       "      <td>AND</td>\n",
       "      <td>20070003</td>\n",
       "      <td>...</td>\n",
       "      <td>62.434211</td>\n",
       "      <td>-999.0</td>\n",
       "      <td>-999.0</td>\n",
       "      <td>-999.0</td>\n",
       "      <td>-999.0</td>\n",
       "      <td>-999.0</td>\n",
       "      <td>-999.0</td>\n",
       "      <td>-999.0</td>\n",
       "      <td>-999.0</td>\n",
       "      <td>-999.0</td>\n",
       "    </tr>\n",
       "    <tr>\n",
       "      <th>3</th>\n",
       "      <td>6-0-0 (2024-04-30)</td>\n",
       "      <td>doi.org/10.14281/18241.24</td>\n",
       "      <td>7</td>\n",
       "      <td>2018</td>\n",
       "      <td>2</td>\n",
       "      <td>20</td>\n",
       "      <td>AND</td>\n",
       "      <td>232</td>\n",
       "      <td>AND</td>\n",
       "      <td>20070004</td>\n",
       "      <td>...</td>\n",
       "      <td>NaN</td>\n",
       "      <td>NaN</td>\n",
       "      <td>NaN</td>\n",
       "      <td>NaN</td>\n",
       "      <td>NaN</td>\n",
       "      <td>NaN</td>\n",
       "      <td>NaN</td>\n",
       "      <td>NaN</td>\n",
       "      <td>NaN</td>\n",
       "      <td>NaN</td>\n",
       "    </tr>\n",
       "    <tr>\n",
       "      <th>4</th>\n",
       "      <td>6-0-0 (2024-04-30)</td>\n",
       "      <td>doi.org/10.14281/18241.24</td>\n",
       "      <td>7</td>\n",
       "      <td>2018</td>\n",
       "      <td>2</td>\n",
       "      <td>20</td>\n",
       "      <td>AND</td>\n",
       "      <td>232</td>\n",
       "      <td>AND</td>\n",
       "      <td>20070005</td>\n",
       "      <td>...</td>\n",
       "      <td>66.964286</td>\n",
       "      <td>-999.0</td>\n",
       "      <td>-999.0</td>\n",
       "      <td>-999.0</td>\n",
       "      <td>-999.0</td>\n",
       "      <td>-999.0</td>\n",
       "      <td>-999.0</td>\n",
       "      <td>-999.0</td>\n",
       "      <td>-999.0</td>\n",
       "      <td>-999.0</td>\n",
       "    </tr>\n",
       "  </tbody>\n",
       "</table>\n",
       "<p>5 rows × 613 columns</p>\n",
       "</div>"
      ],
      "text/plain": [
       "              version                        doi  A_WAVE  A_YEAR  A_STUDY  \\\n",
       "0  6-0-0 (2024-04-30)  doi.org/10.14281/18241.24       7    2018        2   \n",
       "1  6-0-0 (2024-04-30)  doi.org/10.14281/18241.24       7    2018        2   \n",
       "2  6-0-0 (2024-04-30)  doi.org/10.14281/18241.24       7    2018        2   \n",
       "3  6-0-0 (2024-04-30)  doi.org/10.14281/18241.24       7    2018        2   \n",
       "4  6-0-0 (2024-04-30)  doi.org/10.14281/18241.24       7    2018        2   \n",
       "\n",
       "   B_COUNTRY B_COUNTRY_ALPHA  C_COW_NUM C_COW_ALPHA  D_INTERVIEW  ...  \\\n",
       "0         20             AND        232         AND     20070001  ...   \n",
       "1         20             AND        232         AND     20070002  ...   \n",
       "2         20             AND        232         AND     20070003  ...   \n",
       "3         20             AND        232         AND     20070004  ...   \n",
       "4         20             AND        232         AND     20070005  ...   \n",
       "\n",
       "   WVS_Polmistrust_PartyVoter  WVS_LR_MedianVoter  WVS_LibCon_MedianVoter  \\\n",
       "0                   62.434211              -999.0                  -999.0   \n",
       "1                   62.434211              -999.0                  -999.0   \n",
       "2                   62.434211              -999.0                  -999.0   \n",
       "3                         NaN                 NaN                     NaN   \n",
       "4                   66.964286              -999.0                  -999.0   \n",
       "\n",
       "   v2psbars  v2psorgs  v2psprbrch  v2psprlnks  v2psplats  v2xnp_client  \\\n",
       "0    -999.0    -999.0      -999.0      -999.0     -999.0        -999.0   \n",
       "1    -999.0    -999.0      -999.0      -999.0     -999.0        -999.0   \n",
       "2    -999.0    -999.0      -999.0      -999.0     -999.0        -999.0   \n",
       "3       NaN       NaN         NaN         NaN        NaN           NaN   \n",
       "4    -999.0    -999.0      -999.0      -999.0     -999.0        -999.0   \n",
       "\n",
       "   v2xps_party  \n",
       "0       -999.0  \n",
       "1       -999.0  \n",
       "2       -999.0  \n",
       "3          NaN  \n",
       "4       -999.0  \n",
       "\n",
       "[5 rows x 613 columns]"
      ]
     },
     "execution_count": 33,
     "metadata": {},
     "output_type": "execute_result"
    }
   ],
   "source": [
    "#reading the data\n",
    "wvs = pd.read_csv('06_WVS7.csv', low_memory=False)\n",
    "wvs.head()"
   ]
  },
  {
   "cell_type": "code",
   "execution_count": 34,
   "id": "f23f5b18-8af8-4943-a9d9-7dd32e54d7af",
   "metadata": {},
   "outputs": [],
   "source": [
    "#choosing applicable columns\n",
    "wvs_df = wvs[['B_COUNTRY_ALPHA', 'A_YEAR', 'Q57', 'Q64', 'Q66', 'Q71', 'Q75', 'Q77', 'Q88']]\n",
    "\n",
    "#renaming columns based on the codebook\n",
    "wvs_df = wvs_df.set_axis(['iso3', 'year', 'poeple_trust', 'church_trust', 'press_trust', 'gov_trust', 'uni_trust', 'comp_trust', 'who_trust'], axis=1)"
   ]
  },
  {
   "cell_type": "code",
   "execution_count": 35,
   "id": "f43a7639-b6e0-45af-b2fd-20a14f5781e9",
   "metadata": {},
   "outputs": [
    {
     "data": {
      "text/plain": [
       "iso3            object\n",
       "year             int64\n",
       "poeple_trust     int64\n",
       "church_trust     int64\n",
       "press_trust      int64\n",
       "gov_trust        int64\n",
       "uni_trust        int64\n",
       "comp_trust       int64\n",
       "who_trust        int64\n",
       "dtype: object"
      ]
     },
     "execution_count": 35,
     "metadata": {},
     "output_type": "execute_result"
    }
   ],
   "source": [
    "wvs_df.dtypes"
   ]
  },
  {
   "cell_type": "code",
   "execution_count": 36,
   "id": "94459bd5-eed0-430e-838c-511cd0a8eda7",
   "metadata": {},
   "outputs": [
    {
     "data": {
      "text/plain": [
       "iso3                0\n",
       "year                0\n",
       "poeple_trust     1337\n",
       "church_trust     2036\n",
       "press_trust      2210\n",
       "gov_trust        3137\n",
       "uni_trust        3925\n",
       "comp_trust       5367\n",
       "who_trust       15849\n",
       "dtype: int64"
      ]
     },
     "execution_count": 36,
     "metadata": {},
     "output_type": "execute_result"
    }
   ],
   "source": [
    "#replacing wvs missing values codes (-) with NaN\n",
    "wvs_df.replace([-1, -2, -4, -5], np.NaN, inplace=True)\n",
    "\n",
    "#calculating missing values\n",
    "wvs_df.isna().sum()"
   ]
  },
  {
   "cell_type": "code",
   "execution_count": 37,
   "id": "7bf3a514-bd7d-4d15-9095-fe0d987f780d",
   "metadata": {},
   "outputs": [
    {
     "data": {
      "text/plain": [
       "(97220, 9)"
      ]
     },
     "execution_count": 37,
     "metadata": {},
     "output_type": "execute_result"
    }
   ],
   "source": [
    "wvs_df.shape"
   ]
  },
  {
   "cell_type": "code",
   "execution_count": 38,
   "id": "a61cb28f-e7d1-4e64-bd41-cc752da6b27f",
   "metadata": {},
   "outputs": [
    {
     "data": {
      "text/html": [
       "<div>\n",
       "<style scoped>\n",
       "    .dataframe tbody tr th:only-of-type {\n",
       "        vertical-align: middle;\n",
       "    }\n",
       "\n",
       "    .dataframe tbody tr th {\n",
       "        vertical-align: top;\n",
       "    }\n",
       "\n",
       "    .dataframe thead th {\n",
       "        text-align: right;\n",
       "    }\n",
       "</style>\n",
       "<table border=\"1\" class=\"dataframe\">\n",
       "  <thead>\n",
       "    <tr style=\"text-align: right;\">\n",
       "      <th></th>\n",
       "      <th>iso3</th>\n",
       "      <th>year</th>\n",
       "      <th>poeple_trust</th>\n",
       "      <th>church_trust</th>\n",
       "      <th>press_trust</th>\n",
       "      <th>gov_trust</th>\n",
       "      <th>uni_trust</th>\n",
       "      <th>comp_trust</th>\n",
       "      <th>who_trust</th>\n",
       "    </tr>\n",
       "  </thead>\n",
       "  <tbody>\n",
       "    <tr>\n",
       "      <th>0</th>\n",
       "      <td>AND</td>\n",
       "      <td>2018</td>\n",
       "      <td>1.74</td>\n",
       "      <td>3.00</td>\n",
       "      <td>2.76</td>\n",
       "      <td>2.56</td>\n",
       "      <td>2.09</td>\n",
       "      <td>2.60</td>\n",
       "      <td>2.25</td>\n",
       "    </tr>\n",
       "    <tr>\n",
       "      <th>1</th>\n",
       "      <td>ARG</td>\n",
       "      <td>2017</td>\n",
       "      <td>1.79</td>\n",
       "      <td>2.43</td>\n",
       "      <td>2.91</td>\n",
       "      <td>2.94</td>\n",
       "      <td>2.07</td>\n",
       "      <td>2.91</td>\n",
       "      <td>2.41</td>\n",
       "    </tr>\n",
       "    <tr>\n",
       "      <th>2</th>\n",
       "      <td>ARM</td>\n",
       "      <td>2021</td>\n",
       "      <td>1.92</td>\n",
       "      <td>1.91</td>\n",
       "      <td>3.39</td>\n",
       "      <td>2.90</td>\n",
       "      <td>2.31</td>\n",
       "      <td>2.78</td>\n",
       "      <td>2.64</td>\n",
       "    </tr>\n",
       "    <tr>\n",
       "      <th>3</th>\n",
       "      <td>AUS</td>\n",
       "      <td>2018</td>\n",
       "      <td>1.46</td>\n",
       "      <td>2.82</td>\n",
       "      <td>3.02</td>\n",
       "      <td>2.82</td>\n",
       "      <td>2.14</td>\n",
       "      <td>2.74</td>\n",
       "      <td>2.14</td>\n",
       "    </tr>\n",
       "    <tr>\n",
       "      <th>4</th>\n",
       "      <td>BGD</td>\n",
       "      <td>2018</td>\n",
       "      <td>1.87</td>\n",
       "      <td>1.07</td>\n",
       "      <td>2.11</td>\n",
       "      <td>1.89</td>\n",
       "      <td>1.64</td>\n",
       "      <td>2.21</td>\n",
       "      <td>2.05</td>\n",
       "    </tr>\n",
       "  </tbody>\n",
       "</table>\n",
       "</div>"
      ],
      "text/plain": [
       "  iso3  year  poeple_trust  church_trust  press_trust  gov_trust  uni_trust  \\\n",
       "0  AND  2018          1.74          3.00         2.76       2.56       2.09   \n",
       "1  ARG  2017          1.79          2.43         2.91       2.94       2.07   \n",
       "2  ARM  2021          1.92          1.91         3.39       2.90       2.31   \n",
       "3  AUS  2018          1.46          2.82         3.02       2.82       2.14   \n",
       "4  BGD  2018          1.87          1.07         2.11       1.89       1.64   \n",
       "\n",
       "   comp_trust  who_trust  \n",
       "0        2.60       2.25  \n",
       "1        2.91       2.41  \n",
       "2        2.78       2.64  \n",
       "3        2.74       2.14  \n",
       "4        2.21       2.05  "
      ]
     },
     "execution_count": 38,
     "metadata": {},
     "output_type": "execute_result"
    }
   ],
   "source": [
    "#calculating mean values for the variables\n",
    "wvs_df = wvs_df.groupby(['iso3', 'year']).mean().round(2).reset_index()\n",
    "wvs_df.head()"
   ]
  },
  {
   "cell_type": "markdown",
   "id": "d580be40-4211-422b-9e38-5bec8a7e2381",
   "metadata": {},
   "source": [
    "Data in WVS data for different countries were collected for different years. As COVID-19 could impact trust values, I'm calculating the number of countries where data was collected pre- and post-covid:"
   ]
  },
  {
   "cell_type": "code",
   "execution_count": 39,
   "id": "779a3092-52cf-44ea-92bf-2e53697ed0a2",
   "metadata": {},
   "outputs": [
    {
     "data": {
      "text/plain": [
       "38"
      ]
     },
     "execution_count": 39,
     "metadata": {},
     "output_type": "execute_result"
    }
   ],
   "source": [
    "pre_cov_wvs = wvs_df[wvs_df['year'] < 2020]\n",
    "len(pre_cov_wvs)"
   ]
  },
  {
   "cell_type": "code",
   "execution_count": 40,
   "id": "e3ec70d6-2349-4583-aeb1-a28758a5ad2b",
   "metadata": {},
   "outputs": [
    {
     "data": {
      "text/plain": [
       "28"
      ]
     },
     "execution_count": 40,
     "metadata": {},
     "output_type": "execute_result"
    }
   ],
   "source": [
    "post_cov_wvs = wvs_df[wvs_df['year'] > 2019]\n",
    "len(post_cov_wvs)"
   ]
  },
  {
   "cell_type": "markdown",
   "id": "9c1ee8ec-1aa2-41c0-907b-6386d37d2b29",
   "metadata": {},
   "source": [
    "*Post-exploratory analysis note: there is no direct link between the trust and covid_19. It might be moderated by a different variable but anyways the data will the variables from the survey will be included in the trends analysis (no trends over time as data for different years is not available), as insights might be valuable.*"
   ]
  },
  {
   "cell_type": "markdown",
   "id": "8e2532ec-cd5d-4096-bccd-74397661fa23",
   "metadata": {},
   "source": [
    " "
   ]
  },
  {
   "cell_type": "markdown",
   "id": "0217e049-c71c-42f0-abef-c0899082f836",
   "metadata": {},
   "source": [
    "## Data Merge"
   ]
  },
  {
   "cell_type": "code",
   "execution_count": 41,
   "id": "4e987d68-4bd4-45d0-8651-ff46af68c59e",
   "metadata": {},
   "outputs": [
    {
     "data": {
      "text/plain": [
       "Index(['iso3', 'country', 'region', 'subregion', 'year', 'vac_index',\n",
       "       'Current health expenditure (% of GDP)', 'GDP per capita (current US$)',\n",
       "       'Gini index', 'Individuals using the Internet (% of population)',\n",
       "       'Mortality rate, under-5 (per 1,000 live births)', 'gov_trust',\n",
       "       'polarization'],\n",
       "      dtype='object')"
      ]
     },
     "execution_count": 41,
     "metadata": {},
     "output_type": "execute_result"
    }
   ],
   "source": [
    "# Changing wide tables to long tables\n",
    "v_index_long = v_index_df.melt(id_vars=['iso3'], var_name='year', value_name='vac_index')\n",
    "wb_long = wb_df.melt(id_vars=['iso3', 'indicator'], var_name='year', value_name='value')\\\n",
    "        .pivot(index=['iso3', 'year'],columns='indicator',values='value')\\\n",
    "        .reset_index()\n",
    "\n",
    "#changing  year values to integer\n",
    "v_index_long['year'] = v_index_long['year'].astype(int)\n",
    "\n",
    "# Merging with country, iso3, year keys including values matching target v_index only\n",
    "from functools import reduce\n",
    "dfs_to_merge = [v_index_long, wb_long, trust_df, pol_df]\n",
    "df = reduce(lambda left, right: pd.merge(left, right, on=['iso3', 'year'], how='left'), dfs_to_merge)\n",
    "\n",
    "#merging with geo data on iso3\n",
    "df = df.merge(geo_df, on='iso3', how='left')\n",
    "\n",
    "#reordering columns\n",
    "df = df[['iso3', 'country', 'region', 'subregion'] + [col for col in df.columns if col not in ['iso3', 'country', 'region', 'subregion']]]\n",
    "\n",
    "df.columns"
   ]
  },
  {
   "cell_type": "code",
   "execution_count": 42,
   "id": "cf581cba-49da-49f2-ad66-1ede82517fd0",
   "metadata": {},
   "outputs": [
    {
     "data": {
      "text/html": [
       "<div>\n",
       "<style scoped>\n",
       "    .dataframe tbody tr th:only-of-type {\n",
       "        vertical-align: middle;\n",
       "    }\n",
       "\n",
       "    .dataframe tbody tr th {\n",
       "        vertical-align: top;\n",
       "    }\n",
       "\n",
       "    .dataframe thead th {\n",
       "        text-align: right;\n",
       "    }\n",
       "</style>\n",
       "<table border=\"1\" class=\"dataframe\">\n",
       "  <thead>\n",
       "    <tr style=\"text-align: right;\">\n",
       "      <th></th>\n",
       "      <th>iso3</th>\n",
       "      <th>country</th>\n",
       "      <th>region</th>\n",
       "      <th>subregion</th>\n",
       "      <th>year</th>\n",
       "      <th>vac_index</th>\n",
       "      <th>health_exp</th>\n",
       "      <th>gdp</th>\n",
       "      <th>gini</th>\n",
       "      <th>internet_use</th>\n",
       "      <th>child_mort</th>\n",
       "      <th>gov_trust</th>\n",
       "      <th>polarization</th>\n",
       "    </tr>\n",
       "  </thead>\n",
       "  <tbody>\n",
       "    <tr>\n",
       "      <th>0</th>\n",
       "      <td>AFG</td>\n",
       "      <td>Afghanistan</td>\n",
       "      <td>Asia</td>\n",
       "      <td>Southern Asia</td>\n",
       "      <td>2012</td>\n",
       "      <td>62.50</td>\n",
       "      <td>7.90</td>\n",
       "      <td>651.42</td>\n",
       "      <td>NaN</td>\n",
       "      <td>5.45</td>\n",
       "      <td>81.2</td>\n",
       "      <td>NaN</td>\n",
       "      <td>1.02</td>\n",
       "    </tr>\n",
       "    <tr>\n",
       "      <th>1</th>\n",
       "      <td>AGO</td>\n",
       "      <td>Angola</td>\n",
       "      <td>Africa</td>\n",
       "      <td>Middle Africa</td>\n",
       "      <td>2012</td>\n",
       "      <td>56.80</td>\n",
       "      <td>2.40</td>\n",
       "      <td>5086.03</td>\n",
       "      <td>NaN</td>\n",
       "      <td>7.70</td>\n",
       "      <td>104.8</td>\n",
       "      <td>NaN</td>\n",
       "      <td>-1.14</td>\n",
       "    </tr>\n",
       "    <tr>\n",
       "      <th>2</th>\n",
       "      <td>ALB</td>\n",
       "      <td>Albania</td>\n",
       "      <td>Europe</td>\n",
       "      <td>Southeast Europe</td>\n",
       "      <td>2012</td>\n",
       "      <td>98.33</td>\n",
       "      <td>6.16</td>\n",
       "      <td>4247.63</td>\n",
       "      <td>29.0</td>\n",
       "      <td>49.40</td>\n",
       "      <td>11.2</td>\n",
       "      <td>NaN</td>\n",
       "      <td>1.40</td>\n",
       "    </tr>\n",
       "    <tr>\n",
       "      <th>3</th>\n",
       "      <td>AND</td>\n",
       "      <td>Andorra</td>\n",
       "      <td>Europe</td>\n",
       "      <td>Southern Europe</td>\n",
       "      <td>2012</td>\n",
       "      <td>96.29</td>\n",
       "      <td>6.71</td>\n",
       "      <td>41500.54</td>\n",
       "      <td>NaN</td>\n",
       "      <td>82.70</td>\n",
       "      <td>4.1</td>\n",
       "      <td>NaN</td>\n",
       "      <td>NaN</td>\n",
       "    </tr>\n",
       "    <tr>\n",
       "      <th>4</th>\n",
       "      <td>ARE</td>\n",
       "      <td>United Arab Emirates</td>\n",
       "      <td>Asia</td>\n",
       "      <td>Western Asia</td>\n",
       "      <td>2012</td>\n",
       "      <td>95.78</td>\n",
       "      <td>3.34</td>\n",
       "      <td>52034.48</td>\n",
       "      <td>NaN</td>\n",
       "      <td>85.00</td>\n",
       "      <td>8.4</td>\n",
       "      <td>NaN</td>\n",
       "      <td>-0.61</td>\n",
       "    </tr>\n",
       "  </tbody>\n",
       "</table>\n",
       "</div>"
      ],
      "text/plain": [
       "  iso3               country  region         subregion  year  vac_index  \\\n",
       "0  AFG           Afghanistan    Asia     Southern Asia  2012      62.50   \n",
       "1  AGO                Angola  Africa     Middle Africa  2012      56.80   \n",
       "2  ALB               Albania  Europe  Southeast Europe  2012      98.33   \n",
       "3  AND               Andorra  Europe   Southern Europe  2012      96.29   \n",
       "4  ARE  United Arab Emirates    Asia      Western Asia  2012      95.78   \n",
       "\n",
       "   health_exp       gdp  gini  internet_use  child_mort  gov_trust  \\\n",
       "0        7.90    651.42   NaN          5.45        81.2        NaN   \n",
       "1        2.40   5086.03   NaN          7.70       104.8        NaN   \n",
       "2        6.16   4247.63  29.0         49.40        11.2        NaN   \n",
       "3        6.71  41500.54   NaN         82.70         4.1        NaN   \n",
       "4        3.34  52034.48   NaN         85.00         8.4        NaN   \n",
       "\n",
       "   polarization  \n",
       "0          1.02  \n",
       "1         -1.14  \n",
       "2          1.40  \n",
       "3           NaN  \n",
       "4         -0.61  "
      ]
     },
     "execution_count": 42,
     "metadata": {},
     "output_type": "execute_result"
    }
   ],
   "source": [
    "#changing names\n",
    "df = df.set_axis(['iso3', 'country', 'region', 'subregion', 'year', 'vac_index',\n",
    "       'health_exp', 'gdp', 'gini', 'internet_use', 'child_mort', \n",
    "       'gov_trust','polarization'], axis=1)\n",
    "df.head()"
   ]
  },
  {
   "cell_type": "markdown",
   "id": "cc12c666-f453-427d-91f7-680c849ce671",
   "metadata": {},
   "source": [
    "Checking what countries are missing for each variable (except gov_trust as this is bonus only with oecd countries):"
   ]
  },
  {
   "cell_type": "code",
   "execution_count": 43,
   "id": "1ac965e9-281e-4447-9849-e048d68d90ab",
   "metadata": {},
   "outputs": [
    {
     "name": "stdout",
     "output_type": "stream",
     "text": [
      "\n",
      "Missing in 'gdp': (6 countries)\n",
      "['Cook Islands', 'Eritrea', 'Niue', 'North Korea', 'South Sudan', 'Venezuela']\n",
      "\n",
      "Missing in 'gini': (129 countries)\n",
      "['Afghanistan', 'Algeria', 'Andorra', 'Angola', 'Antigua and Barbuda', 'Australia', 'Azerbaijan', 'Bahamas', 'Bahrain', 'Bangladesh', 'Barbados', 'Belize', 'Benin', 'Bhutan', 'Bosnia and Herzegovina', 'Botswana', 'Brunei', 'Burkina Faso', 'Burundi', 'Cambodia', 'Cameroon', 'Cape Verde', 'Central African Republic', 'Chad', 'Chile', 'Comoros', 'Cook Islands', 'Cuba', 'DR Congo', 'Djibouti', 'Dominica', 'Egypt', 'Equatorial Guinea', 'Eritrea', 'Eswatini', 'Ethiopia', 'Fiji', 'Gabon', 'Gambia', 'Ghana', 'Grenada', 'Guatemala', 'Guinea', 'Guinea-Bissau', 'Guyana', 'Haiti', 'India', 'Iraq', 'Ivory Coast', 'Jamaica', 'Jordan', 'Kenya', 'Kiribati', 'Kuwait', 'Laos', 'Lebanon', 'Lesotho', 'Liberia', 'Libya', 'Madagascar', 'Malawi', 'Malaysia', 'Maldives', 'Mali', 'Marshall Islands', 'Mauritania', 'Mauritius', 'Mexico', 'Micronesia', 'Monaco', 'Mongolia', 'Morocco', 'Mozambique', 'Myanmar', 'Namibia', 'Nauru', 'Nepal', 'New Zealand', 'Nicaragua', 'Niger', 'Nigeria', 'Niue', 'North Korea', 'Oman', 'Pakistan', 'Palau', 'Palestine', 'Papua New Guinea', 'Philippines', 'Qatar', 'Republic of the Congo', 'Rwanda', 'Saint Kitts and Nevis', 'Saint Lucia', 'Saint Vincent and the Grenadines', 'Samoa', 'San Marino', 'Saudi Arabia', 'Senegal', 'Seychelles', 'Sierra Leone', 'Singapore', 'Solomon Islands', 'Somalia', 'South Africa', 'South Sudan', 'Sri Lanka', 'Sudan', 'Suriname', 'Syria', 'São Tomé and Príncipe', 'Tajikistan', 'Tanzania', 'Timor-Leste', 'Togo', 'Tonga', 'Trinidad and Tobago', 'Tunisia', 'Turkmenistan', 'Tuvalu', 'Uganda', 'United Arab Emirates', 'Uzbekistan', 'Vanuatu', 'Venezuela', 'Vietnam', 'Yemen', 'Zambia', 'Zimbabwe']\n",
      "\n",
      "Missing in 'health_exp': (6 countries)\n",
      "['Cook Islands', 'Niue', 'North Korea', 'Somalia', 'South Sudan', 'Venezuela']\n",
      "\n",
      "Missing in 'child_mort': (2 countries)\n",
      "['Cook Islands', 'Niue']\n",
      "\n",
      "Missing in 'internet_use': (12 countries)\n",
      "['Cook Islands', 'Libya', 'Nauru', 'Niue', 'North Korea', 'Palau', 'San Marino', 'South Sudan', 'Sri Lanka', 'Sudan', 'Turkmenistan', 'Venezuela']\n",
      "\n",
      "Missing in 'polarization': (22 countries)\n",
      "['Andorra', 'Antigua and Barbuda', 'Bahamas', 'Belize', 'Brunei', 'Cook Islands', 'Dominica', 'Grenada', 'Kiribati', 'Marshall Islands', 'Micronesia', 'Monaco', 'Nauru', 'Niue', 'Palau', 'Saint Kitts and Nevis', 'Saint Lucia', 'Saint Vincent and the Grenadines', 'Samoa', 'San Marino', 'Tonga', 'Tuvalu']\n"
     ]
    }
   ],
   "source": [
    "# List of columns to check\n",
    "cols_to_check = ['gdp', 'gini', 'health_exp', 'child_mort', 'internet_use', 'polarization']\n",
    "\n",
    "# Dictionary to store countries with missing values per column\n",
    "missing_by_column = {}\n",
    "\n",
    "for col in cols_to_check:\n",
    "    missing_countries = df[df[col].isna()]['country'].unique()\n",
    "    missing_by_column[col] = missing_countries\n",
    "\n",
    "# Print the results\n",
    "for col, countries in missing_by_column.items():\n",
    "    print(f\"\\nMissing in '{col}': ({len(countries)} countries)\")\n",
    "    print(sorted(countries))"
   ]
  },
  {
   "cell_type": "markdown",
   "id": "e3fc11f1-39ab-472c-96ab-e74851d810ae",
   "metadata": {},
   "source": [
    "Data for polarization is not crucial for the analysis - the variable will be rather used as a moderator. Thus, for the final analysis only countries missing in gdp, health_exp, child_mort and internet_use will be excluded. As for gini index, 129 countries are missing, the variable will be excluded from the analysis."
   ]
  },
  {
   "cell_type": "code",
   "execution_count": 44,
   "id": "468212a0-a616-4e08-bcc5-53c0a9a00474",
   "metadata": {},
   "outputs": [
    {
     "name": "stdout",
     "output_type": "stream",
     "text": [
      "Number of countries: 181\n"
     ]
    }
   ],
   "source": [
    "# Creating a list of countries with any missing values in selected columns\n",
    "countries_with_missing = df[df[['gdp', 'health_exp', 'child_mort', 'internet_use']].isna().any(axis=1)]['country'].unique()\n",
    "\n",
    "# Removing those countries\n",
    "df_cleaned = df[~df['country'].isin(countries_with_missing)].copy()\n",
    "\n",
    "#dropping gini index\n",
    "df_cleaned = df_cleaned.drop(['gini'], axis=1)\n",
    "\n",
    "#final numer of countries\n",
    "print(f\"Number of countries: {df_cleaned['country'].nunique()}\")"
   ]
  },
  {
   "cell_type": "markdown",
   "id": "cb668574-c2e3-4ca4-a168-499a95f98dbb",
   "metadata": {},
   "source": [
    "This is final DataFrame for analysis exploratory analysis and predictions."
   ]
  },
  {
   "cell_type": "code",
   "execution_count": 45,
   "id": "b33506e4-140f-4a09-bdb2-9cf34c4ec2b7",
   "metadata": {},
   "outputs": [],
   "source": [
    "df_cleaned.to_csv(\"00_Immunization_db.csv\", index=False)"
   ]
  },
  {
   "cell_type": "markdown",
   "id": "d54eb118-3770-4a5a-8cd0-29436aa77965",
   "metadata": {},
   "source": [
    " "
   ]
  }
 ],
 "metadata": {
  "kernelspec": {
   "display_name": "anaconda-ai-2024.04-py310",
   "language": "python",
   "name": "conda-env-anaconda-ai-2024.04-py310-py"
  },
  "language_info": {
   "codemirror_mode": {
    "name": "ipython",
    "version": 3
   },
   "file_extension": ".py",
   "mimetype": "text/x-python",
   "name": "python",
   "nbconvert_exporter": "python",
   "pygments_lexer": "ipython3",
   "version": "3.10.13"
  }
 },
 "nbformat": 4,
 "nbformat_minor": 5
}
