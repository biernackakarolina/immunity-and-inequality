{
 "cells": [
  {
   "cell_type": "markdown",
   "id": "fe43f0c5-3c37-420b-97aa-acd14e7dad1d",
   "metadata": {},
   "source": [
    "# Data Preparation"
   ]
  },
  {
   "cell_type": "markdown",
   "id": "12a10f9a-5cae-4b2b-ac12-dca8231d8da2",
   "metadata": {},
   "source": [
    "## Introduction"
   ]
  },
  {
   "cell_type": "markdown",
   "id": "281f187e-b70d-46e8-96d9-6104a69fde1e",
   "metadata": {},
   "source": [
    "**Context & Motivation**\n",
    "\n",
    "Vaccination is a cornerstone of public health, contributing significantly to the prevention of disease and the reduction of child mortality worldwide. Despite its proven effectiveness, global access to and trust in vaccines remains uneven — influenced by political, economic, and cultural factors. This project explores these dynamics from a data-driven perspective.\n",
    "\n",
    "**Objectives**\n",
    "1. Read data for various sources (UNICEF, World Bank, World Values Survey, V Dem)\n",
    "2. Handle missing data (or exclude dataset if needed)\n",
    "4. Ensure consistency (country names, data format, etc.)\n",
    "5. Merge data for final dataset "
   ]
  },
  {
   "cell_type": "markdown",
   "id": "a1f69834-37fb-448e-88c4-8941a5747cd8",
   "metadata": {},
   "source": [
    "The final dataset will include the following variables:\n",
    "1. **country** - name of countries\n",
    "2. **region** - region name - USND\n",
    "3. **subregion** - sub-region name - USND\n",
    "4. **year** - applicable year\n",
    "5. **vac_index** - index of vaccination calculated as average of % ofvaccinated population with globally recommended vaccines (BCG, DTP3, POL3, IPV2, MCV2, RCV1, HEPB3, HEPBB, HIB3, PCV3, ROTAC) - UNICEF\n",
    "6. **gpd** - gdp per capita (US$) - World Bank\n",
    "7. **health_exp** - health expenditure (% of GDP) - World Bank\n",
    "8. **child_mort** - under 5 years old children mortality (per 1000 live births) - World Bank\n",
    "9. **internet_use** - % of population using internet - World Bank\n",
    "10. **gov_trust** - % of population trusting government (yes/no) - UNICEF\n",
    "11. **polarization** - score based on expert assessments of societal divisions - V-Dem"
   ]
  },
  {
   "cell_type": "markdown",
   "id": "daab2d70-7cff-457c-ae03-0e34ea17be32",
   "metadata": {},
   "source": [
    "Separated DataSets will be used in relational PowerBI database, whereas merged dataframe in exploratory analysis and predictions."
   ]
  },
  {
   "cell_type": "code",
   "execution_count": 1,
   "id": "dbedebc2-41e4-4e4a-96d2-11bf18c0867a",
   "metadata": {},
   "outputs": [],
   "source": [
    "#importing libraries\n",
    "import pandas as pd\n",
    "import numpy as np"
   ]
  },
  {
   "cell_type": "markdown",
   "id": "4a51e317-e3a9-4548-8e9c-5aea0171db4a",
   "metadata": {},
   "source": [
    "## Vaccinations - Target Variable"
   ]
  },
  {
   "cell_type": "markdown",
   "id": "3705ae3e-0faf-4320-81cf-1d7a06c8fb43",
   "metadata": {},
   "source": [
    "Vaccinations Excel includes UNICEF data on % of population being vaccinated in a given year. Each vaccine data is included in a separate tab. As some vaccines are only recommended for a few regions, there will be excluded from the analysis for a consistency."
   ]
  },
  {
   "cell_type": "markdown",
   "id": "37df6230-2f67-43d1-8ba9-a035ed72f158",
   "metadata": {},
   "source": [
    "### All Vaccines DataFrame"
   ]
  },
  {
   "cell_type": "code",
   "execution_count": 2,
   "id": "ada53999-2997-41f3-b8c7-788cc7b1741a",
   "metadata": {},
   "outputs": [
    {
     "data": {
      "text/plain": [
       "['ReadMe',\n",
       " 'BCG',\n",
       " 'DTP1',\n",
       " 'DTP3',\n",
       " 'HEPB3',\n",
       " 'HEPBB',\n",
       " 'HIB3',\n",
       " 'IPV1',\n",
       " 'IPV2',\n",
       " 'MCV1',\n",
       " 'MCV2',\n",
       " 'MENGA',\n",
       " 'PCV3',\n",
       " 'POL3',\n",
       " 'RCV1',\n",
       " 'ROTAC',\n",
       " 'YFV',\n",
       " 'regional_global']"
      ]
     },
     "execution_count": 2,
     "metadata": {},
     "output_type": "execute_result"
    }
   ],
   "source": [
    "#reading the file to get sheet names\n",
    "vaccines = pd.ExcelFile('01_Vaccinations.xlsx')\n",
    "\n",
    "#listing sheet names\n",
    "vaccines.sheet_names"
   ]
  },
  {
   "cell_type": "code",
   "execution_count": 3,
   "id": "aff7449a-3366-4507-b1b8-8ceec5a1d19a",
   "metadata": {},
   "outputs": [
    {
     "data": {
      "text/html": [
       "<div>\n",
       "<style scoped>\n",
       "    .dataframe tbody tr th:only-of-type {\n",
       "        vertical-align: middle;\n",
       "    }\n",
       "\n",
       "    .dataframe tbody tr th {\n",
       "        vertical-align: top;\n",
       "    }\n",
       "\n",
       "    .dataframe thead th {\n",
       "        text-align: right;\n",
       "    }\n",
       "</style>\n",
       "<table border=\"1\" class=\"dataframe\">\n",
       "  <thead>\n",
       "    <tr style=\"text-align: right;\">\n",
       "      <th></th>\n",
       "      <th>unicef_region</th>\n",
       "      <th>iso3</th>\n",
       "      <th>country</th>\n",
       "      <th>vaccine</th>\n",
       "      <th>2023</th>\n",
       "      <th>2022</th>\n",
       "      <th>2021</th>\n",
       "      <th>2020</th>\n",
       "      <th>2019</th>\n",
       "      <th>2018</th>\n",
       "      <th>...</th>\n",
       "      <th>2009</th>\n",
       "      <th>2008</th>\n",
       "      <th>2007</th>\n",
       "      <th>2006</th>\n",
       "      <th>2005</th>\n",
       "      <th>2004</th>\n",
       "      <th>2003</th>\n",
       "      <th>2002</th>\n",
       "      <th>2001</th>\n",
       "      <th>2000</th>\n",
       "    </tr>\n",
       "  </thead>\n",
       "  <tbody>\n",
       "    <tr>\n",
       "      <th>0</th>\n",
       "      <td>ROSA</td>\n",
       "      <td>AFG</td>\n",
       "      <td>Afghanistan</td>\n",
       "      <td>BCG</td>\n",
       "      <td>68.0</td>\n",
       "      <td>69.0</td>\n",
       "      <td>65.0</td>\n",
       "      <td>72.0</td>\n",
       "      <td>74.0</td>\n",
       "      <td>82.0</td>\n",
       "      <td>...</td>\n",
       "      <td>64.0</td>\n",
       "      <td>66.0</td>\n",
       "      <td>60.0</td>\n",
       "      <td>60.0</td>\n",
       "      <td>57.0</td>\n",
       "      <td>51.0</td>\n",
       "      <td>44.0</td>\n",
       "      <td>46.0</td>\n",
       "      <td>43.0</td>\n",
       "      <td>30.0</td>\n",
       "    </tr>\n",
       "    <tr>\n",
       "      <th>1</th>\n",
       "      <td>ECAR</td>\n",
       "      <td>ALB</td>\n",
       "      <td>Albania</td>\n",
       "      <td>BCG</td>\n",
       "      <td>99.0</td>\n",
       "      <td>99.0</td>\n",
       "      <td>99.0</td>\n",
       "      <td>98.0</td>\n",
       "      <td>99.0</td>\n",
       "      <td>99.0</td>\n",
       "      <td>...</td>\n",
       "      <td>97.0</td>\n",
       "      <td>99.0</td>\n",
       "      <td>98.0</td>\n",
       "      <td>97.0</td>\n",
       "      <td>98.0</td>\n",
       "      <td>97.0</td>\n",
       "      <td>95.0</td>\n",
       "      <td>94.0</td>\n",
       "      <td>93.0</td>\n",
       "      <td>93.0</td>\n",
       "    </tr>\n",
       "    <tr>\n",
       "      <th>2</th>\n",
       "      <td>MENA</td>\n",
       "      <td>DZA</td>\n",
       "      <td>Algeria</td>\n",
       "      <td>BCG</td>\n",
       "      <td>99.0</td>\n",
       "      <td>98.0</td>\n",
       "      <td>98.0</td>\n",
       "      <td>99.0</td>\n",
       "      <td>99.0</td>\n",
       "      <td>99.0</td>\n",
       "      <td>...</td>\n",
       "      <td>99.0</td>\n",
       "      <td>99.0</td>\n",
       "      <td>99.0</td>\n",
       "      <td>99.0</td>\n",
       "      <td>98.0</td>\n",
       "      <td>98.0</td>\n",
       "      <td>98.0</td>\n",
       "      <td>98.0</td>\n",
       "      <td>97.0</td>\n",
       "      <td>97.0</td>\n",
       "    </tr>\n",
       "    <tr>\n",
       "      <th>3</th>\n",
       "      <td>ESAR</td>\n",
       "      <td>AGO</td>\n",
       "      <td>Angola</td>\n",
       "      <td>BCG</td>\n",
       "      <td>73.0</td>\n",
       "      <td>60.0</td>\n",
       "      <td>56.0</td>\n",
       "      <td>58.0</td>\n",
       "      <td>69.0</td>\n",
       "      <td>72.0</td>\n",
       "      <td>...</td>\n",
       "      <td>70.0</td>\n",
       "      <td>73.0</td>\n",
       "      <td>75.0</td>\n",
       "      <td>54.0</td>\n",
       "      <td>51.0</td>\n",
       "      <td>63.0</td>\n",
       "      <td>54.0</td>\n",
       "      <td>76.0</td>\n",
       "      <td>70.0</td>\n",
       "      <td>53.0</td>\n",
       "    </tr>\n",
       "    <tr>\n",
       "      <th>4</th>\n",
       "      <td>LACR</td>\n",
       "      <td>ARG</td>\n",
       "      <td>Argentina</td>\n",
       "      <td>BCG</td>\n",
       "      <td>69.0</td>\n",
       "      <td>81.0</td>\n",
       "      <td>80.0</td>\n",
       "      <td>75.0</td>\n",
       "      <td>85.0</td>\n",
       "      <td>93.0</td>\n",
       "      <td>...</td>\n",
       "      <td>99.0</td>\n",
       "      <td>99.0</td>\n",
       "      <td>99.0</td>\n",
       "      <td>99.0</td>\n",
       "      <td>99.0</td>\n",
       "      <td>99.0</td>\n",
       "      <td>99.0</td>\n",
       "      <td>95.0</td>\n",
       "      <td>92.0</td>\n",
       "      <td>95.0</td>\n",
       "    </tr>\n",
       "  </tbody>\n",
       "</table>\n",
       "<p>5 rows × 28 columns</p>\n",
       "</div>"
      ],
      "text/plain": [
       "  unicef_region iso3      country vaccine  2023  2022  2021  2020  2019  2018  \\\n",
       "0          ROSA  AFG  Afghanistan     BCG  68.0  69.0  65.0  72.0  74.0  82.0   \n",
       "1          ECAR  ALB      Albania     BCG  99.0  99.0  99.0  98.0  99.0  99.0   \n",
       "2          MENA  DZA      Algeria     BCG  99.0  98.0  98.0  99.0  99.0  99.0   \n",
       "3          ESAR  AGO       Angola     BCG  73.0  60.0  56.0  58.0  69.0  72.0   \n",
       "4          LACR  ARG    Argentina     BCG  69.0  81.0  80.0  75.0  85.0  93.0   \n",
       "\n",
       "   ...  2009  2008  2007  2006  2005  2004  2003  2002  2001  2000  \n",
       "0  ...  64.0  66.0  60.0  60.0  57.0  51.0  44.0  46.0  43.0  30.0  \n",
       "1  ...  97.0  99.0  98.0  97.0  98.0  97.0  95.0  94.0  93.0  93.0  \n",
       "2  ...  99.0  99.0  99.0  99.0  98.0  98.0  98.0  98.0  97.0  97.0  \n",
       "3  ...  70.0  73.0  75.0  54.0  51.0  63.0  54.0  76.0  70.0  53.0  \n",
       "4  ...  99.0  99.0  99.0  99.0  99.0  99.0  99.0  95.0  92.0  95.0  \n",
       "\n",
       "[5 rows x 28 columns]"
      ]
     },
     "execution_count": 3,
     "metadata": {},
     "output_type": "execute_result"
    }
   ],
   "source": [
    "# Read in each sheet for vaccines to be included in the analysis\n",
    "sheet_names = ['BCG' , 'DTP3', 'POL3', 'IPV2', 'MCV2', 'RCV1', 'HEPB3', 'HEPBB', 'HIB3', 'PCV3', 'ROTAC']\n",
    "sheets = [vaccines.parse(name) for name in sheet_names] \n",
    "\n",
    "# Combine them into one dataframe\n",
    "vac_df = pd.concat(sheets, ignore_index=True)\n",
    "vac_df.head()"
   ]
  },
  {
   "cell_type": "code",
   "execution_count": 4,
   "id": "6e494bfc-e531-4157-a753-633e4ec4160a",
   "metadata": {},
   "outputs": [],
   "source": [
    "#choosing applicable columns and reordering\n",
    "vac_df = vac_df.iloc[:, [2, 1, 3, 15, 14, 13, 12, 11, 10, 9, 8, 7, 6, 5]]\n"
   ]
  },
  {
   "cell_type": "code",
   "execution_count": 5,
   "id": "02da8d65-310d-4210-b40e-6dcb34fb0bd3",
   "metadata": {},
   "outputs": [
    {
     "data": {
      "text/plain": [
       "(1782, 14)"
      ]
     },
     "execution_count": 5,
     "metadata": {},
     "output_type": "execute_result"
    }
   ],
   "source": [
    "#getting number of rows and columns\n",
    "vac_df.shape"
   ]
  },
  {
   "cell_type": "code",
   "execution_count": 6,
   "id": "2ccfd0ec-e5a2-4835-b7f7-1b54c3c0a6ed",
   "metadata": {},
   "outputs": [
    {
     "data": {
      "text/plain": [
       "country     object\n",
       "iso3        object\n",
       "vaccine     object\n",
       "2012       float64\n",
       "2013       float64\n",
       "2014       float64\n",
       "2015       float64\n",
       "2016       float64\n",
       "2017       float64\n",
       "2018       float64\n",
       "2019       float64\n",
       "2020       float64\n",
       "2021       float64\n",
       "2022       float64\n",
       "dtype: object"
      ]
     },
     "execution_count": 6,
     "metadata": {},
     "output_type": "execute_result"
    }
   ],
   "source": [
    "#listing datatypes\n",
    "vac_df.dtypes"
   ]
  },
  {
   "cell_type": "markdown",
   "id": "55915eab-2bbb-4f29-ba39-14c46782f057",
   "metadata": {},
   "source": [
    " "
   ]
  },
  {
   "cell_type": "markdown",
   "id": "58dceb9a-10f7-41d6-afe5-225fb3fd48d0",
   "metadata": {},
   "source": [
    "###  Vaccination Index"
   ]
  },
  {
   "cell_type": "markdown",
   "id": "abfe2f5f-648d-41ed-afbe-86bb8b33c0cf",
   "metadata": {},
   "source": [
    "As data on specific vaccines could be possibly used in the analysis, there will be new dataframe created for vaccination index - mean score of vaccinations for included vaccines. "
   ]
  },
  {
   "cell_type": "code",
   "execution_count": 7,
   "id": "16997857-f86e-4673-b0e4-8b6808c01b04",
   "metadata": {},
   "outputs": [
    {
     "data": {
      "text/html": [
       "<div>\n",
       "<style scoped>\n",
       "    .dataframe tbody tr th:only-of-type {\n",
       "        vertical-align: middle;\n",
       "    }\n",
       "\n",
       "    .dataframe tbody tr th {\n",
       "        vertical-align: top;\n",
       "    }\n",
       "\n",
       "    .dataframe thead th {\n",
       "        text-align: right;\n",
       "    }\n",
       "</style>\n",
       "<table border=\"1\" class=\"dataframe\">\n",
       "  <thead>\n",
       "    <tr style=\"text-align: right;\">\n",
       "      <th></th>\n",
       "      <th>country</th>\n",
       "      <th>iso3</th>\n",
       "      <th>2012</th>\n",
       "      <th>2013</th>\n",
       "      <th>2014</th>\n",
       "      <th>2015</th>\n",
       "      <th>2016</th>\n",
       "      <th>2017</th>\n",
       "      <th>2018</th>\n",
       "      <th>2019</th>\n",
       "      <th>2020</th>\n",
       "      <th>2021</th>\n",
       "      <th>2022</th>\n",
       "    </tr>\n",
       "  </thead>\n",
       "  <tbody>\n",
       "    <tr>\n",
       "      <th>0</th>\n",
       "      <td>Afghanistan</td>\n",
       "      <td>AFG</td>\n",
       "      <td>62.50</td>\n",
       "      <td>60.83</td>\n",
       "      <td>52.75</td>\n",
       "      <td>56.25</td>\n",
       "      <td>57.12</td>\n",
       "      <td>57.75</td>\n",
       "      <td>60.44</td>\n",
       "      <td>59.33</td>\n",
       "      <td>58.44</td>\n",
       "      <td>51.80</td>\n",
       "      <td>56.40</td>\n",
       "    </tr>\n",
       "    <tr>\n",
       "      <th>1</th>\n",
       "      <td>Albania</td>\n",
       "      <td>ALB</td>\n",
       "      <td>98.33</td>\n",
       "      <td>99.00</td>\n",
       "      <td>98.33</td>\n",
       "      <td>98.67</td>\n",
       "      <td>98.00</td>\n",
       "      <td>98.56</td>\n",
       "      <td>98.00</td>\n",
       "      <td>97.89</td>\n",
       "      <td>96.40</td>\n",
       "      <td>95.82</td>\n",
       "      <td>95.27</td>\n",
       "    </tr>\n",
       "    <tr>\n",
       "      <th>2</th>\n",
       "      <td>Algeria</td>\n",
       "      <td>DZA</td>\n",
       "      <td>96.14</td>\n",
       "      <td>95.86</td>\n",
       "      <td>96.71</td>\n",
       "      <td>96.71</td>\n",
       "      <td>89.88</td>\n",
       "      <td>92.33</td>\n",
       "      <td>90.00</td>\n",
       "      <td>88.11</td>\n",
       "      <td>85.67</td>\n",
       "      <td>83.44</td>\n",
       "      <td>81.00</td>\n",
       "    </tr>\n",
       "    <tr>\n",
       "      <th>3</th>\n",
       "      <td>Andorra</td>\n",
       "      <td>AND</td>\n",
       "      <td>96.29</td>\n",
       "      <td>94.86</td>\n",
       "      <td>94.88</td>\n",
       "      <td>94.38</td>\n",
       "      <td>95.12</td>\n",
       "      <td>98.00</td>\n",
       "      <td>97.57</td>\n",
       "      <td>97.57</td>\n",
       "      <td>97.29</td>\n",
       "      <td>97.71</td>\n",
       "      <td>96.71</td>\n",
       "    </tr>\n",
       "    <tr>\n",
       "      <th>4</th>\n",
       "      <td>Angola</td>\n",
       "      <td>AGO</td>\n",
       "      <td>56.80</td>\n",
       "      <td>48.33</td>\n",
       "      <td>50.71</td>\n",
       "      <td>51.75</td>\n",
       "      <td>48.75</td>\n",
       "      <td>50.25</td>\n",
       "      <td>55.78</td>\n",
       "      <td>54.56</td>\n",
       "      <td>47.89</td>\n",
       "      <td>40.00</td>\n",
       "      <td>36.50</td>\n",
       "    </tr>\n",
       "  </tbody>\n",
       "</table>\n",
       "</div>"
      ],
      "text/plain": [
       "       country iso3   2012   2013   2014   2015   2016   2017   2018   2019  \\\n",
       "0  Afghanistan  AFG  62.50  60.83  52.75  56.25  57.12  57.75  60.44  59.33   \n",
       "1      Albania  ALB  98.33  99.00  98.33  98.67  98.00  98.56  98.00  97.89   \n",
       "2      Algeria  DZA  96.14  95.86  96.71  96.71  89.88  92.33  90.00  88.11   \n",
       "3      Andorra  AND  96.29  94.86  94.88  94.38  95.12  98.00  97.57  97.57   \n",
       "4       Angola  AGO  56.80  48.33  50.71  51.75  48.75  50.25  55.78  54.56   \n",
       "\n",
       "    2020   2021   2022  \n",
       "0  58.44  51.80  56.40  \n",
       "1  96.40  95.82  95.27  \n",
       "2  85.67  83.44  81.00  \n",
       "3  97.29  97.71  96.71  \n",
       "4  47.89  40.00  36.50  "
      ]
     },
     "execution_count": 7,
     "metadata": {},
     "output_type": "execute_result"
    }
   ],
   "source": [
    "#removing vaccine type column\n",
    "v_index_df = vac_df.drop(['vaccine'], axis=1)\n",
    "\n",
    "#calculating vaccination index \n",
    "v_index_df = v_index_df.groupby(['country', 'iso3']).mean().round(2)\n",
    "v_index_df.reset_index(inplace=True)\n",
    "v_index_df.head()"
   ]
  },
  {
   "cell_type": "code",
   "execution_count": 8,
   "id": "305161b8-bddd-451f-b2dd-1ff9d81dd490",
   "metadata": {},
   "outputs": [
    {
     "data": {
      "text/plain": [
       "(195, 13)"
      ]
     },
     "execution_count": 8,
     "metadata": {},
     "output_type": "execute_result"
    }
   ],
   "source": [
    "#checking number of countries in index df\n",
    "v_index_df.shape"
   ]
  },
  {
   "cell_type": "code",
   "execution_count": 9,
   "id": "33393dff-fbb3-4cbf-88c9-d51bc8161bcb",
   "metadata": {},
   "outputs": [
    {
     "data": {
      "text/plain": [
       "country    0\n",
       "iso3       0\n",
       "2012       0\n",
       "2013       0\n",
       "2014       0\n",
       "2015       0\n",
       "2016       0\n",
       "2017       0\n",
       "2018       0\n",
       "2019       0\n",
       "2020       0\n",
       "2021       0\n",
       "2022       0\n",
       "dtype: int64"
      ]
     },
     "execution_count": 9,
     "metadata": {},
     "output_type": "execute_result"
    }
   ],
   "source": [
    "#checking missing values\n",
    "v_index_df.isna().sum()"
   ]
  },
  {
   "cell_type": "code",
   "execution_count": 10,
   "id": "8c9c5677-d173-4daa-bd51-9028b6a140d7",
   "metadata": {},
   "outputs": [
    {
     "data": {
      "text/html": [
       "<div>\n",
       "<style scoped>\n",
       "    .dataframe tbody tr th:only-of-type {\n",
       "        vertical-align: middle;\n",
       "    }\n",
       "\n",
       "    .dataframe tbody tr th {\n",
       "        vertical-align: top;\n",
       "    }\n",
       "\n",
       "    .dataframe thead th {\n",
       "        text-align: right;\n",
       "    }\n",
       "</style>\n",
       "<table border=\"1\" class=\"dataframe\">\n",
       "  <thead>\n",
       "    <tr style=\"text-align: right;\">\n",
       "      <th></th>\n",
       "      <th>country</th>\n",
       "      <th>iso3</th>\n",
       "      <th>2012</th>\n",
       "      <th>2013</th>\n",
       "      <th>2014</th>\n",
       "      <th>2015</th>\n",
       "      <th>2016</th>\n",
       "      <th>2017</th>\n",
       "      <th>2018</th>\n",
       "      <th>2019</th>\n",
       "      <th>2020</th>\n",
       "      <th>2021</th>\n",
       "      <th>2022</th>\n",
       "    </tr>\n",
       "  </thead>\n",
       "  <tbody>\n",
       "    <tr>\n",
       "      <th>5</th>\n",
       "      <td>Antigua and Barbuda</td>\n",
       "      <td>ATG</td>\n",
       "      <td>96.50</td>\n",
       "      <td>96.33</td>\n",
       "      <td>97.50</td>\n",
       "      <td>93.00</td>\n",
       "      <td>86.50</td>\n",
       "      <td>95.50</td>\n",
       "      <td>95.00</td>\n",
       "      <td>93.50</td>\n",
       "      <td>92.33</td>\n",
       "      <td>80.12</td>\n",
       "      <td>88.75</td>\n",
       "    </tr>\n",
       "    <tr>\n",
       "      <th>20</th>\n",
       "      <td>Bolivia (Plurinational State of)</td>\n",
       "      <td>BOL</td>\n",
       "      <td>93.43</td>\n",
       "      <td>87.86</td>\n",
       "      <td>83.00</td>\n",
       "      <td>90.50</td>\n",
       "      <td>89.00</td>\n",
       "      <td>84.75</td>\n",
       "      <td>79.89</td>\n",
       "      <td>72.89</td>\n",
       "      <td>68.44</td>\n",
       "      <td>70.10</td>\n",
       "      <td>68.20</td>\n",
       "    </tr>\n",
       "    <tr>\n",
       "      <th>21</th>\n",
       "      <td>Bosnia and Herzegovina</td>\n",
       "      <td>BIH</td>\n",
       "      <td>91.71</td>\n",
       "      <td>90.29</td>\n",
       "      <td>88.43</td>\n",
       "      <td>83.14</td>\n",
       "      <td>78.14</td>\n",
       "      <td>77.29</td>\n",
       "      <td>75.29</td>\n",
       "      <td>74.43</td>\n",
       "      <td>73.00</td>\n",
       "      <td>74.29</td>\n",
       "      <td>73.86</td>\n",
       "    </tr>\n",
       "    <tr>\n",
       "      <th>24</th>\n",
       "      <td>Brunei Darussalam</td>\n",
       "      <td>BRN</td>\n",
       "      <td>95.86</td>\n",
       "      <td>97.43</td>\n",
       "      <td>97.86</td>\n",
       "      <td>98.29</td>\n",
       "      <td>98.57</td>\n",
       "      <td>98.57</td>\n",
       "      <td>98.86</td>\n",
       "      <td>98.57</td>\n",
       "      <td>96.50</td>\n",
       "      <td>96.88</td>\n",
       "      <td>96.75</td>\n",
       "    </tr>\n",
       "    <tr>\n",
       "      <th>32</th>\n",
       "      <td>Central African Republic</td>\n",
       "      <td>CAF</td>\n",
       "      <td>51.50</td>\n",
       "      <td>25.33</td>\n",
       "      <td>49.67</td>\n",
       "      <td>48.00</td>\n",
       "      <td>47.00</td>\n",
       "      <td>45.50</td>\n",
       "      <td>45.50</td>\n",
       "      <td>45.50</td>\n",
       "      <td>45.50</td>\n",
       "      <td>45.50</td>\n",
       "      <td>45.50</td>\n",
       "    </tr>\n",
       "    <tr>\n",
       "      <th>46</th>\n",
       "      <td>Democratic People's Republic of Korea</td>\n",
       "      <td>PRK</td>\n",
       "      <td>85.14</td>\n",
       "      <td>93.00</td>\n",
       "      <td>93.00</td>\n",
       "      <td>95.14</td>\n",
       "      <td>97.14</td>\n",
       "      <td>97.71</td>\n",
       "      <td>97.57</td>\n",
       "      <td>97.29</td>\n",
       "      <td>94.62</td>\n",
       "      <td>63.38</td>\n",
       "      <td>27.00</td>\n",
       "    </tr>\n",
       "    <tr>\n",
       "      <th>47</th>\n",
       "      <td>Democratic Republic of the Congo</td>\n",
       "      <td>COD</td>\n",
       "      <td>64.67</td>\n",
       "      <td>67.17</td>\n",
       "      <td>69.83</td>\n",
       "      <td>70.33</td>\n",
       "      <td>70.83</td>\n",
       "      <td>73.00</td>\n",
       "      <td>73.50</td>\n",
       "      <td>64.71</td>\n",
       "      <td>65.86</td>\n",
       "      <td>63.14</td>\n",
       "      <td>65.86</td>\n",
       "    </tr>\n",
       "    <tr>\n",
       "      <th>51</th>\n",
       "      <td>Dominican Republic</td>\n",
       "      <td>DOM</td>\n",
       "      <td>73.00</td>\n",
       "      <td>81.12</td>\n",
       "      <td>82.11</td>\n",
       "      <td>78.00</td>\n",
       "      <td>76.89</td>\n",
       "      <td>81.67</td>\n",
       "      <td>78.50</td>\n",
       "      <td>83.00</td>\n",
       "      <td>76.20</td>\n",
       "      <td>80.20</td>\n",
       "      <td>77.36</td>\n",
       "    </tr>\n",
       "    <tr>\n",
       "      <th>55</th>\n",
       "      <td>Equatorial Guinea</td>\n",
       "      <td>GNQ</td>\n",
       "      <td>63.33</td>\n",
       "      <td>64.00</td>\n",
       "      <td>59.80</td>\n",
       "      <td>46.80</td>\n",
       "      <td>59.80</td>\n",
       "      <td>62.40</td>\n",
       "      <td>64.60</td>\n",
       "      <td>67.20</td>\n",
       "      <td>68.80</td>\n",
       "      <td>62.33</td>\n",
       "      <td>63.50</td>\n",
       "    </tr>\n",
       "    <tr>\n",
       "      <th>80</th>\n",
       "      <td>Iran (Islamic Republic of)</td>\n",
       "      <td>IRN</td>\n",
       "      <td>98.00</td>\n",
       "      <td>98.29</td>\n",
       "      <td>98.57</td>\n",
       "      <td>98.00</td>\n",
       "      <td>98.38</td>\n",
       "      <td>98.38</td>\n",
       "      <td>98.38</td>\n",
       "      <td>98.38</td>\n",
       "      <td>98.25</td>\n",
       "      <td>98.00</td>\n",
       "      <td>98.44</td>\n",
       "    </tr>\n",
       "    <tr>\n",
       "      <th>93</th>\n",
       "      <td>Lao People's Democratic Republic</td>\n",
       "      <td>LAO</td>\n",
       "      <td>76.83</td>\n",
       "      <td>82.67</td>\n",
       "      <td>80.29</td>\n",
       "      <td>82.29</td>\n",
       "      <td>82.86</td>\n",
       "      <td>72.33</td>\n",
       "      <td>80.89</td>\n",
       "      <td>75.89</td>\n",
       "      <td>75.89</td>\n",
       "      <td>71.11</td>\n",
       "      <td>74.78</td>\n",
       "    </tr>\n",
       "    <tr>\n",
       "      <th>107</th>\n",
       "      <td>Marshall Islands</td>\n",
       "      <td>MHL</td>\n",
       "      <td>74.20</td>\n",
       "      <td>71.40</td>\n",
       "      <td>68.00</td>\n",
       "      <td>78.40</td>\n",
       "      <td>69.10</td>\n",
       "      <td>75.80</td>\n",
       "      <td>76.20</td>\n",
       "      <td>77.00</td>\n",
       "      <td>76.40</td>\n",
       "      <td>76.30</td>\n",
       "      <td>73.40</td>\n",
       "    </tr>\n",
       "    <tr>\n",
       "      <th>111</th>\n",
       "      <td>Micronesia (Federated States of)</td>\n",
       "      <td>FSM</td>\n",
       "      <td>73.50</td>\n",
       "      <td>71.20</td>\n",
       "      <td>70.60</td>\n",
       "      <td>69.40</td>\n",
       "      <td>63.70</td>\n",
       "      <td>65.50</td>\n",
       "      <td>68.70</td>\n",
       "      <td>69.00</td>\n",
       "      <td>72.90</td>\n",
       "      <td>61.70</td>\n",
       "      <td>63.10</td>\n",
       "    </tr>\n",
       "    <tr>\n",
       "      <th>121</th>\n",
       "      <td>Netherlands (Kingdom of the)</td>\n",
       "      <td>NLD</td>\n",
       "      <td>85.14</td>\n",
       "      <td>89.43</td>\n",
       "      <td>95.14</td>\n",
       "      <td>94.43</td>\n",
       "      <td>93.86</td>\n",
       "      <td>92.86</td>\n",
       "      <td>92.29</td>\n",
       "      <td>93.00</td>\n",
       "      <td>93.00</td>\n",
       "      <td>93.29</td>\n",
       "      <td>89.86</td>\n",
       "    </tr>\n",
       "    <tr>\n",
       "      <th>133</th>\n",
       "      <td>Papua New Guinea</td>\n",
       "      <td>PNG</td>\n",
       "      <td>60.33</td>\n",
       "      <td>61.67</td>\n",
       "      <td>52.33</td>\n",
       "      <td>46.75</td>\n",
       "      <td>44.88</td>\n",
       "      <td>39.38</td>\n",
       "      <td>37.00</td>\n",
       "      <td>33.89</td>\n",
       "      <td>39.00</td>\n",
       "      <td>28.40</td>\n",
       "      <td>36.10</td>\n",
       "    </tr>\n",
       "    <tr>\n",
       "      <th>140</th>\n",
       "      <td>Republic of Korea</td>\n",
       "      <td>KOR</td>\n",
       "      <td>98.67</td>\n",
       "      <td>98.33</td>\n",
       "      <td>97.50</td>\n",
       "      <td>97.67</td>\n",
       "      <td>97.11</td>\n",
       "      <td>96.78</td>\n",
       "      <td>97.00</td>\n",
       "      <td>97.11</td>\n",
       "      <td>96.78</td>\n",
       "      <td>96.89</td>\n",
       "      <td>96.33</td>\n",
       "    </tr>\n",
       "    <tr>\n",
       "      <th>141</th>\n",
       "      <td>Republic of Moldova</td>\n",
       "      <td>MDA</td>\n",
       "      <td>85.89</td>\n",
       "      <td>80.40</td>\n",
       "      <td>82.90</td>\n",
       "      <td>85.50</td>\n",
       "      <td>88.50</td>\n",
       "      <td>87.70</td>\n",
       "      <td>90.60</td>\n",
       "      <td>89.40</td>\n",
       "      <td>84.10</td>\n",
       "      <td>85.30</td>\n",
       "      <td>84.55</td>\n",
       "    </tr>\n",
       "    <tr>\n",
       "      <th>143</th>\n",
       "      <td>Russian Federation</td>\n",
       "      <td>RUS</td>\n",
       "      <td>97.17</td>\n",
       "      <td>97.17</td>\n",
       "      <td>97.00</td>\n",
       "      <td>97.00</td>\n",
       "      <td>88.14</td>\n",
       "      <td>92.86</td>\n",
       "      <td>94.57</td>\n",
       "      <td>95.14</td>\n",
       "      <td>95.14</td>\n",
       "      <td>95.12</td>\n",
       "      <td>94.89</td>\n",
       "    </tr>\n",
       "    <tr>\n",
       "      <th>145</th>\n",
       "      <td>Saint Kitts and Nevis</td>\n",
       "      <td>KNA</td>\n",
       "      <td>96.00</td>\n",
       "      <td>96.43</td>\n",
       "      <td>96.00</td>\n",
       "      <td>83.88</td>\n",
       "      <td>96.62</td>\n",
       "      <td>94.88</td>\n",
       "      <td>95.38</td>\n",
       "      <td>95.75</td>\n",
       "      <td>97.62</td>\n",
       "      <td>95.62</td>\n",
       "      <td>95.12</td>\n",
       "    </tr>\n",
       "    <tr>\n",
       "      <th>147</th>\n",
       "      <td>Saint Vincent and the Grenadines</td>\n",
       "      <td>VCT</td>\n",
       "      <td>95.43</td>\n",
       "      <td>97.14</td>\n",
       "      <td>98.00</td>\n",
       "      <td>99.00</td>\n",
       "      <td>99.00</td>\n",
       "      <td>90.38</td>\n",
       "      <td>98.00</td>\n",
       "      <td>98.50</td>\n",
       "      <td>98.12</td>\n",
       "      <td>90.88</td>\n",
       "      <td>98.33</td>\n",
       "    </tr>\n",
       "    <tr>\n",
       "      <th>150</th>\n",
       "      <td>Sao Tome and Principe</td>\n",
       "      <td>STP</td>\n",
       "      <td>96.60</td>\n",
       "      <td>97.00</td>\n",
       "      <td>91.57</td>\n",
       "      <td>93.29</td>\n",
       "      <td>85.00</td>\n",
       "      <td>92.22</td>\n",
       "      <td>92.89</td>\n",
       "      <td>93.60</td>\n",
       "      <td>90.20</td>\n",
       "      <td>86.70</td>\n",
       "      <td>86.10</td>\n",
       "    </tr>\n",
       "    <tr>\n",
       "      <th>165</th>\n",
       "      <td>State of Palestine</td>\n",
       "      <td>PSE</td>\n",
       "      <td>89.56</td>\n",
       "      <td>98.44</td>\n",
       "      <td>99.00</td>\n",
       "      <td>99.00</td>\n",
       "      <td>99.00</td>\n",
       "      <td>99.00</td>\n",
       "      <td>98.70</td>\n",
       "      <td>99.00</td>\n",
       "      <td>98.50</td>\n",
       "      <td>95.70</td>\n",
       "      <td>97.00</td>\n",
       "    </tr>\n",
       "    <tr>\n",
       "      <th>170</th>\n",
       "      <td>Syrian Arab Republic</td>\n",
       "      <td>SYR</td>\n",
       "      <td>63.29</td>\n",
       "      <td>66.14</td>\n",
       "      <td>62.29</td>\n",
       "      <td>58.00</td>\n",
       "      <td>62.14</td>\n",
       "      <td>67.43</td>\n",
       "      <td>65.86</td>\n",
       "      <td>70.86</td>\n",
       "      <td>65.29</td>\n",
       "      <td>64.88</td>\n",
       "      <td>59.62</td>\n",
       "    </tr>\n",
       "    <tr>\n",
       "      <th>176</th>\n",
       "      <td>Trinidad and Tobago</td>\n",
       "      <td>TTO</td>\n",
       "      <td>82.29</td>\n",
       "      <td>89.57</td>\n",
       "      <td>93.43</td>\n",
       "      <td>89.29</td>\n",
       "      <td>88.14</td>\n",
       "      <td>91.00</td>\n",
       "      <td>96.71</td>\n",
       "      <td>93.71</td>\n",
       "      <td>93.86</td>\n",
       "      <td>92.25</td>\n",
       "      <td>93.25</td>\n",
       "    </tr>\n",
       "    <tr>\n",
       "      <th>183</th>\n",
       "      <td>United Arab Emirates</td>\n",
       "      <td>ARE</td>\n",
       "      <td>95.78</td>\n",
       "      <td>97.33</td>\n",
       "      <td>93.00</td>\n",
       "      <td>97.20</td>\n",
       "      <td>98.20</td>\n",
       "      <td>96.30</td>\n",
       "      <td>97.70</td>\n",
       "      <td>96.00</td>\n",
       "      <td>88.10</td>\n",
       "      <td>95.91</td>\n",
       "      <td>94.73</td>\n",
       "    </tr>\n",
       "    <tr>\n",
       "      <th>185</th>\n",
       "      <td>United Republic of Tanzania</td>\n",
       "      <td>TZA</td>\n",
       "      <td>93.00</td>\n",
       "      <td>89.71</td>\n",
       "      <td>89.22</td>\n",
       "      <td>90.44</td>\n",
       "      <td>87.56</td>\n",
       "      <td>87.67</td>\n",
       "      <td>86.00</td>\n",
       "      <td>87.67</td>\n",
       "      <td>83.78</td>\n",
       "      <td>80.00</td>\n",
       "      <td>87.22</td>\n",
       "    </tr>\n",
       "    <tr>\n",
       "      <th>190</th>\n",
       "      <td>Venezuela (Bolivarian Republic of)</td>\n",
       "      <td>VEN</td>\n",
       "      <td>75.00</td>\n",
       "      <td>78.11</td>\n",
       "      <td>77.44</td>\n",
       "      <td>76.30</td>\n",
       "      <td>68.20</td>\n",
       "      <td>60.00</td>\n",
       "      <td>49.30</td>\n",
       "      <td>50.30</td>\n",
       "      <td>46.00</td>\n",
       "      <td>41.82</td>\n",
       "      <td>34.91</td>\n",
       "    </tr>\n",
       "  </tbody>\n",
       "</table>\n",
       "</div>"
      ],
      "text/plain": [
       "                                   country iso3   2012   2013   2014   2015  \\\n",
       "5                      Antigua and Barbuda  ATG  96.50  96.33  97.50  93.00   \n",
       "20        Bolivia (Plurinational State of)  BOL  93.43  87.86  83.00  90.50   \n",
       "21                  Bosnia and Herzegovina  BIH  91.71  90.29  88.43  83.14   \n",
       "24                       Brunei Darussalam  BRN  95.86  97.43  97.86  98.29   \n",
       "32                Central African Republic  CAF  51.50  25.33  49.67  48.00   \n",
       "46   Democratic People's Republic of Korea  PRK  85.14  93.00  93.00  95.14   \n",
       "47        Democratic Republic of the Congo  COD  64.67  67.17  69.83  70.33   \n",
       "51                      Dominican Republic  DOM  73.00  81.12  82.11  78.00   \n",
       "55                       Equatorial Guinea  GNQ  63.33  64.00  59.80  46.80   \n",
       "80              Iran (Islamic Republic of)  IRN  98.00  98.29  98.57  98.00   \n",
       "93        Lao People's Democratic Republic  LAO  76.83  82.67  80.29  82.29   \n",
       "107                       Marshall Islands  MHL  74.20  71.40  68.00  78.40   \n",
       "111       Micronesia (Federated States of)  FSM  73.50  71.20  70.60  69.40   \n",
       "121           Netherlands (Kingdom of the)  NLD  85.14  89.43  95.14  94.43   \n",
       "133                       Papua New Guinea  PNG  60.33  61.67  52.33  46.75   \n",
       "140                      Republic of Korea  KOR  98.67  98.33  97.50  97.67   \n",
       "141                    Republic of Moldova  MDA  85.89  80.40  82.90  85.50   \n",
       "143                     Russian Federation  RUS  97.17  97.17  97.00  97.00   \n",
       "145                  Saint Kitts and Nevis  KNA  96.00  96.43  96.00  83.88   \n",
       "147       Saint Vincent and the Grenadines  VCT  95.43  97.14  98.00  99.00   \n",
       "150                  Sao Tome and Principe  STP  96.60  97.00  91.57  93.29   \n",
       "165                     State of Palestine  PSE  89.56  98.44  99.00  99.00   \n",
       "170                   Syrian Arab Republic  SYR  63.29  66.14  62.29  58.00   \n",
       "176                    Trinidad and Tobago  TTO  82.29  89.57  93.43  89.29   \n",
       "183                   United Arab Emirates  ARE  95.78  97.33  93.00  97.20   \n",
       "185            United Republic of Tanzania  TZA  93.00  89.71  89.22  90.44   \n",
       "190     Venezuela (Bolivarian Republic of)  VEN  75.00  78.11  77.44  76.30   \n",
       "\n",
       "      2016   2017   2018   2019   2020   2021   2022  \n",
       "5    86.50  95.50  95.00  93.50  92.33  80.12  88.75  \n",
       "20   89.00  84.75  79.89  72.89  68.44  70.10  68.20  \n",
       "21   78.14  77.29  75.29  74.43  73.00  74.29  73.86  \n",
       "24   98.57  98.57  98.86  98.57  96.50  96.88  96.75  \n",
       "32   47.00  45.50  45.50  45.50  45.50  45.50  45.50  \n",
       "46   97.14  97.71  97.57  97.29  94.62  63.38  27.00  \n",
       "47   70.83  73.00  73.50  64.71  65.86  63.14  65.86  \n",
       "51   76.89  81.67  78.50  83.00  76.20  80.20  77.36  \n",
       "55   59.80  62.40  64.60  67.20  68.80  62.33  63.50  \n",
       "80   98.38  98.38  98.38  98.38  98.25  98.00  98.44  \n",
       "93   82.86  72.33  80.89  75.89  75.89  71.11  74.78  \n",
       "107  69.10  75.80  76.20  77.00  76.40  76.30  73.40  \n",
       "111  63.70  65.50  68.70  69.00  72.90  61.70  63.10  \n",
       "121  93.86  92.86  92.29  93.00  93.00  93.29  89.86  \n",
       "133  44.88  39.38  37.00  33.89  39.00  28.40  36.10  \n",
       "140  97.11  96.78  97.00  97.11  96.78  96.89  96.33  \n",
       "141  88.50  87.70  90.60  89.40  84.10  85.30  84.55  \n",
       "143  88.14  92.86  94.57  95.14  95.14  95.12  94.89  \n",
       "145  96.62  94.88  95.38  95.75  97.62  95.62  95.12  \n",
       "147  99.00  90.38  98.00  98.50  98.12  90.88  98.33  \n",
       "150  85.00  92.22  92.89  93.60  90.20  86.70  86.10  \n",
       "165  99.00  99.00  98.70  99.00  98.50  95.70  97.00  \n",
       "170  62.14  67.43  65.86  70.86  65.29  64.88  59.62  \n",
       "176  88.14  91.00  96.71  93.71  93.86  92.25  93.25  \n",
       "183  98.20  96.30  97.70  96.00  88.10  95.91  94.73  \n",
       "185  87.56  87.67  86.00  87.67  83.78  80.00  87.22  \n",
       "190  68.20  60.00  49.30  50.30  46.00  41.82  34.91  "
      ]
     },
     "execution_count": 10,
     "metadata": {},
     "output_type": "execute_result"
    }
   ],
   "source": [
    "#listing countries with long names (longer than 15 characters)\n",
    "long_country_names = v_index_df[v_index_df['country'].str.len() > 15]\n",
    "long_country_names"
   ]
  },
  {
   "cell_type": "code",
   "execution_count": 11,
   "id": "afe8fa31-de46-4c30-90b5-533e957f04bd",
   "metadata": {},
   "outputs": [],
   "source": [
    "#shortening the names\n",
    "v_index_df['country'] = v_index_df['country'].replace(\n",
    "    {\"Bolivia (Plurinational State of)\": \"Bolivia\", \n",
    "     \"Democratic People's Republic of Korea\": \"North Korea\",\n",
    "     \"Democratic Republic of the Congo\": \"Congo\",\n",
    "     \"Iran (Islamic Republic of)\": \"Iran\",\n",
    "     \"Lao People's Democratic Republic\": \"Laos\",\n",
    "     \"Micronesia (Federated States of)\": \"Micronesia\",\n",
    "     \"Netherlands (Kingdom of the)\": \"Netherlands\",\n",
    "     \"Republic of Korea\": \"South Korea\",\n",
    "     \"Republic of Moldova\": \"Moldova\",\n",
    "     \"Russian Federation\": \"Russia\",\n",
    "     \"State of Palestine\": \"Palestine\",\n",
    "     \"Syrian Arab Republic\": \"Syria\",\n",
    "     \"United Republic of Tanzania\": \"Tanzania\",\n",
    "     \"Venezuela (Bolivarian Republic of)\": \"Venezuela\"}\n",
    ")"
   ]
  },
  {
   "cell_type": "markdown",
   "id": "a23b8e9e-c594-4c2b-ae61-73a5c664c874",
   "metadata": {},
   "source": [
    "### ISO codes"
   ]
  },
  {
   "cell_type": "code",
   "execution_count": 12,
   "id": "a4895f8c-8075-4430-b6fe-6478d0e65862",
   "metadata": {},
   "outputs": [],
   "source": [
    "# creating a list of iso codes for target values for other values clean up \n",
    "# (to choose right missing values method handling) \n",
    "vac_iso_codes = v_index_df[\"iso3\"]"
   ]
  },
  {
   "cell_type": "markdown",
   "id": "737a1c7d-1b19-4714-8955-37da4703a296",
   "metadata": {},
   "source": [
    "### Countries map"
   ]
  },
  {
   "cell_type": "code",
   "execution_count": 13,
   "id": "09747899-f127-4647-8b83-3c1c513bd79f",
   "metadata": {},
   "outputs": [],
   "source": [
    "#creating a map for countries names for consistency\n",
    "countries_map = v_index_df[[\"country\", \"iso3\"]]"
   ]
  },
  {
   "cell_type": "markdown",
   "id": "fe5d6afe-cb99-4fb4-b208-f05df413c5ee",
   "metadata": {},
   "source": [
    " "
   ]
  },
  {
   "cell_type": "markdown",
   "id": "94f36952-430f-4f40-bedc-d0b67ec117be",
   "metadata": {},
   "source": [
    "## Socio-Economic Variables"
   ]
  },
  {
   "cell_type": "markdown",
   "id": "bd407eab-254c-420c-9624-4c406fc8aac0",
   "metadata": {},
   "source": [
    "Data in this section comes from World Bank and have analogical structure."
   ]
  },
  {
   "cell_type": "markdown",
   "id": "feaed595-9515-4fcd-8dbc-fe69ca7ab6a4",
   "metadata": {},
   "source": [
    "### GDP"
   ]
  },
  {
   "cell_type": "code",
   "execution_count": 14,
   "id": "52cdfcd0-ba5e-42a0-9c31-7436963a386b",
   "metadata": {},
   "outputs": [
    {
     "data": {
      "text/html": [
       "<div>\n",
       "<style scoped>\n",
       "    .dataframe tbody tr th:only-of-type {\n",
       "        vertical-align: middle;\n",
       "    }\n",
       "\n",
       "    .dataframe tbody tr th {\n",
       "        vertical-align: top;\n",
       "    }\n",
       "\n",
       "    .dataframe thead th {\n",
       "        text-align: right;\n",
       "    }\n",
       "</style>\n",
       "<table border=\"1\" class=\"dataframe\">\n",
       "  <thead>\n",
       "    <tr style=\"text-align: right;\">\n",
       "      <th></th>\n",
       "      <th>Country Name</th>\n",
       "      <th>Country Code</th>\n",
       "      <th>Indicator Name</th>\n",
       "      <th>Indicator Code</th>\n",
       "      <th>1960</th>\n",
       "      <th>1961</th>\n",
       "      <th>1962</th>\n",
       "      <th>1963</th>\n",
       "      <th>1964</th>\n",
       "      <th>1965</th>\n",
       "      <th>...</th>\n",
       "      <th>2016</th>\n",
       "      <th>2017</th>\n",
       "      <th>2018</th>\n",
       "      <th>2019</th>\n",
       "      <th>2020</th>\n",
       "      <th>2021</th>\n",
       "      <th>2022</th>\n",
       "      <th>2023</th>\n",
       "      <th>2024</th>\n",
       "      <th>Unnamed: 69</th>\n",
       "    </tr>\n",
       "  </thead>\n",
       "  <tbody>\n",
       "    <tr>\n",
       "      <th>0</th>\n",
       "      <td>Aruba</td>\n",
       "      <td>ABW</td>\n",
       "      <td>GDP per capita (current US$)</td>\n",
       "      <td>NY.GDP.PCAP.CD</td>\n",
       "      <td>NaN</td>\n",
       "      <td>NaN</td>\n",
       "      <td>NaN</td>\n",
       "      <td>NaN</td>\n",
       "      <td>NaN</td>\n",
       "      <td>NaN</td>\n",
       "      <td>...</td>\n",
       "      <td>27441.529662</td>\n",
       "      <td>28440.051964</td>\n",
       "      <td>30082.127645</td>\n",
       "      <td>31096.205074</td>\n",
       "      <td>22855.932320</td>\n",
       "      <td>27200.061079</td>\n",
       "      <td>30559.533535</td>\n",
       "      <td>33984.790620</td>\n",
       "      <td>NaN</td>\n",
       "      <td>NaN</td>\n",
       "    </tr>\n",
       "    <tr>\n",
       "      <th>1</th>\n",
       "      <td>Africa Eastern and Southern</td>\n",
       "      <td>AFE</td>\n",
       "      <td>GDP per capita (current US$)</td>\n",
       "      <td>NY.GDP.PCAP.CD</td>\n",
       "      <td>186.132432</td>\n",
       "      <td>186.947182</td>\n",
       "      <td>197.408105</td>\n",
       "      <td>225.447007</td>\n",
       "      <td>209.005786</td>\n",
       "      <td>226.883067</td>\n",
       "      <td>...</td>\n",
       "      <td>1329.777824</td>\n",
       "      <td>1520.171298</td>\n",
       "      <td>1538.924188</td>\n",
       "      <td>1493.780445</td>\n",
       "      <td>1344.080962</td>\n",
       "      <td>1522.590088</td>\n",
       "      <td>1628.024526</td>\n",
       "      <td>1659.515290</td>\n",
       "      <td>NaN</td>\n",
       "      <td>NaN</td>\n",
       "    </tr>\n",
       "    <tr>\n",
       "      <th>2</th>\n",
       "      <td>Afghanistan</td>\n",
       "      <td>AFG</td>\n",
       "      <td>GDP per capita (current US$)</td>\n",
       "      <td>NY.GDP.PCAP.CD</td>\n",
       "      <td>NaN</td>\n",
       "      <td>NaN</td>\n",
       "      <td>NaN</td>\n",
       "      <td>NaN</td>\n",
       "      <td>NaN</td>\n",
       "      <td>NaN</td>\n",
       "      <td>...</td>\n",
       "      <td>522.082216</td>\n",
       "      <td>525.469771</td>\n",
       "      <td>491.337221</td>\n",
       "      <td>496.602504</td>\n",
       "      <td>510.787063</td>\n",
       "      <td>356.496214</td>\n",
       "      <td>357.261153</td>\n",
       "      <td>415.707417</td>\n",
       "      <td>NaN</td>\n",
       "      <td>NaN</td>\n",
       "    </tr>\n",
       "    <tr>\n",
       "      <th>3</th>\n",
       "      <td>Africa Western and Central</td>\n",
       "      <td>AFW</td>\n",
       "      <td>GDP per capita (current US$)</td>\n",
       "      <td>NY.GDP.PCAP.CD</td>\n",
       "      <td>121.938353</td>\n",
       "      <td>127.452629</td>\n",
       "      <td>133.825452</td>\n",
       "      <td>139.006714</td>\n",
       "      <td>148.547736</td>\n",
       "      <td>155.563837</td>\n",
       "      <td>...</td>\n",
       "      <td>1616.843198</td>\n",
       "      <td>1560.162999</td>\n",
       "      <td>1703.896392</td>\n",
       "      <td>1783.654365</td>\n",
       "      <td>1664.249176</td>\n",
       "      <td>1747.840549</td>\n",
       "      <td>1777.235012</td>\n",
       "      <td>1568.724310</td>\n",
       "      <td>NaN</td>\n",
       "      <td>NaN</td>\n",
       "    </tr>\n",
       "    <tr>\n",
       "      <th>4</th>\n",
       "      <td>Angola</td>\n",
       "      <td>AGO</td>\n",
       "      <td>GDP per capita (current US$)</td>\n",
       "      <td>NY.GDP.PCAP.CD</td>\n",
       "      <td>NaN</td>\n",
       "      <td>NaN</td>\n",
       "      <td>NaN</td>\n",
       "      <td>NaN</td>\n",
       "      <td>NaN</td>\n",
       "      <td>NaN</td>\n",
       "      <td>...</td>\n",
       "      <td>1807.952941</td>\n",
       "      <td>2437.259712</td>\n",
       "      <td>2538.591391</td>\n",
       "      <td>2189.855714</td>\n",
       "      <td>1449.922867</td>\n",
       "      <td>1925.874661</td>\n",
       "      <td>2929.694455</td>\n",
       "      <td>2308.159767</td>\n",
       "      <td>NaN</td>\n",
       "      <td>NaN</td>\n",
       "    </tr>\n",
       "  </tbody>\n",
       "</table>\n",
       "<p>5 rows × 70 columns</p>\n",
       "</div>"
      ],
      "text/plain": [
       "                  Country Name Country Code                Indicator Name  \\\n",
       "0                        Aruba          ABW  GDP per capita (current US$)   \n",
       "1  Africa Eastern and Southern          AFE  GDP per capita (current US$)   \n",
       "2                  Afghanistan          AFG  GDP per capita (current US$)   \n",
       "3   Africa Western and Central          AFW  GDP per capita (current US$)   \n",
       "4                       Angola          AGO  GDP per capita (current US$)   \n",
       "\n",
       "   Indicator Code        1960        1961        1962        1963        1964  \\\n",
       "0  NY.GDP.PCAP.CD         NaN         NaN         NaN         NaN         NaN   \n",
       "1  NY.GDP.PCAP.CD  186.132432  186.947182  197.408105  225.447007  209.005786   \n",
       "2  NY.GDP.PCAP.CD         NaN         NaN         NaN         NaN         NaN   \n",
       "3  NY.GDP.PCAP.CD  121.938353  127.452629  133.825452  139.006714  148.547736   \n",
       "4  NY.GDP.PCAP.CD         NaN         NaN         NaN         NaN         NaN   \n",
       "\n",
       "         1965  ...          2016          2017          2018          2019  \\\n",
       "0         NaN  ...  27441.529662  28440.051964  30082.127645  31096.205074   \n",
       "1  226.883067  ...   1329.777824   1520.171298   1538.924188   1493.780445   \n",
       "2         NaN  ...    522.082216    525.469771    491.337221    496.602504   \n",
       "3  155.563837  ...   1616.843198   1560.162999   1703.896392   1783.654365   \n",
       "4         NaN  ...   1807.952941   2437.259712   2538.591391   2189.855714   \n",
       "\n",
       "           2020          2021          2022          2023  2024  Unnamed: 69  \n",
       "0  22855.932320  27200.061079  30559.533535  33984.790620   NaN          NaN  \n",
       "1   1344.080962   1522.590088   1628.024526   1659.515290   NaN          NaN  \n",
       "2    510.787063    356.496214    357.261153    415.707417   NaN          NaN  \n",
       "3   1664.249176   1747.840549   1777.235012   1568.724310   NaN          NaN  \n",
       "4   1449.922867   1925.874661   2929.694455   2308.159767   NaN          NaN  \n",
       "\n",
       "[5 rows x 70 columns]"
      ]
     },
     "execution_count": 14,
     "metadata": {},
     "output_type": "execute_result"
    }
   ],
   "source": [
    "#reading the file\n",
    "gdp_df = pd.read_csv('02_gdp.csv', skiprows=4)\n",
    "gdp_df.head()"
   ]
  },
  {
   "cell_type": "code",
   "execution_count": 15,
   "id": "d058fc2c-b1ab-4c01-9657-7441029ac97e",
   "metadata": {},
   "outputs": [],
   "source": [
    "#choosing applicable columns \n",
    "gdp_df = gdp_df[['Country Name', 'Country Code', '2012', '2013', '2014', '2015', '2016', '2017', '2018', '2019', '2020', '2021', '2022']]\n",
    "\n",
    "#filtering for countries included in vac_index df\n",
    "gdp_df = gdp_df[gdp_df[\"Country Code\"].isin(vac_iso_codes)]"
   ]
  },
  {
   "cell_type": "code",
   "execution_count": 16,
   "id": "ff6a5897-4ef2-4699-a6d2-5c4cff2d90bd",
   "metadata": {},
   "outputs": [
    {
     "data": {
      "text/plain": [
       "Country Name    0\n",
       "Country Code    0\n",
       "2012            2\n",
       "2013            2\n",
       "2014            2\n",
       "2015            3\n",
       "2016            4\n",
       "2017            4\n",
       "2018            4\n",
       "2019            4\n",
       "2020            4\n",
       "2021            5\n",
       "2022            5\n",
       "dtype: int64"
      ]
     },
     "execution_count": 16,
     "metadata": {},
     "output_type": "execute_result"
    }
   ],
   "source": [
    "#checking missing values\n",
    "gdp_df.isna().sum()"
   ]
  },
  {
   "cell_type": "code",
   "execution_count": 17,
   "id": "70acc336-6935-45cd-98db-b709f7f4efbc",
   "metadata": {},
   "outputs": [
    {
     "data": {
      "text/plain": [
       "(193, 13)"
      ]
     },
     "execution_count": 17,
     "metadata": {},
     "output_type": "execute_result"
    }
   ],
   "source": [
    "#checking number of rows and columns\n",
    "gdp_df.shape"
   ]
  },
  {
   "cell_type": "code",
   "execution_count": 18,
   "id": "b23b48a6-fb69-4df9-9220-983a3efca71b",
   "metadata": {},
   "outputs": [
    {
     "data": {
      "text/plain": [
       "(189, 13)"
      ]
     },
     "execution_count": 18,
     "metadata": {},
     "output_type": "execute_result"
    }
   ],
   "source": [
    "#removing records with at least 4 missing values \n",
    "gdp_df = gdp_df.dropna(thresh=gdp_df.shape[1]-4)\n",
    "\n",
    "#filling in missing values with linear interpolation\n",
    "gdp_df.iloc[:, 2:] = gdp_df.iloc[:, 2:].interpolate(method='linear', axis=1)\n",
    "\n",
    "#dropping records with any missing values left\n",
    "gdp_df = gdp_df.dropna()\n",
    "\n",
    "gdp_df.shape"
   ]
  },
  {
   "cell_type": "code",
   "execution_count": 19,
   "id": "21c56701-46e6-476a-924a-05292603ebe2",
   "metadata": {},
   "outputs": [],
   "source": [
    "gdp_df = gdp_df.round(2)"
   ]
  },
  {
   "cell_type": "code",
   "execution_count": 20,
   "id": "9d21d5c4-d7a2-4923-ad8b-9daee15be0e5",
   "metadata": {},
   "outputs": [
    {
     "data": {
      "text/html": [
       "<div>\n",
       "<style scoped>\n",
       "    .dataframe tbody tr th:only-of-type {\n",
       "        vertical-align: middle;\n",
       "    }\n",
       "\n",
       "    .dataframe tbody tr th {\n",
       "        vertical-align: top;\n",
       "    }\n",
       "\n",
       "    .dataframe thead th {\n",
       "        text-align: right;\n",
       "    }\n",
       "</style>\n",
       "<table border=\"1\" class=\"dataframe\">\n",
       "  <thead>\n",
       "    <tr style=\"text-align: right;\">\n",
       "      <th></th>\n",
       "      <th>country</th>\n",
       "      <th>iso3</th>\n",
       "      <th>2012</th>\n",
       "      <th>2013</th>\n",
       "      <th>2014</th>\n",
       "      <th>2015</th>\n",
       "      <th>2016</th>\n",
       "      <th>2017</th>\n",
       "      <th>2018</th>\n",
       "      <th>2019</th>\n",
       "      <th>2020</th>\n",
       "      <th>2021</th>\n",
       "      <th>2022</th>\n",
       "    </tr>\n",
       "  </thead>\n",
       "  <tbody>\n",
       "    <tr>\n",
       "      <th>0</th>\n",
       "      <td>Afghanistan</td>\n",
       "      <td>AFG</td>\n",
       "      <td>651.42</td>\n",
       "      <td>637.09</td>\n",
       "      <td>625.05</td>\n",
       "      <td>565.57</td>\n",
       "      <td>522.08</td>\n",
       "      <td>525.47</td>\n",
       "      <td>491.34</td>\n",
       "      <td>496.60</td>\n",
       "      <td>510.79</td>\n",
       "      <td>356.50</td>\n",
       "      <td>357.26</td>\n",
       "    </tr>\n",
       "    <tr>\n",
       "      <th>1</th>\n",
       "      <td>Angola</td>\n",
       "      <td>AGO</td>\n",
       "      <td>5086.03</td>\n",
       "      <td>5057.75</td>\n",
       "      <td>5006.00</td>\n",
       "      <td>3213.90</td>\n",
       "      <td>1807.95</td>\n",
       "      <td>2437.26</td>\n",
       "      <td>2538.59</td>\n",
       "      <td>2189.86</td>\n",
       "      <td>1449.92</td>\n",
       "      <td>1925.87</td>\n",
       "      <td>2929.69</td>\n",
       "    </tr>\n",
       "    <tr>\n",
       "      <th>2</th>\n",
       "      <td>Albania</td>\n",
       "      <td>ALB</td>\n",
       "      <td>4247.63</td>\n",
       "      <td>4413.06</td>\n",
       "      <td>4578.63</td>\n",
       "      <td>3952.80</td>\n",
       "      <td>4124.06</td>\n",
       "      <td>4531.03</td>\n",
       "      <td>5365.49</td>\n",
       "      <td>5460.43</td>\n",
       "      <td>5370.78</td>\n",
       "      <td>6413.28</td>\n",
       "      <td>6846.43</td>\n",
       "    </tr>\n",
       "    <tr>\n",
       "      <th>3</th>\n",
       "      <td>Andorra</td>\n",
       "      <td>AND</td>\n",
       "      <td>41500.54</td>\n",
       "      <td>42470.32</td>\n",
       "      <td>44369.66</td>\n",
       "      <td>38654.93</td>\n",
       "      <td>40129.82</td>\n",
       "      <td>40672.99</td>\n",
       "      <td>42819.77</td>\n",
       "      <td>41257.80</td>\n",
       "      <td>37361.09</td>\n",
       "      <td>42425.70</td>\n",
       "      <td>42414.06</td>\n",
       "    </tr>\n",
       "    <tr>\n",
       "      <th>4</th>\n",
       "      <td>United Arab Emirates</td>\n",
       "      <td>ARE</td>\n",
       "      <td>52034.48</td>\n",
       "      <td>52023.52</td>\n",
       "      <td>51381.41</td>\n",
       "      <td>43535.00</td>\n",
       "      <td>41326.40</td>\n",
       "      <td>42340.59</td>\n",
       "      <td>45689.86</td>\n",
       "      <td>44251.45</td>\n",
       "      <td>37173.88</td>\n",
       "      <td>43360.02</td>\n",
       "      <td>49899.07</td>\n",
       "    </tr>\n",
       "  </tbody>\n",
       "</table>\n",
       "</div>"
      ],
      "text/plain": [
       "                country iso3      2012      2013      2014      2015  \\\n",
       "0           Afghanistan  AFG    651.42    637.09    625.05    565.57   \n",
       "1                Angola  AGO   5086.03   5057.75   5006.00   3213.90   \n",
       "2               Albania  ALB   4247.63   4413.06   4578.63   3952.80   \n",
       "3               Andorra  AND  41500.54  42470.32  44369.66  38654.93   \n",
       "4  United Arab Emirates  ARE  52034.48  52023.52  51381.41  43535.00   \n",
       "\n",
       "       2016      2017      2018      2019      2020      2021      2022  \n",
       "0    522.08    525.47    491.34    496.60    510.79    356.50    357.26  \n",
       "1   1807.95   2437.26   2538.59   2189.86   1449.92   1925.87   2929.69  \n",
       "2   4124.06   4531.03   5365.49   5460.43   5370.78   6413.28   6846.43  \n",
       "3  40129.82  40672.99  42819.77  41257.80  37361.09  42425.70  42414.06  \n",
       "4  41326.40  42340.59  45689.86  44251.45  37173.88  43360.02  49899.07  "
      ]
     },
     "execution_count": 20,
     "metadata": {},
     "output_type": "execute_result"
    }
   ],
   "source": [
    "# Merge gdp_df with countries_map based on the ISO code\n",
    "gdp_df = gdp_df.merge(countries_map, left_on='Country Code', right_on='iso3', how='left')\n",
    "\n",
    "# Reorder columns to have: country, iso3, 2012, 2013, ...\n",
    "cols = ['country', 'iso3'] + [col for col in gdp_df.columns if col.startswith('20')]\n",
    "gdp_df = gdp_df[cols]\n",
    "gdp_df.head()"
   ]
  },
  {
   "cell_type": "markdown",
   "id": "2194d028-f4a2-4c1b-9127-604a639b0555",
   "metadata": {},
   "source": [
    "The rest of data from World Bank was cleaned analogically, so the following functions were created:"
   ]
  },
  {
   "cell_type": "code",
   "execution_count": 21,
   "id": "730a269c-4732-4384-9a90-a974844c11de",
   "metadata": {},
   "outputs": [],
   "source": [
    "def read_and_check_quality(filepath):\n",
    "    \"\"\"\n",
    "    - Reads the file skipping first 4 rows\n",
    "    - Chooses columns for country name and code, and years 2012-2022\n",
    "    - filters for countris included in vaccinations scope\n",
    "\n",
    "    Parameters:\n",
    "        filepath: The input filepath\n",
    "\n",
    "    Returns:\n",
    "        pd.DataFrame: Filtred dataframe\n",
    "    \"\"\"\n",
    "    \n",
    "    #reading the file\n",
    "    df = pd.read_csv(filepath, skiprows=4)\n",
    "    \n",
    "    #choosing applicable columns \n",
    "    df = df[['Country Name', 'Country Code', '2012', '2013', '2014', '2015', '2016', '2017', '2018', '2019', '2020', '2021', '2022']]\n",
    "    \n",
    "    #filtering for countries included in vac_index df\n",
    "    df = df[df[\"Country Code\"].isin(vac_iso_codes)]\n",
    "\n",
    "    return df"
   ]
  },
  {
   "cell_type": "code",
   "execution_count": 22,
   "id": "d2b34d56-7b72-4828-8bba-5f480da6d6bd",
   "metadata": {},
   "outputs": [],
   "source": [
    "def clean_and_merge(df, countries_map, code_column='Country Code'):\n",
    "    \"\"\"\n",
    "    Cleans the dataframe by:\n",
    "    - Removing rows with at least 4 missing values\n",
    "    - Interpolating remaining missing values\n",
    "    - Dropping any rows still containing NaNs\n",
    "    - Rounding numeric values\n",
    "    - Merging with countries_map on ISO code\n",
    "    - Reordering columns to: country, iso3, <year columns>\n",
    "\n",
    "    Parameters:\n",
    "        df (pd.DataFrame): The input dataframe\n",
    "        countries_map (pd.DataFrame): Mapping dataframe with 'iso3' and 'country'\n",
    "        code_column (str): Column name in df with ISO3 codes to join on (default: 'Country Code')\n",
    "\n",
    "    Returns:\n",
    "        pd.DataFrame: Cleaned and reordered dataframe\n",
    "    \"\"\"\n",
    "    # Drop rows with at least 4 missing values\n",
    "    df = df.dropna(thresh=df.shape[1] - 4)\n",
    "\n",
    "    # Interpolate missing values\n",
    "    df.iloc[:, 2:] = df.iloc[:, 2:].interpolate(method='linear', axis=1)\n",
    "\n",
    "    # Drop any remaining NaNs\n",
    "    df = df.dropna()\n",
    "\n",
    "    # Round to 2 decimal places\n",
    "    df = df.round(2)\n",
    "\n",
    "    # Merge with country mapping\n",
    "    df = df.merge(countries_map, left_on='Country Code', right_on='iso3', how='left')\n",
    "\n",
    "    # Reorder columns\n",
    "    year_cols = [col for col in df.columns if col.startswith('20')]\n",
    "    df = df[['country', 'iso3'] + year_cols]\n",
    "\n",
    "    return df\n"
   ]
  },
  {
   "cell_type": "markdown",
   "id": "bc4af079-46fe-4629-8ded-046a621ec915",
   "metadata": {},
   "source": [
    "### Gini Index"
   ]
  },
  {
   "cell_type": "code",
   "execution_count": 23,
   "id": "ab7955b0-32e6-4c3f-b9f2-fc73a4bb6ff1",
   "metadata": {},
   "outputs": [
    {
     "data": {
      "text/plain": [
       "Country Name      0\n",
       "Country Code      0\n",
       "2012            110\n",
       "2013            119\n",
       "2014            112\n",
       "2015            109\n",
       "2016            113\n",
       "2017            116\n",
       "2018            102\n",
       "2019            116\n",
       "2020            128\n",
       "2021            122\n",
       "2022            165\n",
       "dtype: int64"
      ]
     },
     "execution_count": 23,
     "metadata": {},
     "output_type": "execute_result"
    }
   ],
   "source": [
    "#calling reading function\n",
    "gini_df = read_and_check_quality('03_gini.csv')\n",
    "\n",
    "#checking missing values\n",
    "gini_df.isna().sum()"
   ]
  },
  {
   "cell_type": "code",
   "execution_count": 24,
   "id": "68f062ed-3823-4e60-858c-1a9e52d1fef1",
   "metadata": {},
   "outputs": [
    {
     "data": {
      "text/plain": [
       "(193, 13)"
      ]
     },
     "execution_count": 24,
     "metadata": {},
     "output_type": "execute_result"
    }
   ],
   "source": [
    "gini_df.shape"
   ]
  },
  {
   "cell_type": "code",
   "execution_count": 25,
   "id": "d4c416aa-3186-423f-9ada-89d28a6297a4",
   "metadata": {},
   "outputs": [
    {
     "data": {
      "text/plain": [
       "(62, 13)"
      ]
     },
     "execution_count": 25,
     "metadata": {},
     "output_type": "execute_result"
    }
   ],
   "source": [
    "#calling the cleaning function\n",
    "gini_df = clean_and_merge(gini_df, countries_map)\n",
    "gini_df.shape"
   ]
  },
  {
   "cell_type": "markdown",
   "id": "2163cfea-684c-4e36-ac58-37689c071190",
   "metadata": {},
   "source": [
    "Gini index to exclude from the analysis"
   ]
  },
  {
   "cell_type": "markdown",
   "id": "b2955a07-3d40-4c2b-b95c-69a90ab2dd91",
   "metadata": {},
   "source": [
    " "
   ]
  },
  {
   "cell_type": "markdown",
   "id": "f93c8493-0f6d-4af8-b074-d0bb4992cb51",
   "metadata": {},
   "source": [
    "### Health Expedinture"
   ]
  },
  {
   "cell_type": "code",
   "execution_count": 26,
   "id": "de38efc4-9666-49dc-8f22-b043fe521d9e",
   "metadata": {},
   "outputs": [
    {
     "data": {
      "text/plain": [
       "Country Name    0\n",
       "Country Code    0\n",
       "2012            4\n",
       "2013            3\n",
       "2014            3\n",
       "2015            3\n",
       "2016            3\n",
       "2017            2\n",
       "2018            1\n",
       "2019            1\n",
       "2020            1\n",
       "2021            1\n",
       "2022            2\n",
       "dtype: int64"
      ]
     },
     "execution_count": 26,
     "metadata": {},
     "output_type": "execute_result"
    }
   ],
   "source": [
    "#calling reading function\n",
    "health_df = read_and_check_quality('04_health.csv')\n",
    "\n",
    "#checking missing values\n",
    "health_df.isna().sum()"
   ]
  },
  {
   "cell_type": "code",
   "execution_count": 27,
   "id": "63ca3a9e-1e52-4831-b767-c8d13c5ebddf",
   "metadata": {},
   "outputs": [
    {
     "data": {
      "text/plain": [
       "(193, 13)"
      ]
     },
     "execution_count": 27,
     "metadata": {},
     "output_type": "execute_result"
    }
   ],
   "source": [
    "health_df.shape"
   ]
  },
  {
   "cell_type": "code",
   "execution_count": 28,
   "id": "3c6f4781-7b08-47f0-9ff6-5189ebbed3b4",
   "metadata": {},
   "outputs": [
    {
     "data": {
      "text/plain": [
       "(189, 13)"
      ]
     },
     "execution_count": 28,
     "metadata": {},
     "output_type": "execute_result"
    }
   ],
   "source": [
    "#calling the cleaning function\n",
    "health_df = clean_and_merge(health_df, countries_map)\n",
    "health_df.shape"
   ]
  },
  {
   "cell_type": "code",
   "execution_count": 29,
   "id": "e6f3e41b-b297-4396-9d2b-681eb0914dc3",
   "metadata": {},
   "outputs": [
    {
     "data": {
      "text/html": [
       "<div>\n",
       "<style scoped>\n",
       "    .dataframe tbody tr th:only-of-type {\n",
       "        vertical-align: middle;\n",
       "    }\n",
       "\n",
       "    .dataframe tbody tr th {\n",
       "        vertical-align: top;\n",
       "    }\n",
       "\n",
       "    .dataframe thead th {\n",
       "        text-align: right;\n",
       "    }\n",
       "</style>\n",
       "<table border=\"1\" class=\"dataframe\">\n",
       "  <thead>\n",
       "    <tr style=\"text-align: right;\">\n",
       "      <th></th>\n",
       "      <th>country</th>\n",
       "      <th>iso3</th>\n",
       "      <th>2012</th>\n",
       "      <th>2013</th>\n",
       "      <th>2014</th>\n",
       "      <th>2015</th>\n",
       "      <th>2016</th>\n",
       "      <th>2017</th>\n",
       "      <th>2018</th>\n",
       "      <th>2019</th>\n",
       "      <th>2020</th>\n",
       "      <th>2021</th>\n",
       "      <th>2022</th>\n",
       "    </tr>\n",
       "  </thead>\n",
       "  <tbody>\n",
       "    <tr>\n",
       "      <th>0</th>\n",
       "      <td>Afghanistan</td>\n",
       "      <td>AFG</td>\n",
       "      <td>7.90</td>\n",
       "      <td>8.81</td>\n",
       "      <td>9.53</td>\n",
       "      <td>10.11</td>\n",
       "      <td>11.82</td>\n",
       "      <td>12.62</td>\n",
       "      <td>14.21</td>\n",
       "      <td>14.83</td>\n",
       "      <td>15.53</td>\n",
       "      <td>21.51</td>\n",
       "      <td>23.09</td>\n",
       "    </tr>\n",
       "    <tr>\n",
       "      <th>1</th>\n",
       "      <td>Angola</td>\n",
       "      <td>AGO</td>\n",
       "      <td>2.40</td>\n",
       "      <td>2.73</td>\n",
       "      <td>2.43</td>\n",
       "      <td>2.61</td>\n",
       "      <td>2.71</td>\n",
       "      <td>2.79</td>\n",
       "      <td>2.59</td>\n",
       "      <td>2.48</td>\n",
       "      <td>3.27</td>\n",
       "      <td>3.09</td>\n",
       "      <td>2.93</td>\n",
       "    </tr>\n",
       "    <tr>\n",
       "      <th>2</th>\n",
       "      <td>Albania</td>\n",
       "      <td>ALB</td>\n",
       "      <td>6.16</td>\n",
       "      <td>6.28</td>\n",
       "      <td>6.43</td>\n",
       "      <td>6.46</td>\n",
       "      <td>6.73</td>\n",
       "      <td>6.58</td>\n",
       "      <td>6.67</td>\n",
       "      <td>6.86</td>\n",
       "      <td>7.50</td>\n",
       "      <td>7.40</td>\n",
       "      <td>6.19</td>\n",
       "    </tr>\n",
       "    <tr>\n",
       "      <th>3</th>\n",
       "      <td>Andorra</td>\n",
       "      <td>AND</td>\n",
       "      <td>6.71</td>\n",
       "      <td>6.80</td>\n",
       "      <td>6.77</td>\n",
       "      <td>6.92</td>\n",
       "      <td>6.91</td>\n",
       "      <td>7.07</td>\n",
       "      <td>7.38</td>\n",
       "      <td>7.32</td>\n",
       "      <td>8.79</td>\n",
       "      <td>8.33</td>\n",
       "      <td>7.54</td>\n",
       "    </tr>\n",
       "    <tr>\n",
       "      <th>4</th>\n",
       "      <td>United Arab Emirates</td>\n",
       "      <td>ARE</td>\n",
       "      <td>3.34</td>\n",
       "      <td>3.50</td>\n",
       "      <td>3.53</td>\n",
       "      <td>3.47</td>\n",
       "      <td>3.90</td>\n",
       "      <td>4.01</td>\n",
       "      <td>4.10</td>\n",
       "      <td>4.40</td>\n",
       "      <td>5.82</td>\n",
       "      <td>5.30</td>\n",
       "      <td>4.68</td>\n",
       "    </tr>\n",
       "  </tbody>\n",
       "</table>\n",
       "</div>"
      ],
      "text/plain": [
       "                country iso3  2012  2013  2014   2015   2016   2017   2018  \\\n",
       "0           Afghanistan  AFG  7.90  8.81  9.53  10.11  11.82  12.62  14.21   \n",
       "1                Angola  AGO  2.40  2.73  2.43   2.61   2.71   2.79   2.59   \n",
       "2               Albania  ALB  6.16  6.28  6.43   6.46   6.73   6.58   6.67   \n",
       "3               Andorra  AND  6.71  6.80  6.77   6.92   6.91   7.07   7.38   \n",
       "4  United Arab Emirates  ARE  3.34  3.50  3.53   3.47   3.90   4.01   4.10   \n",
       "\n",
       "    2019   2020   2021   2022  \n",
       "0  14.83  15.53  21.51  23.09  \n",
       "1   2.48   3.27   3.09   2.93  \n",
       "2   6.86   7.50   7.40   6.19  \n",
       "3   7.32   8.79   8.33   7.54  \n",
       "4   4.40   5.82   5.30   4.68  "
      ]
     },
     "execution_count": 29,
     "metadata": {},
     "output_type": "execute_result"
    }
   ],
   "source": [
    "health_df.head()"
   ]
  },
  {
   "cell_type": "markdown",
   "id": "aabbf2af-4302-47a2-b636-35463fc5cad0",
   "metadata": {},
   "source": [
    " "
   ]
  },
  {
   "cell_type": "markdown",
   "id": "19c7e156-1c15-4643-9763-e7f31d8150cb",
   "metadata": {},
   "source": [
    "### Children Mortality"
   ]
  },
  {
   "cell_type": "code",
   "execution_count": 30,
   "id": "1c4788fb-3d73-4f87-9759-c6c51096c667",
   "metadata": {},
   "outputs": [
    {
     "data": {
      "text/plain": [
       "Country Name    0\n",
       "Country Code    0\n",
       "2012            0\n",
       "2013            0\n",
       "2014            0\n",
       "2015            0\n",
       "2016            0\n",
       "2017            0\n",
       "2018            0\n",
       "2019            0\n",
       "2020            0\n",
       "2021            0\n",
       "2022            0\n",
       "dtype: int64"
      ]
     },
     "execution_count": 30,
     "metadata": {},
     "output_type": "execute_result"
    }
   ],
   "source": [
    "#calling reading function\n",
    "child_mort_df = read_and_check_quality('05_child_mortality.csv')\n",
    "\n",
    "#checking missing values\n",
    "child_mort_df.isna().sum()"
   ]
  },
  {
   "cell_type": "code",
   "execution_count": 31,
   "id": "14a9763b-f334-4201-b425-c694b91bbd39",
   "metadata": {},
   "outputs": [
    {
     "data": {
      "text/plain": [
       "(193, 13)"
      ]
     },
     "execution_count": 31,
     "metadata": {},
     "output_type": "execute_result"
    }
   ],
   "source": [
    "child_mort_df.shape"
   ]
  },
  {
   "cell_type": "code",
   "execution_count": 32,
   "id": "8e8f24b3-a0a2-46b9-bf57-44624eb1eaa3",
   "metadata": {},
   "outputs": [
    {
     "data": {
      "text/html": [
       "<div>\n",
       "<style scoped>\n",
       "    .dataframe tbody tr th:only-of-type {\n",
       "        vertical-align: middle;\n",
       "    }\n",
       "\n",
       "    .dataframe tbody tr th {\n",
       "        vertical-align: top;\n",
       "    }\n",
       "\n",
       "    .dataframe thead th {\n",
       "        text-align: right;\n",
       "    }\n",
       "</style>\n",
       "<table border=\"1\" class=\"dataframe\">\n",
       "  <thead>\n",
       "    <tr style=\"text-align: right;\">\n",
       "      <th></th>\n",
       "      <th>country</th>\n",
       "      <th>iso3</th>\n",
       "      <th>2012</th>\n",
       "      <th>2013</th>\n",
       "      <th>2014</th>\n",
       "      <th>2015</th>\n",
       "      <th>2016</th>\n",
       "      <th>2017</th>\n",
       "      <th>2018</th>\n",
       "      <th>2019</th>\n",
       "      <th>2020</th>\n",
       "      <th>2021</th>\n",
       "      <th>2022</th>\n",
       "    </tr>\n",
       "  </thead>\n",
       "  <tbody>\n",
       "    <tr>\n",
       "      <th>0</th>\n",
       "      <td>Afghanistan</td>\n",
       "      <td>AFG</td>\n",
       "      <td>81.2</td>\n",
       "      <td>78.0</td>\n",
       "      <td>75.1</td>\n",
       "      <td>72.4</td>\n",
       "      <td>70.0</td>\n",
       "      <td>67.6</td>\n",
       "      <td>65.4</td>\n",
       "      <td>63.3</td>\n",
       "      <td>61.3</td>\n",
       "      <td>59.3</td>\n",
       "      <td>57.4</td>\n",
       "    </tr>\n",
       "    <tr>\n",
       "      <th>1</th>\n",
       "      <td>Angola</td>\n",
       "      <td>AGO</td>\n",
       "      <td>104.8</td>\n",
       "      <td>98.3</td>\n",
       "      <td>92.8</td>\n",
       "      <td>88.2</td>\n",
       "      <td>84.1</td>\n",
       "      <td>80.5</td>\n",
       "      <td>77.3</td>\n",
       "      <td>74.4</td>\n",
       "      <td>71.6</td>\n",
       "      <td>69.0</td>\n",
       "      <td>66.4</td>\n",
       "    </tr>\n",
       "    <tr>\n",
       "      <th>2</th>\n",
       "      <td>Albania</td>\n",
       "      <td>ALB</td>\n",
       "      <td>11.2</td>\n",
       "      <td>10.5</td>\n",
       "      <td>9.9</td>\n",
       "      <td>9.6</td>\n",
       "      <td>9.4</td>\n",
       "      <td>9.3</td>\n",
       "      <td>9.3</td>\n",
       "      <td>9.4</td>\n",
       "      <td>9.4</td>\n",
       "      <td>9.5</td>\n",
       "      <td>9.4</td>\n",
       "    </tr>\n",
       "    <tr>\n",
       "      <th>3</th>\n",
       "      <td>Andorra</td>\n",
       "      <td>AND</td>\n",
       "      <td>4.1</td>\n",
       "      <td>3.9</td>\n",
       "      <td>3.7</td>\n",
       "      <td>3.5</td>\n",
       "      <td>3.4</td>\n",
       "      <td>3.2</td>\n",
       "      <td>3.1</td>\n",
       "      <td>3.0</td>\n",
       "      <td>2.9</td>\n",
       "      <td>2.8</td>\n",
       "      <td>2.7</td>\n",
       "    </tr>\n",
       "    <tr>\n",
       "      <th>4</th>\n",
       "      <td>United Arab Emirates</td>\n",
       "      <td>ARE</td>\n",
       "      <td>8.4</td>\n",
       "      <td>8.2</td>\n",
       "      <td>7.9</td>\n",
       "      <td>7.7</td>\n",
       "      <td>7.3</td>\n",
       "      <td>7.0</td>\n",
       "      <td>6.7</td>\n",
       "      <td>6.3</td>\n",
       "      <td>6.0</td>\n",
       "      <td>5.6</td>\n",
       "      <td>5.3</td>\n",
       "    </tr>\n",
       "  </tbody>\n",
       "</table>\n",
       "</div>"
      ],
      "text/plain": [
       "                country iso3   2012  2013  2014  2015  2016  2017  2018  2019  \\\n",
       "0           Afghanistan  AFG   81.2  78.0  75.1  72.4  70.0  67.6  65.4  63.3   \n",
       "1                Angola  AGO  104.8  98.3  92.8  88.2  84.1  80.5  77.3  74.4   \n",
       "2               Albania  ALB   11.2  10.5   9.9   9.6   9.4   9.3   9.3   9.4   \n",
       "3               Andorra  AND    4.1   3.9   3.7   3.5   3.4   3.2   3.1   3.0   \n",
       "4  United Arab Emirates  ARE    8.4   8.2   7.9   7.7   7.3   7.0   6.7   6.3   \n",
       "\n",
       "   2020  2021  2022  \n",
       "0  61.3  59.3  57.4  \n",
       "1  71.6  69.0  66.4  \n",
       "2   9.4   9.5   9.4  \n",
       "3   2.9   2.8   2.7  \n",
       "4   6.0   5.6   5.3  "
      ]
     },
     "execution_count": 32,
     "metadata": {},
     "output_type": "execute_result"
    }
   ],
   "source": [
    "#there are no missing values but will apply finction for merge\n",
    "child_mort_df = clean_and_merge(child_mort_df, countries_map)\n",
    "child_mort_df.head()"
   ]
  },
  {
   "cell_type": "markdown",
   "id": "8b8e8815-9774-4dd2-b277-7812c93925ad",
   "metadata": {},
   "source": [
    " "
   ]
  },
  {
   "cell_type": "markdown",
   "id": "0afd0488-e299-412e-ba8a-8c16acdca2df",
   "metadata": {},
   "source": [
    "### Internet Use"
   ]
  },
  {
   "cell_type": "code",
   "execution_count": 33,
   "id": "894946ac-3946-48f5-9965-e5d79f8eb407",
   "metadata": {},
   "outputs": [
    {
     "data": {
      "text/plain": [
       "Country Name     0\n",
       "Country Code     0\n",
       "2012             6\n",
       "2013             6\n",
       "2014             5\n",
       "2015             6\n",
       "2016             5\n",
       "2017             4\n",
       "2018            21\n",
       "2019            11\n",
       "2020            10\n",
       "2021            16\n",
       "2022            15\n",
       "dtype: int64"
      ]
     },
     "execution_count": 33,
     "metadata": {},
     "output_type": "execute_result"
    }
   ],
   "source": [
    "#calling reading function\n",
    "internet_df = read_and_check_quality('08_internet.csv')\n",
    "\n",
    "#checking missing values\n",
    "internet_df.isna().sum()"
   ]
  },
  {
   "cell_type": "code",
   "execution_count": 34,
   "id": "706e6266-83ff-41bf-89f2-7cbd0fdf9f0d",
   "metadata": {},
   "outputs": [
    {
     "data": {
      "text/plain": [
       "(193, 13)"
      ]
     },
     "execution_count": 34,
     "metadata": {},
     "output_type": "execute_result"
    }
   ],
   "source": [
    "internet_df.shape"
   ]
  },
  {
   "cell_type": "code",
   "execution_count": 35,
   "id": "37765454-f5ef-41bb-8c3d-ee8a32da92e4",
   "metadata": {},
   "outputs": [
    {
     "data": {
      "text/plain": [
       "(183, 13)"
      ]
     },
     "execution_count": 35,
     "metadata": {},
     "output_type": "execute_result"
    }
   ],
   "source": [
    "#calling the cleaning function\n",
    "internet_df = clean_and_merge(internet_df, countries_map)\n",
    "internet_df.shape"
   ]
  },
  {
   "cell_type": "code",
   "execution_count": 36,
   "id": "05ec7064-0f45-473a-b0ed-553afb3ebda1",
   "metadata": {},
   "outputs": [
    {
     "data": {
      "text/html": [
       "<div>\n",
       "<style scoped>\n",
       "    .dataframe tbody tr th:only-of-type {\n",
       "        vertical-align: middle;\n",
       "    }\n",
       "\n",
       "    .dataframe tbody tr th {\n",
       "        vertical-align: top;\n",
       "    }\n",
       "\n",
       "    .dataframe thead th {\n",
       "        text-align: right;\n",
       "    }\n",
       "</style>\n",
       "<table border=\"1\" class=\"dataframe\">\n",
       "  <thead>\n",
       "    <tr style=\"text-align: right;\">\n",
       "      <th></th>\n",
       "      <th>country</th>\n",
       "      <th>iso3</th>\n",
       "      <th>2012</th>\n",
       "      <th>2013</th>\n",
       "      <th>2014</th>\n",
       "      <th>2015</th>\n",
       "      <th>2016</th>\n",
       "      <th>2017</th>\n",
       "      <th>2018</th>\n",
       "      <th>2019</th>\n",
       "      <th>2020</th>\n",
       "      <th>2021</th>\n",
       "      <th>2022</th>\n",
       "    </tr>\n",
       "  </thead>\n",
       "  <tbody>\n",
       "    <tr>\n",
       "      <th>0</th>\n",
       "      <td>Afghanistan</td>\n",
       "      <td>AFG</td>\n",
       "      <td>5.45</td>\n",
       "      <td>5.9</td>\n",
       "      <td>7.0</td>\n",
       "      <td>8.26</td>\n",
       "      <td>11.0</td>\n",
       "      <td>13.5</td>\n",
       "      <td>16.80</td>\n",
       "      <td>17.6</td>\n",
       "      <td>17.0</td>\n",
       "      <td>16.5</td>\n",
       "      <td>17.2</td>\n",
       "    </tr>\n",
       "    <tr>\n",
       "      <th>1</th>\n",
       "      <td>Angola</td>\n",
       "      <td>AGO</td>\n",
       "      <td>7.70</td>\n",
       "      <td>13.0</td>\n",
       "      <td>21.4</td>\n",
       "      <td>22.00</td>\n",
       "      <td>23.2</td>\n",
       "      <td>26.0</td>\n",
       "      <td>29.00</td>\n",
       "      <td>32.1</td>\n",
       "      <td>36.6</td>\n",
       "      <td>39.4</td>\n",
       "      <td>42.1</td>\n",
       "    </tr>\n",
       "    <tr>\n",
       "      <th>2</th>\n",
       "      <td>Albania</td>\n",
       "      <td>ALB</td>\n",
       "      <td>49.40</td>\n",
       "      <td>51.8</td>\n",
       "      <td>54.3</td>\n",
       "      <td>56.90</td>\n",
       "      <td>59.6</td>\n",
       "      <td>62.4</td>\n",
       "      <td>65.40</td>\n",
       "      <td>68.6</td>\n",
       "      <td>72.2</td>\n",
       "      <td>79.3</td>\n",
       "      <td>82.6</td>\n",
       "    </tr>\n",
       "    <tr>\n",
       "      <th>3</th>\n",
       "      <td>Andorra</td>\n",
       "      <td>AND</td>\n",
       "      <td>82.70</td>\n",
       "      <td>84.4</td>\n",
       "      <td>86.1</td>\n",
       "      <td>87.90</td>\n",
       "      <td>89.7</td>\n",
       "      <td>91.6</td>\n",
       "      <td>91.15</td>\n",
       "      <td>90.7</td>\n",
       "      <td>93.2</td>\n",
       "      <td>93.9</td>\n",
       "      <td>94.5</td>\n",
       "    </tr>\n",
       "    <tr>\n",
       "      <th>4</th>\n",
       "      <td>United Arab Emirates</td>\n",
       "      <td>ARE</td>\n",
       "      <td>85.00</td>\n",
       "      <td>88.0</td>\n",
       "      <td>90.4</td>\n",
       "      <td>90.50</td>\n",
       "      <td>90.6</td>\n",
       "      <td>94.8</td>\n",
       "      <td>98.50</td>\n",
       "      <td>99.2</td>\n",
       "      <td>100.0</td>\n",
       "      <td>100.0</td>\n",
       "      <td>100.0</td>\n",
       "    </tr>\n",
       "  </tbody>\n",
       "</table>\n",
       "</div>"
      ],
      "text/plain": [
       "                country iso3   2012  2013  2014   2015  2016  2017   2018  \\\n",
       "0           Afghanistan  AFG   5.45   5.9   7.0   8.26  11.0  13.5  16.80   \n",
       "1                Angola  AGO   7.70  13.0  21.4  22.00  23.2  26.0  29.00   \n",
       "2               Albania  ALB  49.40  51.8  54.3  56.90  59.6  62.4  65.40   \n",
       "3               Andorra  AND  82.70  84.4  86.1  87.90  89.7  91.6  91.15   \n",
       "4  United Arab Emirates  ARE  85.00  88.0  90.4  90.50  90.6  94.8  98.50   \n",
       "\n",
       "   2019   2020   2021   2022  \n",
       "0  17.6   17.0   16.5   17.2  \n",
       "1  32.1   36.6   39.4   42.1  \n",
       "2  68.6   72.2   79.3   82.6  \n",
       "3  90.7   93.2   93.9   94.5  \n",
       "4  99.2  100.0  100.0  100.0  "
      ]
     },
     "execution_count": 36,
     "metadata": {},
     "output_type": "execute_result"
    }
   ],
   "source": [
    "internet_df.head()"
   ]
  },
  {
   "cell_type": "markdown",
   "id": "39ddad8a-72d2-4d1e-b771-cd56f200a490",
   "metadata": {},
   "source": [
    " "
   ]
  },
  {
   "cell_type": "markdown",
   "id": "9f7a0d2a-a6f5-4b75-86ea-80fb3e9b1dac",
   "metadata": {},
   "source": [
    "### Government Trust"
   ]
  },
  {
   "cell_type": "markdown",
   "id": "ebe49f17-2e40-48a9-8533-9e1f87dc3123",
   "metadata": {},
   "source": [
    "Data in this section comes from OECD trust survey."
   ]
  },
  {
   "cell_type": "code",
   "execution_count": 37,
   "id": "4f312c47-63b5-4f7a-bc9b-1fa12f97209a",
   "metadata": {},
   "outputs": [
    {
     "data": {
      "text/html": [
       "<div>\n",
       "<style scoped>\n",
       "    .dataframe tbody tr th:only-of-type {\n",
       "        vertical-align: middle;\n",
       "    }\n",
       "\n",
       "    .dataframe tbody tr th {\n",
       "        vertical-align: top;\n",
       "    }\n",
       "\n",
       "    .dataframe thead th {\n",
       "        text-align: right;\n",
       "    }\n",
       "</style>\n",
       "<table border=\"1\" class=\"dataframe\">\n",
       "  <thead>\n",
       "    <tr style=\"text-align: right;\">\n",
       "      <th></th>\n",
       "      <th>STRUCTURE</th>\n",
       "      <th>STRUCTURE_ID</th>\n",
       "      <th>STRUCTURE_NAME</th>\n",
       "      <th>ACTION</th>\n",
       "      <th>REF_AREA</th>\n",
       "      <th>Reference area</th>\n",
       "      <th>MEASURE</th>\n",
       "      <th>Measure</th>\n",
       "      <th>UNIT_MEASURE</th>\n",
       "      <th>Unit of measure</th>\n",
       "      <th>...</th>\n",
       "      <th>OBS_VALUE</th>\n",
       "      <th>Observation value</th>\n",
       "      <th>OBS_STATUS</th>\n",
       "      <th>Observation status</th>\n",
       "      <th>UNIT_MULT</th>\n",
       "      <th>Unit multiplier</th>\n",
       "      <th>DECIMALS</th>\n",
       "      <th>Decimals</th>\n",
       "      <th>BASE_PER</th>\n",
       "      <th>Base period</th>\n",
       "    </tr>\n",
       "  </thead>\n",
       "  <tbody>\n",
       "    <tr>\n",
       "      <th>0</th>\n",
       "      <td>DATAFLOW</td>\n",
       "      <td>OECD.WISE.WDP:DSD_HSL@DF_HSL_FWB(1.1)</td>\n",
       "      <td>Future well-being</td>\n",
       "      <td>I</td>\n",
       "      <td>CZE</td>\n",
       "      <td>Czechia</td>\n",
       "      <td>14_3</td>\n",
       "      <td>Trust in government</td>\n",
       "      <td>PT_POP_Y_GE15</td>\n",
       "      <td>Percentage of population aged 15 years or over</td>\n",
       "      <td>...</td>\n",
       "      <td>44.579404</td>\n",
       "      <td>NaN</td>\n",
       "      <td>A</td>\n",
       "      <td>Normal value</td>\n",
       "      <td>0</td>\n",
       "      <td>Units</td>\n",
       "      <td>2</td>\n",
       "      <td>Two</td>\n",
       "      <td>NaN</td>\n",
       "      <td>NaN</td>\n",
       "    </tr>\n",
       "    <tr>\n",
       "      <th>1</th>\n",
       "      <td>DATAFLOW</td>\n",
       "      <td>OECD.WISE.WDP:DSD_HSL@DF_HSL_FWB(1.1)</td>\n",
       "      <td>Future well-being</td>\n",
       "      <td>I</td>\n",
       "      <td>CZE</td>\n",
       "      <td>Czechia</td>\n",
       "      <td>14_3</td>\n",
       "      <td>Trust in government</td>\n",
       "      <td>PT_POP_Y_GE15</td>\n",
       "      <td>Percentage of population aged 15 years or over</td>\n",
       "      <td>...</td>\n",
       "      <td>44.579404</td>\n",
       "      <td>NaN</td>\n",
       "      <td>A</td>\n",
       "      <td>Normal value</td>\n",
       "      <td>0</td>\n",
       "      <td>Units</td>\n",
       "      <td>2</td>\n",
       "      <td>Two</td>\n",
       "      <td>NaN</td>\n",
       "      <td>NaN</td>\n",
       "    </tr>\n",
       "    <tr>\n",
       "      <th>2</th>\n",
       "      <td>DATAFLOW</td>\n",
       "      <td>OECD.WISE.WDP:DSD_HSL@DF_HSL_FWB(1.1)</td>\n",
       "      <td>Future well-being</td>\n",
       "      <td>I</td>\n",
       "      <td>CZE</td>\n",
       "      <td>Czechia</td>\n",
       "      <td>14_3</td>\n",
       "      <td>Trust in government</td>\n",
       "      <td>PT_POP_Y_GE15</td>\n",
       "      <td>Percentage of population aged 15 years or over</td>\n",
       "      <td>...</td>\n",
       "      <td>44.579404</td>\n",
       "      <td>NaN</td>\n",
       "      <td>A</td>\n",
       "      <td>Normal value</td>\n",
       "      <td>0</td>\n",
       "      <td>Units</td>\n",
       "      <td>2</td>\n",
       "      <td>Two</td>\n",
       "      <td>NaN</td>\n",
       "      <td>NaN</td>\n",
       "    </tr>\n",
       "    <tr>\n",
       "      <th>3</th>\n",
       "      <td>DATAFLOW</td>\n",
       "      <td>OECD.WISE.WDP:DSD_HSL@DF_HSL_FWB(1.1)</td>\n",
       "      <td>Future well-being</td>\n",
       "      <td>I</td>\n",
       "      <td>CZE</td>\n",
       "      <td>Czechia</td>\n",
       "      <td>14_3</td>\n",
       "      <td>Trust in government</td>\n",
       "      <td>PT_POP_Y_GE15</td>\n",
       "      <td>Percentage of population aged 15 years or over</td>\n",
       "      <td>...</td>\n",
       "      <td>22.121649</td>\n",
       "      <td>NaN</td>\n",
       "      <td>A</td>\n",
       "      <td>Normal value</td>\n",
       "      <td>0</td>\n",
       "      <td>Units</td>\n",
       "      <td>2</td>\n",
       "      <td>Two</td>\n",
       "      <td>NaN</td>\n",
       "      <td>NaN</td>\n",
       "    </tr>\n",
       "    <tr>\n",
       "      <th>4</th>\n",
       "      <td>DATAFLOW</td>\n",
       "      <td>OECD.WISE.WDP:DSD_HSL@DF_HSL_FWB(1.1)</td>\n",
       "      <td>Future well-being</td>\n",
       "      <td>I</td>\n",
       "      <td>CZE</td>\n",
       "      <td>Czechia</td>\n",
       "      <td>14_3</td>\n",
       "      <td>Trust in government</td>\n",
       "      <td>PT_POP_Y_GE15</td>\n",
       "      <td>Percentage of population aged 15 years or over</td>\n",
       "      <td>...</td>\n",
       "      <td>22.121649</td>\n",
       "      <td>NaN</td>\n",
       "      <td>A</td>\n",
       "      <td>Normal value</td>\n",
       "      <td>0</td>\n",
       "      <td>Units</td>\n",
       "      <td>2</td>\n",
       "      <td>Two</td>\n",
       "      <td>NaN</td>\n",
       "      <td>NaN</td>\n",
       "    </tr>\n",
       "  </tbody>\n",
       "</table>\n",
       "<p>5 rows × 30 columns</p>\n",
       "</div>"
      ],
      "text/plain": [
       "  STRUCTURE                           STRUCTURE_ID     STRUCTURE_NAME ACTION  \\\n",
       "0  DATAFLOW  OECD.WISE.WDP:DSD_HSL@DF_HSL_FWB(1.1)  Future well-being      I   \n",
       "1  DATAFLOW  OECD.WISE.WDP:DSD_HSL@DF_HSL_FWB(1.1)  Future well-being      I   \n",
       "2  DATAFLOW  OECD.WISE.WDP:DSD_HSL@DF_HSL_FWB(1.1)  Future well-being      I   \n",
       "3  DATAFLOW  OECD.WISE.WDP:DSD_HSL@DF_HSL_FWB(1.1)  Future well-being      I   \n",
       "4  DATAFLOW  OECD.WISE.WDP:DSD_HSL@DF_HSL_FWB(1.1)  Future well-being      I   \n",
       "\n",
       "  REF_AREA Reference area MEASURE              Measure   UNIT_MEASURE  \\\n",
       "0      CZE        Czechia    14_3  Trust in government  PT_POP_Y_GE15   \n",
       "1      CZE        Czechia    14_3  Trust in government  PT_POP_Y_GE15   \n",
       "2      CZE        Czechia    14_3  Trust in government  PT_POP_Y_GE15   \n",
       "3      CZE        Czechia    14_3  Trust in government  PT_POP_Y_GE15   \n",
       "4      CZE        Czechia    14_3  Trust in government  PT_POP_Y_GE15   \n",
       "\n",
       "                                  Unit of measure  ...  OBS_VALUE  \\\n",
       "0  Percentage of population aged 15 years or over  ...  44.579404   \n",
       "1  Percentage of population aged 15 years or over  ...  44.579404   \n",
       "2  Percentage of population aged 15 years or over  ...  44.579404   \n",
       "3  Percentage of population aged 15 years or over  ...  22.121649   \n",
       "4  Percentage of population aged 15 years or over  ...  22.121649   \n",
       "\n",
       "  Observation value OBS_STATUS Observation status UNIT_MULT Unit multiplier  \\\n",
       "0               NaN          A       Normal value         0           Units   \n",
       "1               NaN          A       Normal value         0           Units   \n",
       "2               NaN          A       Normal value         0           Units   \n",
       "3               NaN          A       Normal value         0           Units   \n",
       "4               NaN          A       Normal value         0           Units   \n",
       "\n",
       "  DECIMALS Decimals  BASE_PER  Base period  \n",
       "0        2      Two       NaN          NaN  \n",
       "1        2      Two       NaN          NaN  \n",
       "2        2      Two       NaN          NaN  \n",
       "3        2      Two       NaN          NaN  \n",
       "4        2      Two       NaN          NaN  \n",
       "\n",
       "[5 rows x 30 columns]"
      ]
     },
     "execution_count": 37,
     "metadata": {},
     "output_type": "execute_result"
    }
   ],
   "source": [
    "#reading data\n",
    "trust = pd.read_csv('06_gov_trust_oecd.csv')\n",
    "trust.head()"
   ]
  },
  {
   "cell_type": "code",
   "execution_count": 38,
   "id": "973e16ef-152c-4f67-82b0-229d9a5f28cf",
   "metadata": {},
   "outputs": [
    {
     "data": {
      "text/plain": [
       "Index(['STRUCTURE', 'STRUCTURE_ID', 'STRUCTURE_NAME', 'ACTION', 'REF_AREA',\n",
       "       'Reference area', 'MEASURE', 'Measure', 'UNIT_MEASURE',\n",
       "       'Unit of measure', 'AGE', 'Age', 'SEX', 'Sex', 'EDUCATION_LEV',\n",
       "       'Education level', 'DOMAIN', 'Domain', 'TIME_PERIOD', 'Time period',\n",
       "       'OBS_VALUE', 'Observation value', 'OBS_STATUS', 'Observation status',\n",
       "       'UNIT_MULT', 'Unit multiplier', 'DECIMALS', 'Decimals', 'BASE_PER',\n",
       "       'Base period'],\n",
       "      dtype='object')"
      ]
     },
     "execution_count": 38,
     "metadata": {},
     "output_type": "execute_result"
    }
   ],
   "source": [
    "#listing columns in a dataframe\n",
    "trust.columns"
   ]
  },
  {
   "cell_type": "code",
   "execution_count": 39,
   "id": "f0ed3669-348d-4211-83e5-58345b5e7ed9",
   "metadata": {},
   "outputs": [],
   "source": [
    "#filtering education level for total\n",
    "trust = trust[trust['Education level'] == 'Total']"
   ]
  },
  {
   "cell_type": "code",
   "execution_count": 40,
   "id": "a28c3a2d-d60e-4615-87bf-0840d6faa43a",
   "metadata": {},
   "outputs": [
    {
     "data": {
      "text/html": [
       "<div>\n",
       "<style scoped>\n",
       "    .dataframe tbody tr th:only-of-type {\n",
       "        vertical-align: middle;\n",
       "    }\n",
       "\n",
       "    .dataframe tbody tr th {\n",
       "        vertical-align: top;\n",
       "    }\n",
       "\n",
       "    .dataframe thead th {\n",
       "        text-align: right;\n",
       "    }\n",
       "</style>\n",
       "<table border=\"1\" class=\"dataframe\">\n",
       "  <thead>\n",
       "    <tr style=\"text-align: right;\">\n",
       "      <th></th>\n",
       "      <th>REF_AREA</th>\n",
       "      <th>TIME_PERIOD</th>\n",
       "      <th>OBS_VALUE</th>\n",
       "      <th>BASE_PER</th>\n",
       "      <th>Base period</th>\n",
       "    </tr>\n",
       "  </thead>\n",
       "  <tbody>\n",
       "    <tr>\n",
       "      <th>0</th>\n",
       "      <td>CZE</td>\n",
       "      <td>2016</td>\n",
       "      <td>44.579404</td>\n",
       "      <td>NaN</td>\n",
       "      <td>NaN</td>\n",
       "    </tr>\n",
       "    <tr>\n",
       "      <th>1</th>\n",
       "      <td>CZE</td>\n",
       "      <td>2015</td>\n",
       "      <td>44.579404</td>\n",
       "      <td>NaN</td>\n",
       "      <td>NaN</td>\n",
       "    </tr>\n",
       "    <tr>\n",
       "      <th>2</th>\n",
       "      <td>CZE</td>\n",
       "      <td>2014</td>\n",
       "      <td>44.579404</td>\n",
       "      <td>NaN</td>\n",
       "      <td>NaN</td>\n",
       "    </tr>\n",
       "    <tr>\n",
       "      <th>3</th>\n",
       "      <td>CZE</td>\n",
       "      <td>2013</td>\n",
       "      <td>22.121649</td>\n",
       "      <td>NaN</td>\n",
       "      <td>NaN</td>\n",
       "    </tr>\n",
       "    <tr>\n",
       "      <th>4</th>\n",
       "      <td>CZE</td>\n",
       "      <td>2012</td>\n",
       "      <td>22.121649</td>\n",
       "      <td>NaN</td>\n",
       "      <td>NaN</td>\n",
       "    </tr>\n",
       "  </tbody>\n",
       "</table>\n",
       "</div>"
      ],
      "text/plain": [
       "  REF_AREA  TIME_PERIOD  OBS_VALUE  BASE_PER  Base period\n",
       "0      CZE         2016  44.579404       NaN          NaN\n",
       "1      CZE         2015  44.579404       NaN          NaN\n",
       "2      CZE         2014  44.579404       NaN          NaN\n",
       "3      CZE         2013  22.121649       NaN          NaN\n",
       "4      CZE         2012  22.121649       NaN          NaN"
      ]
     },
     "execution_count": 40,
     "metadata": {},
     "output_type": "execute_result"
    }
   ],
   "source": [
    "#choosing applicable columns\n",
    "trust = trust[['REF_AREA','TIME_PERIOD', 'OBS_VALUE','BASE_PER','Base period']]\n",
    "trust.head()"
   ]
  },
  {
   "cell_type": "code",
   "execution_count": 41,
   "id": "e9e2ab14-6a01-4598-8931-b963f86fcbcb",
   "metadata": {},
   "outputs": [
    {
     "data": {
      "text/plain": [
       "(449, 5)"
      ]
     },
     "execution_count": 41,
     "metadata": {},
     "output_type": "execute_result"
    }
   ],
   "source": [
    "#checking shape\n",
    "trust.shape"
   ]
  },
  {
   "cell_type": "code",
   "execution_count": 42,
   "id": "94887307-dc19-48d0-b5e4-4ce53ec9ae67",
   "metadata": {},
   "outputs": [
    {
     "data": {
      "text/plain": [
       "(449, 3)"
      ]
     },
     "execution_count": 42,
     "metadata": {},
     "output_type": "execute_result"
    }
   ],
   "source": [
    "#removing rows with empty values and checking how many were romoved\n",
    "trust = trust.dropna(axis=1)\n",
    "trust.shape"
   ]
  },
  {
   "cell_type": "markdown",
   "id": "27b6b700-e5b1-4ce9-8420-bad0f067d3aa",
   "metadata": {},
   "source": [
    "There are no NaNs"
   ]
  },
  {
   "cell_type": "code",
   "execution_count": 43,
   "id": "535cff77-0cb8-45f3-aa8c-32b7787c94e6",
   "metadata": {},
   "outputs": [
    {
     "data": {
      "text/html": [
       "<div>\n",
       "<style scoped>\n",
       "    .dataframe tbody tr th:only-of-type {\n",
       "        vertical-align: middle;\n",
       "    }\n",
       "\n",
       "    .dataframe tbody tr th {\n",
       "        vertical-align: top;\n",
       "    }\n",
       "\n",
       "    .dataframe thead th {\n",
       "        text-align: right;\n",
       "    }\n",
       "</style>\n",
       "<table border=\"1\" class=\"dataframe\">\n",
       "  <thead>\n",
       "    <tr style=\"text-align: right;\">\n",
       "      <th></th>\n",
       "      <th>iso3</th>\n",
       "      <th>year</th>\n",
       "      <th>gov_trust</th>\n",
       "    </tr>\n",
       "  </thead>\n",
       "  <tbody>\n",
       "    <tr>\n",
       "      <th>0</th>\n",
       "      <td>CZE</td>\n",
       "      <td>2016</td>\n",
       "      <td>44.579404</td>\n",
       "    </tr>\n",
       "    <tr>\n",
       "      <th>1</th>\n",
       "      <td>CZE</td>\n",
       "      <td>2015</td>\n",
       "      <td>44.579404</td>\n",
       "    </tr>\n",
       "    <tr>\n",
       "      <th>2</th>\n",
       "      <td>CZE</td>\n",
       "      <td>2014</td>\n",
       "      <td>44.579404</td>\n",
       "    </tr>\n",
       "    <tr>\n",
       "      <th>3</th>\n",
       "      <td>CZE</td>\n",
       "      <td>2013</td>\n",
       "      <td>22.121649</td>\n",
       "    </tr>\n",
       "    <tr>\n",
       "      <th>4</th>\n",
       "      <td>CZE</td>\n",
       "      <td>2012</td>\n",
       "      <td>22.121649</td>\n",
       "    </tr>\n",
       "  </tbody>\n",
       "</table>\n",
       "</div>"
      ],
      "text/plain": [
       "  iso3  year  gov_trust\n",
       "0  CZE  2016  44.579404\n",
       "1  CZE  2015  44.579404\n",
       "2  CZE  2014  44.579404\n",
       "3  CZE  2013  22.121649\n",
       "4  CZE  2012  22.121649"
      ]
     },
     "execution_count": 43,
     "metadata": {},
     "output_type": "execute_result"
    }
   ],
   "source": [
    "#renaming columns\n",
    "trust_df =trust.set_axis(['iso3', 'year', 'gov_trust'], axis=1)\n",
    "trust_df.head()"
   ]
  },
  {
   "cell_type": "code",
   "execution_count": 44,
   "id": "2760c82a-ea7a-4b64-aac1-514b4b5ed33b",
   "metadata": {},
   "outputs": [
    {
     "data": {
      "text/plain": [
       "iso3          object\n",
       "year           int64\n",
       "gov_trust    float64\n",
       "dtype: object"
      ]
     },
     "execution_count": 44,
     "metadata": {},
     "output_type": "execute_result"
    }
   ],
   "source": [
    "#checking datatypes\n",
    "trust_df['gov_trust'] = trust_df['gov_trust'].round(2)\n",
    "trust_df.dtypes"
   ]
  },
  {
   "cell_type": "code",
   "execution_count": 45,
   "id": "91b609c1-13ae-4084-af62-34bc74860e63",
   "metadata": {},
   "outputs": [
    {
     "data": {
      "text/plain": [
       "iso3    38\n",
       "dtype: int64"
      ]
     },
     "execution_count": 45,
     "metadata": {},
     "output_type": "execute_result"
    }
   ],
   "source": [
    "#filtering for countries included in vaccination data to check the number of\n",
    "#applicable countries\n",
    "trust_df = trust_df[trust_df[\"iso3\"].isin(vac_iso_codes)]\n",
    "trust_df[['iso3']].nunique()"
   ]
  },
  {
   "cell_type": "markdown",
   "id": "68135d54-be31-4afe-a699-1cd99f082279",
   "metadata": {},
   "source": [
    "Data only for OECD countries is available."
   ]
  },
  {
   "cell_type": "code",
   "execution_count": 46,
   "id": "26d3e7f6-22b6-43bc-ac5d-2b9579f019f3",
   "metadata": {},
   "outputs": [
    {
     "data": {
      "text/html": [
       "<div>\n",
       "<style scoped>\n",
       "    .dataframe tbody tr th:only-of-type {\n",
       "        vertical-align: middle;\n",
       "    }\n",
       "\n",
       "    .dataframe tbody tr th {\n",
       "        vertical-align: top;\n",
       "    }\n",
       "\n",
       "    .dataframe thead th {\n",
       "        text-align: right;\n",
       "    }\n",
       "</style>\n",
       "<table border=\"1\" class=\"dataframe\">\n",
       "  <thead>\n",
       "    <tr style=\"text-align: right;\">\n",
       "      <th></th>\n",
       "      <th>country</th>\n",
       "      <th>iso3</th>\n",
       "      <th>year</th>\n",
       "      <th>gov_trust</th>\n",
       "    </tr>\n",
       "  </thead>\n",
       "  <tbody>\n",
       "    <tr>\n",
       "      <th>0</th>\n",
       "      <td>Czechia</td>\n",
       "      <td>CZE</td>\n",
       "      <td>2016</td>\n",
       "      <td>44.58</td>\n",
       "    </tr>\n",
       "    <tr>\n",
       "      <th>1</th>\n",
       "      <td>Czechia</td>\n",
       "      <td>CZE</td>\n",
       "      <td>2015</td>\n",
       "      <td>44.58</td>\n",
       "    </tr>\n",
       "    <tr>\n",
       "      <th>2</th>\n",
       "      <td>Czechia</td>\n",
       "      <td>CZE</td>\n",
       "      <td>2014</td>\n",
       "      <td>44.58</td>\n",
       "    </tr>\n",
       "    <tr>\n",
       "      <th>3</th>\n",
       "      <td>Czechia</td>\n",
       "      <td>CZE</td>\n",
       "      <td>2013</td>\n",
       "      <td>22.12</td>\n",
       "    </tr>\n",
       "    <tr>\n",
       "      <th>4</th>\n",
       "      <td>Czechia</td>\n",
       "      <td>CZE</td>\n",
       "      <td>2012</td>\n",
       "      <td>22.12</td>\n",
       "    </tr>\n",
       "  </tbody>\n",
       "</table>\n",
       "</div>"
      ],
      "text/plain": [
       "   country iso3  year  gov_trust\n",
       "0  Czechia  CZE  2016      44.58\n",
       "1  Czechia  CZE  2015      44.58\n",
       "2  Czechia  CZE  2014      44.58\n",
       "3  Czechia  CZE  2013      22.12\n",
       "4  Czechia  CZE  2012      22.12"
      ]
     },
     "execution_count": 46,
     "metadata": {},
     "output_type": "execute_result"
    }
   ],
   "source": [
    "#getting standardized country name \n",
    "trust_df = trust_df.merge(countries_map, on='iso3', how='left')\n",
    "\n",
    "#reordering\n",
    "trust_df = trust_df[['country', 'iso3', 'year', 'gov_trust']]\n",
    "trust_df.head()"
   ]
  },
  {
   "cell_type": "markdown",
   "id": "8cc1e61e-2045-4064-9866-d28464415a25",
   "metadata": {},
   "source": [
    " "
   ]
  },
  {
   "cell_type": "markdown",
   "id": "1a6ccc0d-5c7e-4359-bd01-5dc951f9036f",
   "metadata": {},
   "source": [
    "### Polarization"
   ]
  },
  {
   "cell_type": "markdown",
   "id": "2b095087-9fdb-401a-8d45-6316c5629ed7",
   "metadata": {},
   "source": [
    "Data in this section comes from V_Dem (Varieties of Democracy) project and includes multiple variables measuring democracy. For the immunization project, data on polarization will be extracted."
   ]
  },
  {
   "cell_type": "code",
   "execution_count": 47,
   "id": "f6d30dcc-40ae-400f-8363-6ea8d6a6bdb5",
   "metadata": {},
   "outputs": [
    {
     "data": {
      "text/html": [
       "<div>\n",
       "<style scoped>\n",
       "    .dataframe tbody tr th:only-of-type {\n",
       "        vertical-align: middle;\n",
       "    }\n",
       "\n",
       "    .dataframe tbody tr th {\n",
       "        vertical-align: top;\n",
       "    }\n",
       "\n",
       "    .dataframe thead th {\n",
       "        text-align: right;\n",
       "    }\n",
       "</style>\n",
       "<table border=\"1\" class=\"dataframe\">\n",
       "  <thead>\n",
       "    <tr style=\"text-align: right;\">\n",
       "      <th></th>\n",
       "      <th>country_name</th>\n",
       "      <th>country_text_id</th>\n",
       "      <th>country_id</th>\n",
       "      <th>year</th>\n",
       "      <th>historical_date</th>\n",
       "      <th>project</th>\n",
       "      <th>historical</th>\n",
       "      <th>histname</th>\n",
       "      <th>codingstart</th>\n",
       "      <th>codingend</th>\n",
       "      <th>...</th>\n",
       "      <th>v2xex_elecleg</th>\n",
       "      <th>v2xps_party</th>\n",
       "      <th>v2xps_party_codelow</th>\n",
       "      <th>v2xps_party_codehigh</th>\n",
       "      <th>v2x_divparctrl</th>\n",
       "      <th>v2x_feduni</th>\n",
       "      <th>v2xca_academ</th>\n",
       "      <th>v2xca_academ_codelow</th>\n",
       "      <th>v2xca_academ_codehigh</th>\n",
       "      <th>v2xca_academ_sd</th>\n",
       "    </tr>\n",
       "  </thead>\n",
       "  <tbody>\n",
       "    <tr>\n",
       "      <th>0</th>\n",
       "      <td>Mexico</td>\n",
       "      <td>MEX</td>\n",
       "      <td>3</td>\n",
       "      <td>1789</td>\n",
       "      <td>1789-12-31</td>\n",
       "      <td>1</td>\n",
       "      <td>1</td>\n",
       "      <td>Viceroyalty of New Spain</td>\n",
       "      <td>1789</td>\n",
       "      <td>2024</td>\n",
       "      <td>...</td>\n",
       "      <td>0.0</td>\n",
       "      <td>NaN</td>\n",
       "      <td>NaN</td>\n",
       "      <td>NaN</td>\n",
       "      <td>NaN</td>\n",
       "      <td>0.0</td>\n",
       "      <td>NaN</td>\n",
       "      <td>NaN</td>\n",
       "      <td>NaN</td>\n",
       "      <td>NaN</td>\n",
       "    </tr>\n",
       "    <tr>\n",
       "      <th>1</th>\n",
       "      <td>Mexico</td>\n",
       "      <td>MEX</td>\n",
       "      <td>3</td>\n",
       "      <td>1790</td>\n",
       "      <td>1790-12-31</td>\n",
       "      <td>1</td>\n",
       "      <td>1</td>\n",
       "      <td>Viceroyalty of New Spain</td>\n",
       "      <td>1789</td>\n",
       "      <td>2024</td>\n",
       "      <td>...</td>\n",
       "      <td>0.0</td>\n",
       "      <td>NaN</td>\n",
       "      <td>NaN</td>\n",
       "      <td>NaN</td>\n",
       "      <td>NaN</td>\n",
       "      <td>0.0</td>\n",
       "      <td>NaN</td>\n",
       "      <td>NaN</td>\n",
       "      <td>NaN</td>\n",
       "      <td>NaN</td>\n",
       "    </tr>\n",
       "    <tr>\n",
       "      <th>2</th>\n",
       "      <td>Mexico</td>\n",
       "      <td>MEX</td>\n",
       "      <td>3</td>\n",
       "      <td>1791</td>\n",
       "      <td>1791-12-31</td>\n",
       "      <td>1</td>\n",
       "      <td>1</td>\n",
       "      <td>Viceroyalty of New Spain</td>\n",
       "      <td>1789</td>\n",
       "      <td>2024</td>\n",
       "      <td>...</td>\n",
       "      <td>0.0</td>\n",
       "      <td>NaN</td>\n",
       "      <td>NaN</td>\n",
       "      <td>NaN</td>\n",
       "      <td>NaN</td>\n",
       "      <td>0.0</td>\n",
       "      <td>NaN</td>\n",
       "      <td>NaN</td>\n",
       "      <td>NaN</td>\n",
       "      <td>NaN</td>\n",
       "    </tr>\n",
       "    <tr>\n",
       "      <th>3</th>\n",
       "      <td>Mexico</td>\n",
       "      <td>MEX</td>\n",
       "      <td>3</td>\n",
       "      <td>1792</td>\n",
       "      <td>1792-12-31</td>\n",
       "      <td>1</td>\n",
       "      <td>1</td>\n",
       "      <td>Viceroyalty of New Spain</td>\n",
       "      <td>1789</td>\n",
       "      <td>2024</td>\n",
       "      <td>...</td>\n",
       "      <td>0.0</td>\n",
       "      <td>NaN</td>\n",
       "      <td>NaN</td>\n",
       "      <td>NaN</td>\n",
       "      <td>NaN</td>\n",
       "      <td>0.0</td>\n",
       "      <td>NaN</td>\n",
       "      <td>NaN</td>\n",
       "      <td>NaN</td>\n",
       "      <td>NaN</td>\n",
       "    </tr>\n",
       "    <tr>\n",
       "      <th>4</th>\n",
       "      <td>Mexico</td>\n",
       "      <td>MEX</td>\n",
       "      <td>3</td>\n",
       "      <td>1793</td>\n",
       "      <td>1793-12-31</td>\n",
       "      <td>1</td>\n",
       "      <td>1</td>\n",
       "      <td>Viceroyalty of New Spain</td>\n",
       "      <td>1789</td>\n",
       "      <td>2024</td>\n",
       "      <td>...</td>\n",
       "      <td>0.0</td>\n",
       "      <td>NaN</td>\n",
       "      <td>NaN</td>\n",
       "      <td>NaN</td>\n",
       "      <td>NaN</td>\n",
       "      <td>0.0</td>\n",
       "      <td>NaN</td>\n",
       "      <td>NaN</td>\n",
       "      <td>NaN</td>\n",
       "      <td>NaN</td>\n",
       "    </tr>\n",
       "  </tbody>\n",
       "</table>\n",
       "<p>5 rows × 1818 columns</p>\n",
       "</div>"
      ],
      "text/plain": [
       "  country_name country_text_id  country_id  year historical_date  project  \\\n",
       "0       Mexico             MEX           3  1789      1789-12-31        1   \n",
       "1       Mexico             MEX           3  1790      1790-12-31        1   \n",
       "2       Mexico             MEX           3  1791      1791-12-31        1   \n",
       "3       Mexico             MEX           3  1792      1792-12-31        1   \n",
       "4       Mexico             MEX           3  1793      1793-12-31        1   \n",
       "\n",
       "   historical                  histname  codingstart  codingend  ...  \\\n",
       "0           1  Viceroyalty of New Spain         1789       2024  ...   \n",
       "1           1  Viceroyalty of New Spain         1789       2024  ...   \n",
       "2           1  Viceroyalty of New Spain         1789       2024  ...   \n",
       "3           1  Viceroyalty of New Spain         1789       2024  ...   \n",
       "4           1  Viceroyalty of New Spain         1789       2024  ...   \n",
       "\n",
       "   v2xex_elecleg  v2xps_party  v2xps_party_codelow  v2xps_party_codehigh  \\\n",
       "0            0.0          NaN                  NaN                   NaN   \n",
       "1            0.0          NaN                  NaN                   NaN   \n",
       "2            0.0          NaN                  NaN                   NaN   \n",
       "3            0.0          NaN                  NaN                   NaN   \n",
       "4            0.0          NaN                  NaN                   NaN   \n",
       "\n",
       "   v2x_divparctrl  v2x_feduni  v2xca_academ  v2xca_academ_codelow  \\\n",
       "0             NaN         0.0           NaN                   NaN   \n",
       "1             NaN         0.0           NaN                   NaN   \n",
       "2             NaN         0.0           NaN                   NaN   \n",
       "3             NaN         0.0           NaN                   NaN   \n",
       "4             NaN         0.0           NaN                   NaN   \n",
       "\n",
       "   v2xca_academ_codehigh  v2xca_academ_sd  \n",
       "0                    NaN              NaN  \n",
       "1                    NaN              NaN  \n",
       "2                    NaN              NaN  \n",
       "3                    NaN              NaN  \n",
       "4                    NaN              NaN  \n",
       "\n",
       "[5 rows x 1818 columns]"
      ]
     },
     "execution_count": 47,
     "metadata": {},
     "output_type": "execute_result"
    }
   ],
   "source": [
    "pol = pd.read_csv('07_v_dem.csv')\n",
    "pol.head()"
   ]
  },
  {
   "cell_type": "code",
   "execution_count": 48,
   "id": "73fe51dd-4cb7-4564-a3b7-b59264f4e4de",
   "metadata": {},
   "outputs": [],
   "source": [
    "# Selecting relevant columns\n",
    "pol_df = pol[['country_text_id', 'year', 'v2pepwrsoc']]"
   ]
  },
  {
   "cell_type": "code",
   "execution_count": 49,
   "id": "f6f41fea-cb03-4e10-b048-9375d4c63f2f",
   "metadata": {},
   "outputs": [
    {
     "data": {
      "text/html": [
       "<div>\n",
       "<style scoped>\n",
       "    .dataframe tbody tr th:only-of-type {\n",
       "        vertical-align: middle;\n",
       "    }\n",
       "\n",
       "    .dataframe tbody tr th {\n",
       "        vertical-align: top;\n",
       "    }\n",
       "\n",
       "    .dataframe thead th {\n",
       "        text-align: right;\n",
       "    }\n",
       "</style>\n",
       "<table border=\"1\" class=\"dataframe\">\n",
       "  <thead>\n",
       "    <tr style=\"text-align: right;\">\n",
       "      <th></th>\n",
       "      <th>iso3</th>\n",
       "      <th>year</th>\n",
       "      <th>polarization</th>\n",
       "    </tr>\n",
       "  </thead>\n",
       "  <tbody>\n",
       "    <tr>\n",
       "      <th>223</th>\n",
       "      <td>MEX</td>\n",
       "      <td>2012</td>\n",
       "      <td>1.0</td>\n",
       "    </tr>\n",
       "    <tr>\n",
       "      <th>224</th>\n",
       "      <td>MEX</td>\n",
       "      <td>2013</td>\n",
       "      <td>1.0</td>\n",
       "    </tr>\n",
       "    <tr>\n",
       "      <th>225</th>\n",
       "      <td>MEX</td>\n",
       "      <td>2014</td>\n",
       "      <td>1.0</td>\n",
       "    </tr>\n",
       "    <tr>\n",
       "      <th>226</th>\n",
       "      <td>MEX</td>\n",
       "      <td>2015</td>\n",
       "      <td>1.0</td>\n",
       "    </tr>\n",
       "    <tr>\n",
       "      <th>227</th>\n",
       "      <td>MEX</td>\n",
       "      <td>2016</td>\n",
       "      <td>1.0</td>\n",
       "    </tr>\n",
       "  </tbody>\n",
       "</table>\n",
       "</div>"
      ],
      "text/plain": [
       "    iso3  year  polarization\n",
       "223  MEX  2012           1.0\n",
       "224  MEX  2013           1.0\n",
       "225  MEX  2014           1.0\n",
       "226  MEX  2015           1.0\n",
       "227  MEX  2016           1.0"
      ]
     },
     "execution_count": 49,
     "metadata": {},
     "output_type": "execute_result"
    }
   ],
   "source": [
    "# Filter data for years 2012 to 2022\n",
    "pol_df = pol_df[(pol_df['year'] >= 2012) & (pol_df['year'] <= 2022)]\n",
    "\n",
    "#changing column names\n",
    "pol_df = pol_df.set_axis(['iso3', 'year', 'polarization'], axis=1)\n",
    "\n",
    "#rounding values to 2 decimals \n",
    "pol_df['polarization'] = pol_df['polarization'].round(2)\n",
    "pol_df.head()"
   ]
  },
  {
   "cell_type": "code",
   "execution_count": 50,
   "id": "aae8afc7-3ffd-47e2-a543-b3f8519fc4fc",
   "metadata": {},
   "outputs": [
    {
     "data": {
      "text/plain": [
       "iso3    173\n",
       "dtype: int64"
      ]
     },
     "execution_count": 50,
     "metadata": {},
     "output_type": "execute_result"
    }
   ],
   "source": [
    "#filtering data with vaccination countries\n",
    "pol_df = pol_df[pol_df[\"iso3\"].isin(vac_iso_codes)]\n",
    "\n",
    "#checking number of countries\n",
    "pol_df[['iso3']].nunique()"
   ]
  },
  {
   "cell_type": "code",
   "execution_count": 51,
   "id": "9d8e55ca-a10e-40bd-94c3-aa7c024b6ced",
   "metadata": {},
   "outputs": [
    {
     "data": {
      "text/plain": [
       "iso3             object\n",
       "year              int64\n",
       "polarization    float64\n",
       "dtype: object"
      ]
     },
     "execution_count": 51,
     "metadata": {},
     "output_type": "execute_result"
    }
   ],
   "source": [
    "#checking data types\n",
    "pol_df.dtypes"
   ]
  },
  {
   "cell_type": "code",
   "execution_count": 52,
   "id": "746d4930-a833-4eff-9ead-3a5c4f695c0b",
   "metadata": {},
   "outputs": [
    {
     "data": {
      "text/plain": [
       "(1903, 3)"
      ]
     },
     "execution_count": 52,
     "metadata": {},
     "output_type": "execute_result"
    }
   ],
   "source": [
    "#checking shape\n",
    "pol_df.shape"
   ]
  },
  {
   "cell_type": "code",
   "execution_count": 53,
   "id": "16df3fd8-9498-47a8-b7ce-8712fc199658",
   "metadata": {},
   "outputs": [
    {
     "data": {
      "text/plain": [
       "(1903, 3)"
      ]
     },
     "execution_count": 53,
     "metadata": {},
     "output_type": "execute_result"
    }
   ],
   "source": [
    "#dropping empty rows and checking if any were dropped\n",
    "pol_df = pol_df.dropna()\n",
    "pol_df.shape"
   ]
  },
  {
   "cell_type": "code",
   "execution_count": 54,
   "id": "b6828cc3-706c-485f-86b7-513ce3590077",
   "metadata": {},
   "outputs": [
    {
     "data": {
      "text/html": [
       "<div>\n",
       "<style scoped>\n",
       "    .dataframe tbody tr th:only-of-type {\n",
       "        vertical-align: middle;\n",
       "    }\n",
       "\n",
       "    .dataframe tbody tr th {\n",
       "        vertical-align: top;\n",
       "    }\n",
       "\n",
       "    .dataframe thead th {\n",
       "        text-align: right;\n",
       "    }\n",
       "</style>\n",
       "<table border=\"1\" class=\"dataframe\">\n",
       "  <thead>\n",
       "    <tr style=\"text-align: right;\">\n",
       "      <th></th>\n",
       "      <th>country</th>\n",
       "      <th>iso3</th>\n",
       "      <th>year</th>\n",
       "      <th>polarization</th>\n",
       "    </tr>\n",
       "  </thead>\n",
       "  <tbody>\n",
       "    <tr>\n",
       "      <th>0</th>\n",
       "      <td>Mexico</td>\n",
       "      <td>MEX</td>\n",
       "      <td>2012</td>\n",
       "      <td>1.0</td>\n",
       "    </tr>\n",
       "    <tr>\n",
       "      <th>1</th>\n",
       "      <td>Mexico</td>\n",
       "      <td>MEX</td>\n",
       "      <td>2013</td>\n",
       "      <td>1.0</td>\n",
       "    </tr>\n",
       "    <tr>\n",
       "      <th>2</th>\n",
       "      <td>Mexico</td>\n",
       "      <td>MEX</td>\n",
       "      <td>2014</td>\n",
       "      <td>1.0</td>\n",
       "    </tr>\n",
       "    <tr>\n",
       "      <th>3</th>\n",
       "      <td>Mexico</td>\n",
       "      <td>MEX</td>\n",
       "      <td>2015</td>\n",
       "      <td>1.0</td>\n",
       "    </tr>\n",
       "    <tr>\n",
       "      <th>4</th>\n",
       "      <td>Mexico</td>\n",
       "      <td>MEX</td>\n",
       "      <td>2016</td>\n",
       "      <td>1.0</td>\n",
       "    </tr>\n",
       "  </tbody>\n",
       "</table>\n",
       "</div>"
      ],
      "text/plain": [
       "  country iso3  year  polarization\n",
       "0  Mexico  MEX  2012           1.0\n",
       "1  Mexico  MEX  2013           1.0\n",
       "2  Mexico  MEX  2014           1.0\n",
       "3  Mexico  MEX  2015           1.0\n",
       "4  Mexico  MEX  2016           1.0"
      ]
     },
     "execution_count": 54,
     "metadata": {},
     "output_type": "execute_result"
    }
   ],
   "source": [
    "#getting standardized country names\n",
    "pol_df = pol_df.merge(countries_map, on='iso3', how='left')\n",
    "\n",
    "#reordering columns\n",
    "pol_df = pol_df[['country', 'iso3', 'year', 'polarization']]\n",
    "pol_df.head()"
   ]
  },
  {
   "cell_type": "code",
   "execution_count": 55,
   "id": "80a795aa-cdb3-4fc2-9326-1f1ddd28a8ad",
   "metadata": {},
   "outputs": [
    {
     "data": {
      "text/plain": [
       "polarization\n",
       " 1.43    29\n",
       " 1.58    24\n",
       " 1.05    24\n",
       " 2.03    23\n",
       " 0.74    23\n",
       "         ..\n",
       "-0.29     1\n",
       "-2.66     1\n",
       "-1.54     1\n",
       "-1.69     1\n",
       " 2.43     1\n",
       "Name: count, Length: 362, dtype: int64"
      ]
     },
     "execution_count": 55,
     "metadata": {},
     "output_type": "execute_result"
    }
   ],
   "source": [
    "#checking values of polarization as first 5 were '1.0' only\n",
    "pol_df['polarization'].value_counts()"
   ]
  },
  {
   "cell_type": "markdown",
   "id": "2e3e4f56-a9e8-49f8-990c-9494d6c8c864",
   "metadata": {},
   "source": [
    " "
   ]
  },
  {
   "cell_type": "markdown",
   "id": "a08c040f-379d-498b-9b0b-3f12f881d7d6",
   "metadata": {},
   "source": [
    "### Trust - World Values Survey"
   ]
  },
  {
   "cell_type": "markdown",
   "id": "5c8d2928-5792-4211-b350-a3857dd54e93",
   "metadata": {},
   "source": [
    "World Values Survey is a global research project that explores people's values and beliefs, how they change over time, and what social and political impact they have. For this project, data regarding trust (in people, press, government, universities, big companies and who) will be extracted.\n",
    "\n",
    "It includes individual responses on participants, so average country scores will be calculated during data clean-up. "
   ]
  },
  {
   "cell_type": "code",
   "execution_count": null,
   "id": "7ef4b59e-a6b9-436f-b980-dda8f66403f1",
   "metadata": {},
   "outputs": [],
   "source": [
    "#reading the data\n",
    "wvs = pd.read_csv('06_WVS7.csv', low_memory=False)\n",
    "wvs.head()"
   ]
  },
  {
   "cell_type": "code",
   "execution_count": null,
   "id": "f23f5b18-8af8-4943-a9d9-7dd32e54d7af",
   "metadata": {},
   "outputs": [],
   "source": [
    "#choosing applicable columns\n",
    "wvs_df = wvs[['B_COUNTRY_ALPHA', 'A_YEAR', 'Q57', 'Q64', 'Q66', 'Q71', 'Q75', 'Q77', 'Q88']]\n",
    "\n",
    "#renaming columns based on the codebook\n",
    "wvs_df = wvs_df.set_axis(['iso3', 'year', 'poeple_trust', 'church_trust', 'press_trust', 'gov_trust', 'uni_trust', 'comp_trust', 'who_trust'], axis=1)"
   ]
  },
  {
   "cell_type": "code",
   "execution_count": null,
   "id": "f43a7639-b6e0-45af-b2fd-20a14f5781e9",
   "metadata": {},
   "outputs": [],
   "source": [
    "wvs_df.dtypes"
   ]
  },
  {
   "cell_type": "code",
   "execution_count": null,
   "id": "94459bd5-eed0-430e-838c-511cd0a8eda7",
   "metadata": {},
   "outputs": [],
   "source": [
    "#replacing wvs missing values codes (-) with NaN\n",
    "wvs_df.replace([-1, -2, -4, -5], np.NaN, inplace=True)\n",
    "\n",
    "#calculating missing values\n",
    "wvs_df.isna().sum()"
   ]
  },
  {
   "cell_type": "code",
   "execution_count": null,
   "id": "7bf3a514-bd7d-4d15-9095-fe0d987f780d",
   "metadata": {},
   "outputs": [],
   "source": [
    "wvs_df.shape"
   ]
  },
  {
   "cell_type": "code",
   "execution_count": null,
   "id": "a61cb28f-e7d1-4e64-bd41-cc752da6b27f",
   "metadata": {},
   "outputs": [],
   "source": [
    "#calculating mean values for the variables\n",
    "wvs_df = wvs_df.groupby(['iso3', 'year']).mean().round(2).reset_index()\n",
    "wvs_df.head()"
   ]
  },
  {
   "cell_type": "markdown",
   "id": "d580be40-4211-422b-9e38-5bec8a7e2381",
   "metadata": {},
   "source": [
    "Data in WVS data for different countries were collected for different years. As COVID-19 could impact trust values, I'm calculating the number of countries where data was collected pre- and post-covid:"
   ]
  },
  {
   "cell_type": "code",
   "execution_count": null,
   "id": "779a3092-52cf-44ea-92bf-2e53697ed0a2",
   "metadata": {},
   "outputs": [],
   "source": [
    "pre_cov_wvs = wvs_df[wvs_df['year'] < 2020]\n",
    "len(pre_cov_wvs)"
   ]
  },
  {
   "cell_type": "code",
   "execution_count": null,
   "id": "e3ec70d6-2349-4583-aeb1-a28758a5ad2b",
   "metadata": {},
   "outputs": [],
   "source": [
    "post_cov_wvs = wvs_df[wvs_df['year'] > 2019]\n",
    "len(post_cov_wvs)"
   ]
  },
  {
   "cell_type": "markdown",
   "id": "9c1ee8ec-1aa2-41c0-907b-6386d37d2b29",
   "metadata": {},
   "source": [
    "*Post-exploratory analysis note: there is no direct link between the trust and covid_19. It might be moderated by a different variable but anyways the data will the variables from the survey will be included in the trends analysis (no trends over time as data for different years is not available), as insights might be valuable.*"
   ]
  },
  {
   "cell_type": "code",
   "execution_count": null,
   "id": "ca45089c-8b22-47b6-a23f-7767d8fb49eb",
   "metadata": {},
   "outputs": [],
   "source": [
    "wvs_df = wvs_df.drop(['year'], axis=1)"
   ]
  },
  {
   "cell_type": "markdown",
   "id": "8e2532ec-cd5d-4096-bccd-74397661fa23",
   "metadata": {},
   "source": [
    " "
   ]
  },
  {
   "cell_type": "markdown",
   "id": "4d00e1e7-1f0e-46f8-b327-9002bd3bcb22",
   "metadata": {},
   "source": [
    "### Geo Data - USND"
   ]
  },
  {
   "cell_type": "markdown",
   "id": "8eb04f11-38b4-41c5-a447-8ce69b13b954",
   "metadata": {},
   "source": [
    "For regional analysis data for regions and sub-regions standardized by USND."
   ]
  },
  {
   "cell_type": "code",
   "execution_count": null,
   "id": "f7a55dfb-b7d7-417e-b4cc-0871112d8c20",
   "metadata": {},
   "outputs": [],
   "source": [
    "#reading the data\n",
    "geo = pd.read_csv('09_UNSD.csv', sep=';')\n",
    "geo.head()"
   ]
  },
  {
   "cell_type": "code",
   "execution_count": null,
   "id": "623317c8-0e34-4a3c-bd04-d6bba120e16e",
   "metadata": {},
   "outputs": [],
   "source": [
    "#choosing applicable columns\n",
    "geo_df = geo[['Region Name', 'Sub-region Name', 'ISO-alpha3 Code']]\n",
    "\n",
    "#renaming columns\n",
    "geo_df = geo_df.set_axis(['region', 'subregion', 'iso3'], axis=1)\n",
    "geo_df.head()"
   ]
  },
  {
   "cell_type": "markdown",
   "id": "0217e049-c71c-42f0-abef-c0899082f836",
   "metadata": {},
   "source": [
    "## Yearly Data Merge"
   ]
  },
  {
   "cell_type": "code",
   "execution_count": null,
   "id": "4e987d68-4bd4-45d0-8651-ff46af68c59e",
   "metadata": {},
   "outputs": [],
   "source": [
    "# Changing wide tables to long tables\n",
    "v_index_long = v_index_df.melt(id_vars=['country', 'iso3'], var_name='year', value_name='vac_index')\n",
    "gdp_long = gdp_df.melt(id_vars=['country', 'iso3'], var_name='year', value_name='gdp')\n",
    "health_long = health_df.melt(id_vars=['country', 'iso3'], var_name='year', value_name='health_exp')\n",
    "child_mort_long = child_mort_df.melt(id_vars=['country', 'iso3'], var_name='year', value_name='child_mort')\n",
    "internet_long = internet_df.melt(id_vars=['country', 'iso3'], var_name='year', value_name='internet_use')\n",
    "\n",
    "#changing all year values to integer\n",
    "for df in [v_index_long, gdp_long, health_long, child_mort_long, internet_long, trust_df, pol_df]:\n",
    "    df['year'] = df['year'].astype(int)\n",
    "\n",
    "# Merging with country, iso3, year keys including values matching target v_index only\n",
    "from functools import reduce\n",
    "dfs_to_merge = [v_index_long, gdp_long, health_long, child_mort_long, internet_long, trust_df, pol_df]\n",
    "df = reduce(lambda left, right: pd.merge(left, right, on=['country', 'iso3', 'year'], how='left'), dfs_to_merge)\n",
    "\n",
    "#merging with geo data on iso3\n",
    "df = df.merge(geo_df, on='iso3', how='left')\n",
    "\n",
    "# Converting year to int type\n",
    "df['year'] = df['year'].astype(int)\n",
    "\n",
    "#reordering columns\n",
    "df = df[['country', 'region', 'subregion'] + [col for col in df.columns if col not in ['country', 'region', 'subregion']]]\n",
    "\n",
    "df.head()"
   ]
  },
  {
   "cell_type": "markdown",
   "id": "cc12c666-f453-427d-91f7-680c849ce671",
   "metadata": {},
   "source": [
    "Checking what countries are missing for each variable (except gov_trust as this is bonus only with oecd countries):"
   ]
  },
  {
   "cell_type": "code",
   "execution_count": null,
   "id": "1ac965e9-281e-4447-9849-e048d68d90ab",
   "metadata": {},
   "outputs": [],
   "source": [
    "# List of columns to check\n",
    "cols_to_check = ['gdp', 'health_exp', 'child_mort', 'internet_use', 'polarization']\n",
    "\n",
    "# Dictionary to store countries with missing values per column\n",
    "missing_by_column = {}\n",
    "\n",
    "for col in cols_to_check:\n",
    "    missing_countries = df[df[col].isna()]['country'].unique()\n",
    "    missing_by_column[col] = missing_countries\n",
    "\n",
    "# Print the results\n",
    "for col, countries in missing_by_column.items():\n",
    "    print(f\"\\nMissing in '{col}': ({len(countries)} countries)\")\n",
    "    print(sorted(countries))"
   ]
  },
  {
   "cell_type": "markdown",
   "id": "e3fc11f1-39ab-472c-96ab-e74851d810ae",
   "metadata": {},
   "source": [
    "Data for polarization is not crucial for the analysis - the variable will be rather used as a moderator. Thus, for the final analysis only countries missing in gdp, health_exp, child_mort and internet_use will be excluded."
   ]
  },
  {
   "cell_type": "code",
   "execution_count": null,
   "id": "468212a0-a616-4e08-bcc5-53c0a9a00474",
   "metadata": {},
   "outputs": [],
   "source": [
    "# Creating a list of countries with any missing values in selected columns\n",
    "countries_with_missing = df[df[['gdp', 'health_exp', 'child_mort', 'internet_use']].isna().any(axis=1)]['country'].unique()\n",
    "\n",
    "# Removing those countries\n",
    "df_cleaned = df[~df['country'].isin(countries_with_missing)].copy()\n",
    "\n",
    "#final numer of countries\n",
    "print(f\"Number of countries: {df_cleaned['country'].nunique()}\")"
   ]
  },
  {
   "cell_type": "markdown",
   "id": "cb668574-c2e3-4ca4-a168-499a95f98dbb",
   "metadata": {},
   "source": [
    "This is final DataFrame for analysis exploratory analysis and predictions."
   ]
  },
  {
   "cell_type": "code",
   "execution_count": null,
   "id": "b33506e4-140f-4a09-bdb2-9cf34c4ec2b7",
   "metadata": {},
   "outputs": [],
   "source": [
    "df_cleaned.to_csv(\"00_Immunization_db.csv\", index=False)"
   ]
  },
  {
   "cell_type": "markdown",
   "id": "d54eb118-3770-4a5a-8cd0-29436aa77965",
   "metadata": {},
   "source": [
    " "
   ]
  }
 ],
 "metadata": {
  "kernelspec": {
   "display_name": "anaconda-ai-2024.04-py310",
   "language": "python",
   "name": "conda-env-anaconda-ai-2024.04-py310-py"
  },
  "language_info": {
   "codemirror_mode": {
    "name": "ipython",
    "version": 3
   },
   "file_extension": ".py",
   "mimetype": "text/x-python",
   "name": "python",
   "nbconvert_exporter": "python",
   "pygments_lexer": "ipython3",
   "version": "3.10.13"
  }
 },
 "nbformat": 4,
 "nbformat_minor": 5
}
